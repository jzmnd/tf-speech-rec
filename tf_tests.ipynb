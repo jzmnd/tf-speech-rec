{
 "cells": [
  {
   "cell_type": "code",
   "execution_count": 1,
   "metadata": {
    "collapsed": true,
    "deletable": true,
    "editable": true
   },
   "outputs": [],
   "source": [
    "%matplotlib inline"
   ]
  },
  {
   "cell_type": "code",
   "execution_count": 2,
   "metadata": {
    "collapsed": true,
    "deletable": true,
    "editable": true
   },
   "outputs": [],
   "source": [
    "import matplotlib\n",
    "import seaborn as sns\n",
    "import matplotlib.pyplot as plt"
   ]
  },
  {
   "cell_type": "code",
   "execution_count": 3,
   "metadata": {
    "collapsed": true,
    "deletable": true,
    "editable": true
   },
   "outputs": [],
   "source": [
    "import numpy as np\n",
    "import tensorflow as tf"
   ]
  },
  {
   "cell_type": "code",
   "execution_count": 4,
   "metadata": {
    "collapsed": true,
    "deletable": true,
    "editable": true
   },
   "outputs": [],
   "source": [
    "import pandas as pd\n",
    "from scipy import signal\n",
    "from scipy.io import wavfile\n",
    "import seaborn as sns\n",
    "import librosa\n",
    "import librosa.display\n",
    "from sklearn.preprocessing import StandardScaler"
   ]
  },
  {
   "cell_type": "code",
   "execution_count": 5,
   "metadata": {
    "collapsed": true,
    "deletable": true,
    "editable": true
   },
   "outputs": [],
   "source": [
    "import os\n",
    "import sys\n",
    "import re"
   ]
  },
  {
   "cell_type": "code",
   "execution_count": 16,
   "metadata": {
    "collapsed": true
   },
   "outputs": [],
   "source": [
    "import time\n",
    "from datetime import datetime, timedelta"
   ]
  },
  {
   "cell_type": "code",
   "execution_count": 6,
   "metadata": {
    "collapsed": true,
    "deletable": true,
    "editable": true
   },
   "outputs": [],
   "source": [
    "# Tensorflow setup\n",
    "sess = None\n",
    "tf.logging.set_verbosity(tf.logging.INFO)\n",
    "\n",
    "def reset_vars():\n",
    "    \"\"\"Initializes all tf variables\"\"\"\n",
    "    sess.run(tf.global_variables_initializer())\n",
    "\n",
    "def reset_tf():\n",
    "    \"\"\"Closes the current tf session and opens new session\"\"\"\n",
    "    global sess\n",
    "    if sess:\n",
    "        sess.close()\n",
    "    tf.reset_default_graph()\n",
    "    sess = tf.Session()"
   ]
  },
  {
   "cell_type": "code",
   "execution_count": 7,
   "metadata": {
    "collapsed": true
   },
   "outputs": [],
   "source": [
    "# Function to initialize weights with small positive numbers\n",
    "def weight_variable(shape):\n",
    "    initial = tf.truncated_normal(shape, stddev=0.1)\n",
    "    return tf.Variable(initial)\n",
    "\n",
    "# Function to initialize biases with constant positive number\n",
    "def bias_variable(shape):\n",
    "    initial = tf.constant(0.1, shape=shape)\n",
    "    return tf.Variable(initial)"
   ]
  },
  {
   "cell_type": "code",
   "execution_count": 8,
   "metadata": {
    "collapsed": true
   },
   "outputs": [],
   "source": [
    "LABELS_REQUIRED = ['yes', 'no', 'up', 'down', 'left',\n",
    "                   'right', 'on', 'off', 'stop', 'go',\n",
    "                   'silence']"
   ]
  },
  {
   "cell_type": "code",
   "execution_count": 9,
   "metadata": {
    "collapsed": false
   },
   "outputs": [],
   "source": [
    "num2label = {i+1:l for i, l in enumerate(LABELS_REQUIRED)}\n",
    "num2label[0] = 'unknown'\n",
    "label2num = {v:k for k, v in num2label.items()}"
   ]
  },
  {
   "cell_type": "code",
   "execution_count": 10,
   "metadata": {
    "collapsed": true,
    "deletable": true,
    "editable": true
   },
   "outputs": [],
   "source": [
    "reset_tf()\n",
    "\n",
    "# Model parameters\n",
    "melspec_shape = (64, 126)  # Shape of Mel spectrum data\n",
    "melspec_size = 64 * 126\n",
    "mfcc_shape = (19, 126)     # Shape of MFCC data\n",
    "mfcc_size = 19 * 126\n",
    "sf_size = 122              # Length of 1D feature arrays e.g. ZCR and RMSE\n",
    "\n",
    "n_classes = len(label2num)\n",
    "\n",
    "batch_size = 50\n",
    "num_iterations = 5000\n",
    "display_step = 100\n",
    "\n",
    "learning_rate = 2e-4\n",
    "dropout_prob = 0.60         # Dropout, probability to keep units"
   ]
  },
  {
   "cell_type": "code",
   "execution_count": 11,
   "metadata": {
    "collapsed": false
   },
   "outputs": [
    {
     "name": "stdout",
     "output_type": "stream",
     "text": [
      "Total feature size:  10580\n"
     ]
    }
   ],
   "source": [
    "print \"Total feature size:  {}\".format(melspec_size + mfcc_size + sf_size)"
   ]
  },
  {
   "cell_type": "code",
   "execution_count": 18,
   "metadata": {
    "collapsed": true
   },
   "outputs": [],
   "source": [
    "# Placeholder variables input\n",
    "x_mel = tf.placeholder(tf.float32, [None, melspec_size], name='x_mel')\n",
    "x_mfcc = tf.placeholder(tf.float32, [None, mfcc_size], name='x_mfcc')\n",
    "x_zcr = tf.placeholder(tf.float32, [None, sf_size], name='x_zcr')\n",
    "x_rmse = tf.placeholder(tf.float32, [None, sf_size], name='x_rsme')"
   ]
  },
  {
   "cell_type": "code",
   "execution_count": 19,
   "metadata": {
    "collapsed": false
   },
   "outputs": [],
   "source": [
    "# Placeholder variables output\n",
    "y_true = tf.placeholder(tf.float32, shape=[None, n_classes], name='y_true')\n",
    "y_true_class = tf.argmax(y_true, 1)"
   ]
  },
  {
   "cell_type": "code",
   "execution_count": 14,
   "metadata": {
    "collapsed": false
   },
   "outputs": [],
   "source": [
    "dropout = tf.placeholder(tf.float32, name='dropout')"
   ]
  },
  {
   "cell_type": "code",
   "execution_count": 83,
   "metadata": {
    "collapsed": false
   },
   "outputs": [],
   "source": [
    "# Prediction from model\n",
    "y_pred = conv_net_speech_model(x_mel, x_mfcc, x_zcr, x_rmse)"
   ]
  },
  {
   "cell_type": "code",
   "execution_count": 84,
   "metadata": {
    "collapsed": false
   },
   "outputs": [
    {
     "data": {
      "text/plain": [
       "<tf.Tensor 'accuracy:0' shape=() dtype=string>"
      ]
     },
     "execution_count": 84,
     "metadata": {},
     "output_type": "execute_result"
    }
   ],
   "source": [
    "# Cross entropy loss function with softmax then takes mean\n",
    "loss = tf.reduce_mean(tf.nn.softmax_cross_entropy_with_logits(logits=y_pred, labels=y_true))\n",
    "tf.summary.scalar('loss', loss)\n",
    "\n",
    "# Train and backprop gradients function\n",
    "optimizer = tf.train.AdamOptimizer(learning_rate=learning_rate).minimize(loss)\n",
    "\n",
    "# Evaluation and accuracy\n",
    "y_pred_class = tf.argmax(y_pred, 1)\n",
    "correct_prediction = tf.equal(y_pred_class, y_true_class)\n",
    "accuracy = tf.reduce_mean(tf.cast(correct_prediction, tf.float32))\n",
    "tf.summary.scalar('accuracy', accuracy)"
   ]
  },
  {
   "cell_type": "code",
   "execution_count": null,
   "metadata": {
    "collapsed": true
   },
   "outputs": [],
   "source": []
  },
  {
   "cell_type": "code",
   "execution_count": 85,
   "metadata": {
    "collapsed": false
   },
   "outputs": [],
   "source": [
    "# MODEL\n",
    "def conv_net_speech_model(x_mel, x_mfcc, x_zcr, x_rmse, w=None, b=None, d=None):\n",
    "    \n",
    "    # TODO: Build model here!\n",
    "\n",
    "    \n",
    "    \n",
    "    \n",
    "    \n",
    "    \n",
    "    return tf.placeholder(tf.float32, shape=[None, n_classes])"
   ]
  },
  {
   "cell_type": "code",
   "execution_count": 25,
   "metadata": {
    "collapsed": false
   },
   "outputs": [],
   "source": [
    "# TRAINING\n",
    "def run_optimize(num_iterations, min_loss=0):\n",
    "    # Start-time\n",
    "    start_time = time.time()\n",
    "\n",
    "    for i in xrange(num_iterations):\n",
    "        \n",
    "        # TODO: Build training step here!\n",
    "        \n",
    "        \n",
    "        \n",
    "        \n",
    "        if loss_train < min_loss:\n",
    "            break\n",
    "    \n",
    "    # End-time\n",
    "    end_time = time.time()\n",
    "    print \"Time usage: {}\".format(timedelta(seconds=int(round(end_time - start_time))))    \n",
    "    return"
   ]
  },
  {
   "cell_type": "code",
   "execution_count": null,
   "metadata": {
    "collapsed": false
   },
   "outputs": [],
   "source": []
  },
  {
   "cell_type": "code",
   "execution_count": null,
   "metadata": {
    "collapsed": true
   },
   "outputs": [],
   "source": []
  },
  {
   "cell_type": "code",
   "execution_count": null,
   "metadata": {
    "collapsed": true
   },
   "outputs": [],
   "source": []
  },
  {
   "cell_type": "code",
   "execution_count": null,
   "metadata": {
    "collapsed": true
   },
   "outputs": [],
   "source": []
  },
  {
   "cell_type": "code",
   "execution_count": null,
   "metadata": {
    "collapsed": true
   },
   "outputs": [],
   "source": []
  },
  {
   "cell_type": "code",
   "execution_count": null,
   "metadata": {
    "collapsed": true
   },
   "outputs": [],
   "source": []
  },
  {
   "cell_type": "code",
   "execution_count": 20,
   "metadata": {
    "collapsed": true
   },
   "outputs": [],
   "source": [
    "# REFERENCE SIMPLE CONVNET MODEL\n",
    "\n",
    "# Conv and max pooling layers wrapper functions for simplicity\n",
    "def conv2d(x, W, s=1):\n",
    "    return tf.nn.conv2d(x, W, strides=[1, s, s, 1], padding='SAME')\n",
    "\n",
    "\n",
    "def max_pool_2d(x, k=2):\n",
    "    return tf.nn.max_pool(x, ksize=[1, k, k, 1], strides=[1, k, k, 1], padding='SAME')\n",
    "\n",
    "\n",
    "# MODEL\n",
    "def conv_net_model(x, weights, biases, dropout):\n",
    "    # Reshape input (note -1 is used to infer shape)\n",
    "    #   [image number, px width, px height, color channel]\n",
    "    x_image = tf.reshape(x, [-1, 28, 28, 1])  # image is now 28x28\n",
    "\n",
    "    # Layer 1:\n",
    "    conv1 = tf.nn.relu(conv2d(x_image, weights['wc1']) + biases['bc1'])\n",
    "    pool1 = max_pool_2d(conv1)                # image is now 14x14\n",
    "\n",
    "    # Layer 2:\n",
    "    conv2 = tf.nn.relu(conv2d(pool1, weights['wc2']) + biases['bc2'])\n",
    "    pool2 = max_pool_2d(conv2)                # image is now 7x7\n",
    "\n",
    "    # Flatten to fit fc layer\n",
    "    #   [image number, 7*7*64 inputs]\n",
    "    pool2_flat = tf.reshape(pool2, [-1, 3136])\n",
    "    \n",
    "    # Layer 3:\n",
    "    fc1 = tf.nn.relu(tf.matmul(pool2_flat, weights['wd1']) + biases['bd1'])\n",
    "\n",
    "    # Dropout\n",
    "    fc1_drop = tf.nn.dropout(fc1, dropout)\n",
    "\n",
    "    # Readout layer to classify into 10 catagories\n",
    "    y = tf.matmul(fc1_drop, weights['out']) + biases['out']\n",
    "\n",
    "    return y"
   ]
  },
  {
   "cell_type": "code",
   "execution_count": null,
   "metadata": {
    "collapsed": true
   },
   "outputs": [],
   "source": []
  },
  {
   "cell_type": "code",
   "execution_count": null,
   "metadata": {
    "collapsed": true
   },
   "outputs": [],
   "source": []
  }
 ],
 "metadata": {
  "kernelspec": {
   "display_name": "Python 2",
   "language": "python",
   "name": "python2"
  },
  "language_info": {
   "codemirror_mode": {
    "name": "ipython",
    "version": 2
   },
   "file_extension": ".py",
   "mimetype": "text/x-python",
   "name": "python",
   "nbconvert_exporter": "python",
   "pygments_lexer": "ipython2",
   "version": "2.7.14"
  }
 },
 "nbformat": 4,
 "nbformat_minor": 2
}
