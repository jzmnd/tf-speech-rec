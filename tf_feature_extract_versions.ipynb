{
 "cells": [
  {
   "cell_type": "code",
   "execution_count": 2,
   "metadata": {
    "collapsed": true,
    "deletable": true,
    "editable": true
   },
   "outputs": [],
   "source": [
    "%matplotlib inline"
   ]
  },
  {
   "cell_type": "code",
   "execution_count": 3,
   "metadata": {
    "collapsed": true,
    "deletable": true,
    "editable": true
   },
   "outputs": [],
   "source": [
    "import matplotlib\n",
    "import seaborn as sns\n",
    "import matplotlib.pyplot as plt"
   ]
  },
  {
   "cell_type": "code",
   "execution_count": 4,
   "metadata": {
    "collapsed": false,
    "deletable": true,
    "editable": true
   },
   "outputs": [],
   "source": [
    "import tensorflow as tf\n",
    "import numpy as np\n",
    "from tensorflow.contrib import signal"
   ]
  },
  {
   "cell_type": "code",
   "execution_count": 5,
   "metadata": {
    "collapsed": true,
    "deletable": true,
    "editable": true
   },
   "outputs": [],
   "source": [
    "import os\n",
    "import sys\n",
    "import re"
   ]
  },
  {
   "cell_type": "code",
   "execution_count": 6,
   "metadata": {
    "collapsed": true,
    "deletable": true,
    "editable": true
   },
   "outputs": [],
   "source": [
    "BITRATE = 16                      # Bit rate\n",
    "SAMRATE = 16000                   # Sample rate (Hz)\n",
    "SAMTIME = 1000.0 / SAMRATE        # Sample time (ms)\n",
    "MAXAMPS = float(2**BITRATE / 2)   # Max samples amplitute"
   ]
  },
  {
   "cell_type": "code",
   "execution_count": 7,
   "metadata": {
    "collapsed": false,
    "deletable": true,
    "editable": true
   },
   "outputs": [],
   "source": [
    "# Load noise matrix\n",
    "NOISE_CLIP_DIR = './data/noise_clips'\n",
    "NOISE_MATRIX = np.loadtxt(os.path.join(NOISE_CLIP_DIR, 'noise_clips.csv'), delimiter=',')"
   ]
  },
  {
   "cell_type": "code",
   "execution_count": 8,
   "metadata": {
    "collapsed": true,
    "deletable": true,
    "editable": true
   },
   "outputs": [],
   "source": [
    "# Tensorflow setup\n",
    "sess = None\n",
    "tf.logging.set_verbosity(tf.logging.INFO)\n",
    "\n",
    "def reset_vars():\n",
    "    \"\"\"Initializes all tf variables\"\"\"\n",
    "    sess.run(tf.global_variables_initializer())\n",
    "\n",
    "def reset_tf():\n",
    "    \"\"\"Closes the current tf session and opens new session\"\"\"\n",
    "    global sess\n",
    "    if sess:\n",
    "        sess.close()\n",
    "    tf.reset_default_graph()\n",
    "    sess = tf.Session()"
   ]
  },
  {
   "cell_type": "markdown",
   "metadata": {
    "deletable": true,
    "editable": true
   },
   "source": [
    "## Create tensorflow preprocessing functions\n",
    "\n",
    "Need functions for...\n",
    "\n",
    "- Mel spectrogram (use `tf.contrib.signal library`)\n",
    "- MFCCs (use `tf.contrib.signal library`)\n",
    "- Zero crossing rate\n",
    "- RMSE\n",
    "- Window function"
   ]
  },
  {
   "cell_type": "code",
   "execution_count": 9,
   "metadata": {
    "collapsed": true,
    "deletable": true,
    "editable": true
   },
   "outputs": [],
   "source": [
    "reset_tf()"
   ]
  },
  {
   "cell_type": "code",
   "execution_count": 10,
   "metadata": {
    "collapsed": false,
    "deletable": true,
    "editable": true
   },
   "outputs": [],
   "source": [
    "# Test arrays\n",
    "a = tf.placeholder(tf.float32, [16000,], name='a')\n",
    "a2 = tf.placeholder(tf.float32, [5, 16000], name='a2')\n",
    "\n",
    "b = 1.0 * np.arange(16000)\n",
    "b2 = np.array([1.0 * np.arange(16000), 0.2 * np.arange(16000), 0.01 * np.arange(16000)])\n",
    "\n",
    "c = np.array([1,2,4,-5,-6,-1,1,2,1,1,-1,1,4])\n",
    "d = np.array([[1,2,3], [-4,5,6]])\n",
    "d2 = np.array([[[1,2,3], [-4,5,6]],\n",
    "               [[-1,2,3], [-4,5,6]],\n",
    "               [[1,-2,3], [-4,5,6]],\n",
    "               [[1,2,-3], [-4,5,6]]])\n",
    "f = 0.8 * (np.random.rand(16000) - 0.5) + 0.5 * np.sin(0.2 * np.arange(16000)) + 0.5 * np.sin(0.05 * np.arange(16000))"
   ]
  },
  {
   "cell_type": "code",
   "execution_count": 11,
   "metadata": {
    "collapsed": true,
    "deletable": true,
    "editable": true
   },
   "outputs": [],
   "source": [
    "def windower(arr, window=128, hop_length=32, rank=1):\n",
    "    \"\"\"Windower function that divides an array into fixed size windows\"\"\"\n",
    "    overlap = window - hop_length\n",
    "    length = arr.shape[rank - 1]\n",
    "    indexer = tf.range(window)[None, :] + hop_length * tf.range((length - overlap) / hop_length)[:, None]\n",
    "    return tf.gather(arr, indexer, axis=rank - 1)"
   ]
  },
  {
   "cell_type": "code",
   "execution_count": 12,
   "metadata": {
    "collapsed": false,
    "deletable": true,
    "editable": true
   },
   "outputs": [
    {
     "data": {
      "text/plain": [
       "<tf.Tensor 'Gather:0' shape=(497, 128) dtype=float32>"
      ]
     },
     "execution_count": 12,
     "metadata": {},
     "output_type": "execute_result"
    }
   ],
   "source": [
    "windower(a)"
   ]
  },
  {
   "cell_type": "code",
   "execution_count": 13,
   "metadata": {
    "collapsed": false,
    "deletable": true,
    "editable": true
   },
   "outputs": [
    {
     "data": {
      "text/plain": [
       "<tf.Tensor 'GatherV2:0' shape=(5, 497, 128) dtype=float32>"
      ]
     },
     "execution_count": 13,
     "metadata": {},
     "output_type": "execute_result"
    }
   ],
   "source": [
    "windower(a2, rank=2)"
   ]
  },
  {
   "cell_type": "code",
   "execution_count": 14,
   "metadata": {
    "collapsed": false,
    "deletable": true,
    "editable": true
   },
   "outputs": [
    {
     "data": {
      "text/plain": [
       "<tf.Tensor 'GatherV2_1:0' shape=(3, 497, 128) dtype=float64>"
      ]
     },
     "execution_count": 14,
     "metadata": {},
     "output_type": "execute_result"
    }
   ],
   "source": [
    "windower(b2, rank=2)"
   ]
  },
  {
   "cell_type": "code",
   "execution_count": 15,
   "metadata": {
    "collapsed": false,
    "deletable": true,
    "editable": true
   },
   "outputs": [
    {
     "data": {
      "text/plain": [
       "<tf.Tensor 'Gather_1:0' shape=(497, 128) dtype=float64>"
      ]
     },
     "execution_count": 15,
     "metadata": {},
     "output_type": "execute_result"
    }
   ],
   "source": [
    "windower(b, rank=1)"
   ]
  },
  {
   "cell_type": "code",
   "execution_count": 16,
   "metadata": {
    "collapsed": false,
    "deletable": true,
    "editable": true
   },
   "outputs": [
    {
     "data": {
      "text/plain": [
       "array([[[  0.00000000e+00,   1.00000000e+00,   2.00000000e+00, ...,\n",
       "           1.25000000e+02,   1.26000000e+02,   1.27000000e+02],\n",
       "        [  3.20000000e+01,   3.30000000e+01,   3.40000000e+01, ...,\n",
       "           1.57000000e+02,   1.58000000e+02,   1.59000000e+02],\n",
       "        [  6.40000000e+01,   6.50000000e+01,   6.60000000e+01, ...,\n",
       "           1.89000000e+02,   1.90000000e+02,   1.91000000e+02],\n",
       "        ..., \n",
       "        [  1.58080000e+04,   1.58090000e+04,   1.58100000e+04, ...,\n",
       "           1.59330000e+04,   1.59340000e+04,   1.59350000e+04],\n",
       "        [  1.58400000e+04,   1.58410000e+04,   1.58420000e+04, ...,\n",
       "           1.59650000e+04,   1.59660000e+04,   1.59670000e+04],\n",
       "        [  1.58720000e+04,   1.58730000e+04,   1.58740000e+04, ...,\n",
       "           1.59970000e+04,   1.59980000e+04,   1.59990000e+04]],\n",
       "\n",
       "       [[  0.00000000e+00,   2.00000000e-01,   4.00000000e-01, ...,\n",
       "           2.50000000e+01,   2.52000000e+01,   2.54000000e+01],\n",
       "        [  6.40000000e+00,   6.60000000e+00,   6.80000000e+00, ...,\n",
       "           3.14000000e+01,   3.16000000e+01,   3.18000000e+01],\n",
       "        [  1.28000000e+01,   1.30000000e+01,   1.32000000e+01, ...,\n",
       "           3.78000000e+01,   3.80000000e+01,   3.82000000e+01],\n",
       "        ..., \n",
       "        [  3.16160000e+03,   3.16180000e+03,   3.16200000e+03, ...,\n",
       "           3.18660000e+03,   3.18680000e+03,   3.18700000e+03],\n",
       "        [  3.16800000e+03,   3.16820000e+03,   3.16840000e+03, ...,\n",
       "           3.19300000e+03,   3.19320000e+03,   3.19340000e+03],\n",
       "        [  3.17440000e+03,   3.17460000e+03,   3.17480000e+03, ...,\n",
       "           3.19940000e+03,   3.19960000e+03,   3.19980000e+03]],\n",
       "\n",
       "       [[  0.00000000e+00,   1.00000000e-02,   2.00000000e-02, ...,\n",
       "           1.25000000e+00,   1.26000000e+00,   1.27000000e+00],\n",
       "        [  3.20000000e-01,   3.30000000e-01,   3.40000000e-01, ...,\n",
       "           1.57000000e+00,   1.58000000e+00,   1.59000000e+00],\n",
       "        [  6.40000000e-01,   6.50000000e-01,   6.60000000e-01, ...,\n",
       "           1.89000000e+00,   1.90000000e+00,   1.91000000e+00],\n",
       "        ..., \n",
       "        [  1.58080000e+02,   1.58090000e+02,   1.58100000e+02, ...,\n",
       "           1.59330000e+02,   1.59340000e+02,   1.59350000e+02],\n",
       "        [  1.58400000e+02,   1.58410000e+02,   1.58420000e+02, ...,\n",
       "           1.59650000e+02,   1.59660000e+02,   1.59670000e+02],\n",
       "        [  1.58720000e+02,   1.58730000e+02,   1.58740000e+02, ...,\n",
       "           1.59970000e+02,   1.59980000e+02,   1.59990000e+02]]])"
      ]
     },
     "execution_count": 16,
     "metadata": {},
     "output_type": "execute_result"
    }
   ],
   "source": [
    "sess.run(windower(b2, rank=2))"
   ]
  },
  {
   "cell_type": "code",
   "execution_count": 17,
   "metadata": {
    "collapsed": false,
    "deletable": true,
    "editable": true
   },
   "outputs": [],
   "source": [
    "def tf_diff_axis(arr):\n",
    "    \"\"\"Equivalent of np.diff on last axis\"\"\"\n",
    "    return arr[..., 1:] - arr[..., :-1]\n",
    "\n",
    "\n",
    "def zero_crossing(arr, rank=1):\n",
    "    \"\"\"Calculates the zero crossing rate\"\"\"\n",
    "    if rank == 1:\n",
    "        nzc = tf.cast(tf.count_nonzero(tf_diff_axis(tf.sign(arr))), tf.float32)\n",
    "    else:\n",
    "        nzc = tf.cast(tf.count_nonzero(tf_diff_axis(tf.sign(arr)), axis=rank - 1), tf.float32)\n",
    "\n",
    "    arrlen = tf.cast(arr.shape[rank - 1], tf.float32)\n",
    "    return tf.divide(nzc, arrlen, name='zcr')"
   ]
  },
  {
   "cell_type": "code",
   "execution_count": 18,
   "metadata": {
    "collapsed": false,
    "deletable": true,
    "editable": true
   },
   "outputs": [
    {
     "data": {
      "text/plain": [
       "array([[[ 1,  1],\n",
       "        [ 9,  1]],\n",
       "\n",
       "       [[ 3,  1],\n",
       "        [ 9,  1]],\n",
       "\n",
       "       [[-3,  5],\n",
       "        [ 9,  1]],\n",
       "\n",
       "       [[ 1, -5],\n",
       "        [ 9,  1]]])"
      ]
     },
     "execution_count": 18,
     "metadata": {},
     "output_type": "execute_result"
    }
   ],
   "source": [
    "tf_diff_axis(d2)"
   ]
  },
  {
   "cell_type": "code",
   "execution_count": 19,
   "metadata": {
    "collapsed": false,
    "deletable": true,
    "editable": true
   },
   "outputs": [
    {
     "data": {
      "text/plain": [
       "array([[ 1,  2,  3],\n",
       "       [-4,  5,  6]])"
      ]
     },
     "execution_count": 19,
     "metadata": {},
     "output_type": "execute_result"
    }
   ],
   "source": [
    "d"
   ]
  },
  {
   "cell_type": "code",
   "execution_count": 20,
   "metadata": {
    "collapsed": false,
    "deletable": true,
    "editable": true
   },
   "outputs": [
    {
     "data": {
      "text/plain": [
       "array([ 1,  2, -9, -1,  5,  2,  1, -1,  0, -2,  2,  3])"
      ]
     },
     "execution_count": 20,
     "metadata": {},
     "output_type": "execute_result"
    }
   ],
   "source": [
    "tf_diff_axis(c)"
   ]
  },
  {
   "cell_type": "code",
   "execution_count": 21,
   "metadata": {
    "collapsed": false,
    "deletable": true,
    "editable": true
   },
   "outputs": [
    {
     "data": {
      "text/plain": [
       "array([ 0.        ,  0.33333334], dtype=float32)"
      ]
     },
     "execution_count": 21,
     "metadata": {},
     "output_type": "execute_result"
    }
   ],
   "source": [
    "sess.run(zero_crossing(d, rank=2))"
   ]
  },
  {
   "cell_type": "code",
   "execution_count": 22,
   "metadata": {
    "collapsed": false,
    "deletable": true,
    "editable": true
   },
   "outputs": [
    {
     "data": {
      "text/plain": [
       "0.30769232"
      ]
     },
     "execution_count": 22,
     "metadata": {},
     "output_type": "execute_result"
    }
   ],
   "source": [
    "sess.run(zero_crossing(c, rank=1))"
   ]
  },
  {
   "cell_type": "code",
   "execution_count": 23,
   "metadata": {
    "collapsed": false,
    "deletable": true,
    "editable": true
   },
   "outputs": [],
   "source": [
    "def rms_energy(arr, rank=1, maxamps=1.0):\n",
    "    \"\"\"Calculates the RMS energy of the wave\"\"\"\n",
    "    if rank == 1:\n",
    "        return tf.sqrt(tf.reduce_mean(tf.square(arr / maxamps)), name='rmse')\n",
    "    else:\n",
    "        return tf.sqrt(tf.reduce_mean(tf.square(arr / maxamps), axis=rank - 1), name='rmse')"
   ]
  },
  {
   "cell_type": "code",
   "execution_count": 24,
   "metadata": {
    "collapsed": false,
    "deletable": true,
    "editable": true
   },
   "outputs": [
    {
     "data": {
      "text/plain": [
       "array([[  0.00000000e+00,   1.00000000e+00,   2.00000000e+00, ...,\n",
       "          1.25000000e+02,   1.26000000e+02,   1.27000000e+02],\n",
       "       [  3.20000000e+01,   3.30000000e+01,   3.40000000e+01, ...,\n",
       "          1.57000000e+02,   1.58000000e+02,   1.59000000e+02],\n",
       "       [  6.40000000e+01,   6.50000000e+01,   6.60000000e+01, ...,\n",
       "          1.89000000e+02,   1.90000000e+02,   1.91000000e+02],\n",
       "       ..., \n",
       "       [  1.58080000e+04,   1.58090000e+04,   1.58100000e+04, ...,\n",
       "          1.59330000e+04,   1.59340000e+04,   1.59350000e+04],\n",
       "       [  1.58400000e+04,   1.58410000e+04,   1.58420000e+04, ...,\n",
       "          1.59650000e+04,   1.59660000e+04,   1.59670000e+04],\n",
       "       [  1.58720000e+04,   1.58730000e+04,   1.58740000e+04, ...,\n",
       "          1.59970000e+04,   1.59980000e+04,   1.59990000e+04]])"
      ]
     },
     "execution_count": 24,
     "metadata": {},
     "output_type": "execute_result"
    }
   ],
   "source": [
    "# My windower function is faster\n",
    "sess.run(signal.frame(b, 128, 32))"
   ]
  },
  {
   "cell_type": "code",
   "execution_count": 25,
   "metadata": {
    "collapsed": false,
    "deletable": true,
    "editable": true
   },
   "outputs": [],
   "source": [
    "stfts = signal.stft(tf.cast(f, tf.float32), frame_length=256, frame_step=16, fft_length=128)"
   ]
  },
  {
   "cell_type": "code",
   "execution_count": 26,
   "metadata": {
    "collapsed": false,
    "deletable": true,
    "editable": true
   },
   "outputs": [],
   "source": [
    "magnitude_spectrograms = tf.abs(stfts)"
   ]
  },
  {
   "cell_type": "code",
   "execution_count": 27,
   "metadata": {
    "collapsed": false,
    "deletable": true,
    "editable": true
   },
   "outputs": [],
   "source": [
    "# Warp the linear-scale, magnitude spectrograms into the mel-scale\n",
    "num_spectrogram_bins = magnitude_spectrograms.shape[-1].value\n",
    "lower_edge_hertz = 80.0\n",
    "upper_edge_hertz = 7600.0\n",
    "num_mel_bins = 64\n",
    "\n",
    "mel_weight_mat = signal.linear_to_mel_weight_matrix(num_mel_bins,\n",
    "                                                    num_spectrogram_bins,\n",
    "                                                    SAMRATE,\n",
    "                                                    lower_edge_hertz,\n",
    "                                                    upper_edge_hertz)\n",
    "\n",
    "mel_spectrograms = tf.tensordot(magnitude_spectrograms, mel_weight_mat, 1)\n",
    "\n",
    "# Note: Shape inference for tf.tensordot does not currently handle this case\n",
    "mel_spectrograms.set_shape(magnitude_spectrograms.shape[:-1].concatenate(mel_weight_mat.shape[-1:]))"
   ]
  },
  {
   "cell_type": "code",
   "execution_count": 28,
   "metadata": {
    "collapsed": false,
    "deletable": true,
    "editable": true
   },
   "outputs": [],
   "source": [
    "x1 = sess.run(mel_spectrograms)"
   ]
  },
  {
   "cell_type": "code",
   "execution_count": 29,
   "metadata": {
    "collapsed": false,
    "deletable": true,
    "editable": true
   },
   "outputs": [],
   "source": [
    "# Matmul only works for single file, hence use of tensordot\n",
    "x2 = sess.run(tf.matmul(magnitude_spectrograms, mel_weight_mat))"
   ]
  },
  {
   "cell_type": "code",
   "execution_count": 30,
   "metadata": {
    "collapsed": false,
    "deletable": true,
    "editable": true
   },
   "outputs": [
    {
     "data": {
      "image/png": "[encoded data removed]",
      "text/plain": [
       "<matplotlib.figure.Figure at 0x11f80ff50>"
      ]
     },
     "metadata": {},
     "output_type": "display_data"
    }
   ],
   "source": [
    "plt.figure(figsize=(10, 4))\n",
    "plt.pcolormesh(x1.T);"
   ]
  },
  {
   "cell_type": "code",
   "execution_count": 31,
   "metadata": {
    "collapsed": false,
    "deletable": true,
    "editable": true
   },
   "outputs": [
    {
     "data": {
      "image/png": "[encoded data removed]",
      "text/plain": [
       "<matplotlib.figure.Figure at 0x113999d50>"
      ]
     },
     "metadata": {},
     "output_type": "display_data"
    }
   ],
   "source": [
    "plt.plot(f[:500]);"
   ]
  },
  {
   "cell_type": "markdown",
   "metadata": {
    "deletable": true,
    "editable": true
   },
   "source": [
    "## Function for full batch process"
   ]
  },
  {
   "cell_type": "code",
   "execution_count": 32,
   "metadata": {
    "collapsed": false,
    "deletable": true,
    "editable": true
   },
   "outputs": [
    {
     "data": {
      "text/plain": [
       "array([[-0.71797845, -0.86306345, -1.        , ...,  0.00793481,\n",
       "         0.01596118,  0.13812677],\n",
       "       [ 0.27036348,  0.14755699,  0.15768914, ..., -0.09686575,\n",
       "        -0.24463637, -0.36512345],\n",
       "       [-0.06485183, -0.15851314,  0.07629627, ...,  0.16415906,\n",
       "         0.09308145, -0.06280709],\n",
       "       ..., \n",
       "       [ 0.10189928, -0.0955158 ,  0.17062022, ..., -0.14555915,\n",
       "         0.42666877,  0.44093309],\n",
       "       [-0.15319491, -0.18576196,  0.02255593, ..., -0.15782969,\n",
       "         0.00407861, -0.10950439],\n",
       "       [-0.07755269,  0.07310942,  0.18612061, ...,  0.10655091,\n",
       "         0.27504458,  0.18682218]])"
      ]
     },
     "execution_count": 32,
     "metadata": {},
     "output_type": "execute_result"
    }
   ],
   "source": [
    "NOISE_MATRIX"
   ]
  },
  {
   "cell_type": "code",
   "execution_count": 33,
   "metadata": {
    "collapsed": false,
    "deletable": true,
    "editable": true
   },
   "outputs": [],
   "source": [
    "def signalProcessBatch(signals, add_noise=True, noise_factor=0.1, noise_frac=0.75, window=512,\n",
    "                       maxamps=1.0, sr=16000, num_mel_bins=64, num_mfccs=19):\n",
    "    \"\"\"Function to perform all the DSP preprocessing and feature extraction.\n",
    "       Returns the Mel spectrum, MFCCs, ZCR and RMSE.\n",
    "       Works on a batch of num_files files.\n",
    "       Input signals : [num_files, samples]\n",
    "       Output        : [num_files, num_windows, num_mfccs]\"\"\"\n",
    "\n",
    "    if add_noise:\n",
    "        # Checks for both array input and tensor input\n",
    "        num_files = tf.shape(signals)[0]\n",
    "        #try:\n",
    "        #    num_files = signals.shape[0].value\n",
    "        #    if not num_files:\n",
    "        #        num_files = -1\n",
    "        #except AttributeError:\n",
    "        #    num_files = signals.shape[0]\n",
    "\n",
    "        idx = tf.random_uniform((num_files,), 0, NOISE_MATRIX.shape[0], dtype=tf.int32)\n",
    "        noise = tf.cast(tf.gather(NOISE_MATRIX, idx), tf.float32)\n",
    "        nf = tf.cast(tf.greater(tf.random_uniform([num_files, 1]), noise_frac), tf.float32)\n",
    "        \n",
    "        signals = signals + noise_factor * maxamps * noise * nf\n",
    "\n",
    "    hop_length = window / 4\n",
    "    signals32 = tf.cast(signals, tf.float32)\n",
    "    signals_w = windower(signals32, window=window, hop_length=hop_length, rank=2)\n",
    "\n",
    "    zcr = zero_crossing(signals_w, rank=3)\n",
    "    rmse = rms_energy(signals_w, rank=3, maxamps=maxamps)\n",
    "\n",
    "    stfts = signal.stft(signals32, frame_length=window, frame_step=hop_length, fft_length=window)\n",
    "    magnitude_spectrograms = tf.abs(stfts)\n",
    "\n",
    "    num_spectrogram_bins = magnitude_spectrograms.shape[-1].value\n",
    "    lower_edge_hertz = 80.0\n",
    "    upper_edge_hertz = 7600.0\n",
    "\n",
    "    mel_weight_mat = signal.linear_to_mel_weight_matrix(num_mel_bins,\n",
    "                                                        num_spectrogram_bins,\n",
    "                                                        sr,\n",
    "                                                        lower_edge_hertz,\n",
    "                                                        upper_edge_hertz)\n",
    "\n",
    "    mel_spectrograms = tf.tensordot(magnitude_spectrograms, mel_weight_mat, 1)\n",
    "    mel_spectrograms.set_shape(magnitude_spectrograms.shape[:-1].concatenate(mel_weight_mat.shape[-1:]))\n",
    "\n",
    "    log_offset = 1e-8\n",
    "    log_mel_spectrograms = tf.log(mel_spectrograms + log_offset, name='log_mel_spectrograms')\n",
    "\n",
    "    mfccs = signal.mfccs_from_log_mel_spectrograms(log_mel_spectrograms)[..., :num_mfccs]\n",
    "    mfccs = tf.identity(mfccs, name='mfccs')\n",
    "\n",
    "    return mfccs, log_mel_spectrograms, zcr, rmse"
   ]
  },
  {
   "cell_type": "code",
   "execution_count": 34,
   "metadata": {
    "collapsed": false,
    "deletable": true,
    "editable": true
   },
   "outputs": [
    {
     "data": {
      "text/plain": [
       "5"
      ]
     },
     "execution_count": 34,
     "metadata": {},
     "output_type": "execute_result"
    }
   ],
   "source": [
    "a2.shape[0].value"
   ]
  },
  {
   "cell_type": "code",
   "execution_count": 35,
   "metadata": {
    "collapsed": false,
    "deletable": true,
    "editable": true
   },
   "outputs": [
    {
     "data": {
      "text/plain": [
       "(<tf.Tensor 'mfccs:0' shape=(5, 122, 19) dtype=float32>,\n",
       " <tf.Tensor 'log_mel_spectrograms:0' shape=(5, 122, 64) dtype=float32>,\n",
       " <tf.Tensor 'zcr_2:0' shape=(5, 122) dtype=float32>,\n",
       " <tf.Tensor 'rmse:0' shape=(5, 122) dtype=float32>)"
      ]
     },
     "execution_count": 35,
     "metadata": {},
     "output_type": "execute_result"
    }
   ],
   "source": [
    "signalProcessBatch(a2)"
   ]
  },
  {
   "cell_type": "code",
   "execution_count": 36,
   "metadata": {
    "collapsed": false,
    "deletable": true,
    "editable": true,
    "scrolled": false
   },
   "outputs": [
    {
     "data": {
      "text/plain": [
       "(array([[[ -7.97385645,  20.61150742,   3.75420046, ...,   0.1953465 ,\n",
       "            0.25328481,   0.16136916],\n",
       "         [ -7.88838053,  20.52875328,   3.82384348, ...,   0.18631293,\n",
       "            0.26750574,   0.14367102],\n",
       "         [ -7.77668667,  20.42429161,   3.90994239, ...,   0.24778511,\n",
       "            0.17406394,   0.2419122 ],\n",
       "         ..., \n",
       "         [ -2.18255639,  15.65145779,   6.85610914, ...,   0.61380404,\n",
       "           -0.37004662,   0.52652884],\n",
       "         [ -2.21438909,  15.66157436,   6.85999775, ...,   0.60594964,\n",
       "           -0.20235783,   0.36585033],\n",
       "         [ -2.4410944 ,  15.91108227,   6.62845421, ...,   0.65292984,\n",
       "           -0.37756562,   0.56430495]],\n",
       " \n",
       "        [[  8.06023026,   0.52984411,   5.86458206, ...,   0.04010781,\n",
       "            0.63197255,   0.41365302],\n",
       "         [  7.42860937,   0.54155457,   6.60659933, ...,  -0.09915925,\n",
       "            0.17845654,   0.12949841],\n",
       "         [  7.64222002,   1.01642466,   6.23269939, ...,   0.08059637,\n",
       "            0.0927991 ,   0.34837139],\n",
       "         ..., \n",
       "         [  8.80915928,   0.79041851,   5.1683383 , ...,   0.49203637,\n",
       "            0.42933953,   0.26285899],\n",
       "         [  8.47382832,   0.77042222,   5.53503942, ...,   0.23192787,\n",
       "            0.51493001,   0.29102474],\n",
       "         [  8.05256081,   1.04938388,   5.47994614, ...,   0.41746137,\n",
       "           -0.30828544,  -0.5394066 ]],\n",
       " \n",
       "        [[ -9.27365685,   4.91491985,   2.12041306, ...,   0.52695853,\n",
       "           -0.34863684,   0.10682435],\n",
       "         [ -8.09534931,   5.86155033,   1.97870076, ...,  -0.63558507,\n",
       "            0.21992214,   0.24690597],\n",
       "         [ -6.85075521,   5.96181059,   1.34610987, ...,  -1.24462068,\n",
       "           -0.56237441,   0.49392974],\n",
       "         ..., \n",
       "         [ -9.27175999,   5.30674887,   1.2636317 , ...,  -0.13088264,\n",
       "           -0.1039318 ,  -0.04265138],\n",
       "         [ -9.3476944 ,   5.30676317,   1.82702947, ...,  -0.04694805,\n",
       "            0.39189988,   0.54441756],\n",
       "         [-10.43155289,   5.48795128,   2.58752823, ...,  -0.11153305,\n",
       "            0.05958241,   0.69410878]]], dtype=float32),\n",
       " array([[[ 6.35754156,  5.57671261,  4.96139765, ..., -4.47827196,\n",
       "          -4.69204855, -5.01357889],\n",
       "         [ 6.35754108,  5.57671261,  4.96139669, ..., -4.40189123,\n",
       "          -4.53997803, -5.03211212],\n",
       "         [ 6.35754156,  5.57671356,  4.96139669, ..., -4.42154312,\n",
       "          -4.50182962, -4.71960831],\n",
       "         ..., \n",
       "         [ 6.35752344,  5.57669258,  4.96135807, ..., -2.06854963,\n",
       "          -1.80394149, -2.19253302],\n",
       "         [ 6.3575263 ,  5.57670784,  4.96137428, ..., -2.10125828,\n",
       "          -2.05504227, -2.19774604],\n",
       "         [ 6.35753727,  5.57674122,  4.96139193, ..., -2.19254565,\n",
       "          -1.85012507, -2.26977944]],\n",
       " \n",
       "        [[ 4.74748707,  3.96588969,  3.35700965, ...,  1.45206976,\n",
       "           1.11008215,  1.31619501],\n",
       "         [ 4.74737549,  3.97019839,  3.35258722, ...,  1.54153299,\n",
       "           1.55741107,  1.33559   ],\n",
       "         [ 4.74840212,  3.9678247 ,  3.34863925, ...,  1.13162661,\n",
       "           1.40128148,  1.23609471],\n",
       "         ..., \n",
       "         [ 4.74675703,  3.96886134,  3.35461164, ...,  1.34802997,\n",
       "           1.38127244,  1.2006619 ],\n",
       "         [ 4.74811125,  3.96475434,  3.35485411, ...,  1.23932362,\n",
       "           1.25686574,  1.51307297],\n",
       "         [ 4.74711514,  3.96281505,  3.36135221, ...,  1.02788079,\n",
       "           1.4113996 ,  1.35200298]],\n",
       " \n",
       "        [[ 1.73107266,  0.76735824,  0.55806899, ..., -1.39311481,\n",
       "          -0.70644265, -1.21505892],\n",
       "         [ 1.77253115,  0.91231155,  0.59205323, ..., -1.30073285,\n",
       "          -1.29728103, -1.63662243],\n",
       "         [ 1.67895496,  0.95351291,  0.50201911, ..., -1.09368002,\n",
       "          -1.19213033, -1.92969692],\n",
       "         ..., \n",
       "         [ 1.7309581 ,  1.15795255,  0.4306199 , ..., -1.59929168,\n",
       "          -1.465716  , -1.43836069],\n",
       "         [ 1.76364732,  1.01109338,  0.24333765, ..., -1.73813105,\n",
       "          -1.50093174, -1.56378007],\n",
       "         [ 1.82775521,  0.76352304,  0.352817  , ..., -1.76418161,\n",
       "          -1.64135957, -1.40866351]]], dtype=float32),\n",
       " array([[ 0.00195312,  0.        ,  0.        ,  0.        ,  0.        ,\n",
       "          0.        ,  0.        ,  0.        ,  0.        ,  0.        ,\n",
       "          0.        ,  0.        ,  0.        ,  0.        ,  0.        ,\n",
       "          0.        ,  0.        ,  0.        ,  0.        ,  0.        ,\n",
       "          0.        ,  0.        ,  0.        ,  0.        ,  0.        ,\n",
       "          0.        ,  0.        ,  0.        ,  0.        ,  0.        ,\n",
       "          0.        ,  0.        ,  0.        ,  0.        ,  0.        ,\n",
       "          0.        ,  0.        ,  0.        ,  0.        ,  0.        ,\n",
       "          0.        ,  0.        ,  0.        ,  0.        ,  0.        ,\n",
       "          0.        ,  0.        ,  0.        ,  0.        ,  0.        ,\n",
       "          0.        ,  0.        ,  0.        ,  0.        ,  0.        ,\n",
       "          0.        ,  0.        ,  0.        ,  0.        ,  0.        ,\n",
       "          0.        ,  0.        ,  0.        ,  0.        ,  0.        ,\n",
       "          0.        ,  0.        ,  0.        ,  0.        ,  0.        ,\n",
       "          0.        ,  0.        ,  0.        ,  0.        ,  0.        ,\n",
       "          0.        ,  0.        ,  0.        ,  0.        ,  0.        ,\n",
       "          0.        ,  0.        ,  0.        ,  0.        ,  0.        ,\n",
       "          0.        ,  0.        ,  0.        ,  0.        ,  0.        ,\n",
       "          0.        ,  0.        ,  0.        ,  0.        ,  0.        ,\n",
       "          0.        ,  0.        ,  0.        ,  0.        ,  0.        ,\n",
       "          0.        ,  0.        ,  0.        ,  0.        ,  0.        ,\n",
       "          0.        ,  0.        ,  0.        ,  0.        ,  0.        ,\n",
       "          0.        ,  0.        ,  0.        ,  0.        ,  0.        ,\n",
       "          0.        ,  0.        ,  0.        ,  0.        ,  0.        ,\n",
       "          0.        ,  0.        ],\n",
       "        [ 0.        ,  0.        ,  0.        ,  0.        ,  0.        ,\n",
       "          0.        ,  0.        ,  0.        ,  0.        ,  0.        ,\n",
       "          0.        ,  0.        ,  0.        ,  0.        ,  0.        ,\n",
       "          0.        ,  0.        ,  0.        ,  0.        ,  0.        ,\n",
       "          0.        ,  0.        ,  0.        ,  0.        ,  0.        ,\n",
       "          0.        ,  0.        ,  0.        ,  0.        ,  0.        ,\n",
       "          0.        ,  0.        ,  0.        ,  0.        ,  0.        ,\n",
       "          0.        ,  0.        ,  0.        ,  0.        ,  0.        ,\n",
       "          0.        ,  0.        ,  0.        ,  0.        ,  0.        ,\n",
       "          0.        ,  0.        ,  0.        ,  0.        ,  0.        ,\n",
       "          0.        ,  0.        ,  0.        ,  0.        ,  0.        ,\n",
       "          0.        ,  0.        ,  0.        ,  0.        ,  0.        ,\n",
       "          0.        ,  0.        ,  0.        ,  0.        ,  0.        ,\n",
       "          0.        ,  0.        ,  0.        ,  0.        ,  0.        ,\n",
       "          0.        ,  0.        ,  0.        ,  0.        ,  0.        ,\n",
       "          0.        ,  0.        ,  0.        ,  0.        ,  0.        ,\n",
       "          0.        ,  0.        ,  0.        ,  0.        ,  0.        ,\n",
       "          0.        ,  0.        ,  0.        ,  0.        ,  0.        ,\n",
       "          0.        ,  0.        ,  0.        ,  0.        ,  0.        ,\n",
       "          0.        ,  0.        ,  0.        ,  0.        ,  0.        ,\n",
       "          0.        ,  0.        ,  0.        ,  0.        ,  0.        ,\n",
       "          0.        ,  0.        ,  0.        ,  0.        ,  0.        ,\n",
       "          0.        ,  0.        ,  0.        ,  0.        ,  0.        ,\n",
       "          0.        ,  0.        ,  0.        ,  0.        ,  0.        ,\n",
       "          0.        ,  0.        ],\n",
       "        [ 0.        ,  0.        ,  0.        ,  0.        ,  0.        ,\n",
       "          0.        ,  0.        ,  0.        ,  0.        ,  0.        ,\n",
       "          0.        ,  0.        ,  0.        ,  0.        ,  0.        ,\n",
       "          0.        ,  0.        ,  0.        ,  0.        ,  0.        ,\n",
       "          0.        ,  0.        ,  0.        ,  0.        ,  0.        ,\n",
       "          0.        ,  0.        ,  0.        ,  0.        ,  0.        ,\n",
       "          0.        ,  0.        ,  0.        ,  0.        ,  0.        ,\n",
       "          0.        ,  0.        ,  0.        ,  0.        ,  0.        ,\n",
       "          0.        ,  0.        ,  0.        ,  0.        ,  0.        ,\n",
       "          0.        ,  0.        ,  0.        ,  0.        ,  0.        ,\n",
       "          0.        ,  0.        ,  0.        ,  0.        ,  0.        ,\n",
       "          0.        ,  0.        ,  0.        ,  0.        ,  0.        ,\n",
       "          0.        ,  0.        ,  0.        ,  0.        ,  0.        ,\n",
       "          0.        ,  0.        ,  0.        ,  0.        ,  0.        ,\n",
       "          0.        ,  0.        ,  0.        ,  0.        ,  0.        ,\n",
       "          0.        ,  0.        ,  0.        ,  0.        ,  0.        ,\n",
       "          0.        ,  0.        ,  0.        ,  0.        ,  0.        ,\n",
       "          0.        ,  0.        ,  0.        ,  0.        ,  0.        ,\n",
       "          0.        ,  0.        ,  0.        ,  0.        ,  0.        ,\n",
       "          0.        ,  0.        ,  0.        ,  0.        ,  0.        ,\n",
       "          0.        ,  0.        ,  0.        ,  0.        ,  0.        ,\n",
       "          0.        ,  0.        ,  0.        ,  0.        ,  0.        ,\n",
       "          0.        ,  0.        ,  0.        ,  0.        ,  0.        ,\n",
       "          0.        ,  0.        ,  0.        ,  0.        ,  0.        ,\n",
       "          0.        ,  0.        ]], dtype=float32),\n",
       " array([[  2.95170288e+02,   4.10995697e+02,   5.32425903e+02,\n",
       "           6.56357544e+02,   7.81601624e+02,   9.07614929e+02,\n",
       "           1.03411646e+03,   1.16094653e+03,   1.28800818e+03,\n",
       "           1.41523889e+03,   1.54259692e+03,   1.67005298e+03,\n",
       "           1.79758655e+03,   1.92518164e+03,   2.05282739e+03,\n",
       "           2.18051489e+03,   2.30823682e+03,   2.43598804e+03,\n",
       "           2.56376392e+03,   2.69156128e+03,   2.81937671e+03,\n",
       "           2.94720825e+03,   3.07505444e+03,   3.20291187e+03,\n",
       "           3.33078076e+03,   3.45865918e+03,   3.58654639e+03,\n",
       "           3.71444141e+03,   3.84234399e+03,   3.97025195e+03,\n",
       "           4.09816553e+03,   4.22608496e+03,   4.35400879e+03,\n",
       "           4.48193701e+03,   4.60987012e+03,   4.73780566e+03,\n",
       "           4.86574561e+03,   4.99368799e+03,   5.12163330e+03,\n",
       "           5.24958105e+03,   5.37753174e+03,   5.50548438e+03,\n",
       "           5.63343945e+03,   5.76139648e+03,   5.88935498e+03,\n",
       "           6.01731494e+03,   6.14527734e+03,   6.27324121e+03,\n",
       "           6.40120654e+03,   6.52917285e+03,   6.65714062e+03,\n",
       "           6.78510986e+03,   6.91308008e+03,   7.04105127e+03,\n",
       "           7.16902393e+03,   7.29699756e+03,   7.42497217e+03,\n",
       "           7.55294629e+03,   7.68092188e+03,   7.80889941e+03,\n",
       "           7.93687598e+03,   8.06485400e+03,   8.19283203e+03,\n",
       "           8.32081250e+03,   8.44879199e+03,   8.57677344e+03,\n",
       "           8.70475488e+03,   8.83273633e+03,   8.96071875e+03,\n",
       "           9.08870117e+03,   9.21668457e+03,   9.34466895e+03,\n",
       "           9.47265332e+03,   9.60063770e+03,   9.72862305e+03,\n",
       "           9.85660938e+03,   9.98459375e+03,   1.01125791e+04,\n",
       "           1.02405664e+04,   1.03685537e+04,   1.04965400e+04,\n",
       "           1.06245273e+04,   1.07525166e+04,   1.08805039e+04,\n",
       "           1.10084922e+04,   1.11364795e+04,   1.12644688e+04,\n",
       "           1.13924600e+04,   1.15204482e+04,   1.16484365e+04,\n",
       "           1.17764268e+04,   1.19044180e+04,   1.20324082e+04,\n",
       "           1.21603984e+04,   1.22883877e+04,   1.24163799e+04,\n",
       "           1.25443721e+04,   1.26723623e+04,   1.28003535e+04,\n",
       "           1.29283447e+04,   1.30563369e+04,   1.31843291e+04,\n",
       "           1.33123203e+04,   1.34403135e+04,   1.35683057e+04,\n",
       "           1.36962979e+04,   1.38242900e+04,   1.39522822e+04,\n",
       "           1.40802754e+04,   1.42082695e+04,   1.43362607e+04,\n",
       "           1.44642549e+04,   1.45922480e+04,   1.47202432e+04,\n",
       "           1.48482354e+04,   1.49762314e+04,   1.51042217e+04,\n",
       "           1.52322158e+04,   1.53602090e+04,   1.54882051e+04,\n",
       "           1.56162002e+04,   1.57441943e+04],\n",
       "        [  5.90345383e+01,   8.22000504e+01,   1.06485413e+02,\n",
       "           1.31272385e+02,   1.56319107e+02,   1.81519974e+02,\n",
       "           2.06821228e+02,   2.32186691e+02,   2.57598999e+02,\n",
       "           2.83045166e+02,   3.08517090e+02,   3.34008148e+02,\n",
       "           3.59517090e+02,   3.85037109e+02,   4.10565674e+02,\n",
       "           4.36103668e+02,   4.61647827e+02,   4.87196991e+02,\n",
       "           5.12751953e+02,   5.38310974e+02,   5.63873962e+02,\n",
       "           5.89441284e+02,   6.15012207e+02,   6.40584961e+02,\n",
       "           6.66157043e+02,   6.91734070e+02,   7.17309143e+02,\n",
       "           7.42887390e+02,   7.68469299e+02,   7.94049377e+02,\n",
       "           8.19633606e+02,   8.45218994e+02,   8.70803040e+02,\n",
       "           8.96388367e+02,   9.21974670e+02,   9.47561768e+02,\n",
       "           9.73148865e+02,   9.98738586e+02,   1.02432751e+03,\n",
       "           1.04991455e+03,   1.07550537e+03,   1.10109644e+03,\n",
       "           1.12668738e+03,   1.15228186e+03,   1.17787476e+03,\n",
       "           1.20346423e+03,   1.22905664e+03,   1.25464771e+03,\n",
       "           1.28024011e+03,   1.30583411e+03,   1.33142712e+03,\n",
       "           1.35702112e+03,   1.38261511e+03,   1.40820947e+03,\n",
       "           1.43380420e+03,   1.45939758e+03,   1.48499194e+03,\n",
       "           1.51058838e+03,   1.53618384e+03,   1.56178064e+03,\n",
       "           1.58737488e+03,   1.61296973e+03,   1.63856531e+03,\n",
       "           1.66416125e+03,   1.68975830e+03,   1.71535425e+03,\n",
       "           1.74095068e+03,   1.76654700e+03,   1.79214404e+03,\n",
       "           1.81774097e+03,   1.84333777e+03,   1.86893420e+03,\n",
       "           1.89453149e+03,   1.92012744e+03,   1.94572241e+03,\n",
       "           1.97131995e+03,   1.99691687e+03,   2.02251465e+03,\n",
       "           2.04811230e+03,   2.07371045e+03,   2.09930737e+03,\n",
       "           2.12490454e+03,   2.15050220e+03,   2.17609985e+03,\n",
       "           2.20169897e+03,   2.22729663e+03,   2.25289575e+03,\n",
       "           2.27849390e+03,   2.30408984e+03,   2.32968945e+03,\n",
       "           2.35528760e+03,   2.38088452e+03,   2.40648389e+03,\n",
       "           2.43208057e+03,   2.45767676e+03,   2.48327637e+03,\n",
       "           2.50887305e+03,   2.53447192e+03,   2.56007056e+03,\n",
       "           2.58566724e+03,   2.61126660e+03,   2.63686377e+03,\n",
       "           2.66246216e+03,   2.68806128e+03,   2.71365845e+03,\n",
       "           2.73925635e+03,   2.76485522e+03,   2.79045386e+03,\n",
       "           2.81605444e+03,   2.84165405e+03,   2.86725269e+03,\n",
       "           2.89285132e+03,   2.91844800e+03,   2.94404712e+03,\n",
       "           2.96964575e+03,   2.99524512e+03,   3.02084473e+03,\n",
       "           3.04644360e+03,   3.07204321e+03,   3.09764209e+03,\n",
       "           3.12324023e+03,   3.14884033e+03],\n",
       "        [  2.96354604e+00,   4.12383032e+00,   5.33841467e+00,\n",
       "           6.57712221e+00,   7.83102703e+00,   9.09011555e+00,\n",
       "           1.03547726e+01,   1.16242208e+01,   1.28921680e+01,\n",
       "           1.41673784e+01,   1.54406118e+01,   1.67151794e+01,\n",
       "           1.79910088e+01,   1.92651463e+01,   2.05427399e+01,\n",
       "           2.18194828e+01,   2.30960102e+01,   2.43755970e+01,\n",
       "           2.56521549e+01,   2.69290428e+01,   2.82090721e+01,\n",
       "           2.94850655e+01,   3.07652359e+01,   3.20429802e+01,\n",
       "           3.33220444e+01,   3.46002312e+01,   3.58799019e+01,\n",
       "           3.71577911e+01,   3.84376335e+01,   3.97175789e+01,\n",
       "           4.09950333e+01,   4.22769661e+01,   4.35539474e+01,\n",
       "           4.48341637e+01,   4.61124916e+01,   4.73923264e+01,\n",
       "           4.86716461e+01,   4.99515266e+01,   5.12319870e+01,\n",
       "           5.25093689e+01,   5.37898483e+01,   5.50685196e+01,\n",
       "           5.63486671e+01,   5.76270943e+01,   5.89088821e+01,\n",
       "           6.01858521e+01,   6.14661255e+01,   6.27486496e+01,\n",
       "           6.40255585e+01,   6.53072968e+01,   6.65862732e+01,\n",
       "           6.78655701e+01,   6.91448059e+01,   7.04237289e+01,\n",
       "           7.17050018e+01,   7.29833832e+01,   7.42652206e+01,\n",
       "           7.55441132e+01,   7.68230743e+01,   7.81035538e+01,\n",
       "           7.93830566e+01,   8.06629028e+01,   8.19435196e+01,\n",
       "           8.32221375e+01,   8.45012360e+01,   8.57822342e+01,\n",
       "           8.70610123e+01,   8.83420105e+01,   8.96214828e+01,\n",
       "           9.09022980e+01,   9.21794968e+01,   9.34620056e+01,\n",
       "           9.47413177e+01,   9.60204926e+01,   9.73014297e+01,\n",
       "           9.85800781e+01,   9.98608170e+01,   1.01139107e+02,\n",
       "           1.02420380e+02,   1.03700142e+02,   1.04979179e+02,\n",
       "           1.06259438e+02,   1.07539963e+02,   1.08817413e+02,\n",
       "           1.10099411e+02,   1.11380028e+02,   1.12658005e+02,\n",
       "           1.13939728e+02,   1.15218269e+02,   1.16497696e+02,\n",
       "           1.17780655e+02,   1.19058319e+02,   1.20338936e+02,\n",
       "           1.21618561e+02,   1.22897964e+02,   1.24178207e+02,\n",
       "           1.25458405e+02,   1.26739075e+02,   1.28016281e+02,\n",
       "           1.29297745e+02,   1.30577332e+02,   1.31857361e+02,\n",
       "           1.33138611e+02,   1.34417404e+02,   1.35697006e+02,\n",
       "           1.36977936e+02,   1.38257263e+02,   1.39537109e+02,\n",
       "           1.40817673e+02,   1.42096695e+02,   1.43376068e+02,\n",
       "           1.44656830e+02,   1.45936615e+02,   1.47216339e+02,\n",
       "           1.48497147e+02,   1.49776993e+02,   1.51055557e+02,\n",
       "           1.52335754e+02,   1.53616562e+02,   1.54896408e+02,\n",
       "           1.56177032e+02,   1.57456253e+02]], dtype=float32))"
      ]
     },
     "execution_count": 36,
     "metadata": {},
     "output_type": "execute_result"
    }
   ],
   "source": [
    "sess.run(signalProcessBatch(b2))"
   ]
  },
  {
   "cell_type": "code",
   "execution_count": null,
   "metadata": {
    "collapsed": true,
    "deletable": true,
    "editable": true
   },
   "outputs": [],
   "source": []
  },
  {
   "cell_type": "markdown",
   "metadata": {
    "collapsed": true,
    "deletable": true,
    "editable": true
   },
   "source": [
    "## Testing"
   ]
  },
  {
   "cell_type": "code",
   "execution_count": 37,
   "metadata": {
    "collapsed": false,
    "deletable": true,
    "editable": true
   },
   "outputs": [],
   "source": [
    "X_data = tf.placeholder(tf.float32, [None, SAMRATE], name='X_data')"
   ]
  },
  {
   "cell_type": "code",
   "execution_count": 38,
   "metadata": {
    "collapsed": false,
    "deletable": true,
    "editable": true
   },
   "outputs": [
    {
     "data": {
      "text/plain": [
       "<tf.Tensor 'X_data:0' shape=(?, 16000) dtype=float32>"
      ]
     },
     "execution_count": 38,
     "metadata": {},
     "output_type": "execute_result"
    }
   ],
   "source": [
    "X_data"
   ]
  },
  {
   "cell_type": "code",
   "execution_count": 39,
   "metadata": {
    "collapsed": false,
    "deletable": true,
    "editable": true
   },
   "outputs": [
    {
     "data": {
      "text/plain": [
       "(<tf.Tensor 'mfccs_2:0' shape=(5, 122, 19) dtype=float32>,\n",
       " <tf.Tensor 'log_mel_spectrograms_2:0' shape=(5, 122, 64) dtype=float32>,\n",
       " <tf.Tensor 'zcr_4:0' shape=(5, 122) dtype=float32>,\n",
       " <tf.Tensor 'rmse_2:0' shape=(5, 122) dtype=float32>)"
      ]
     },
     "execution_count": 39,
     "metadata": {},
     "output_type": "execute_result"
    }
   ],
   "source": [
    "signalProcessBatch(a2)"
   ]
  },
  {
   "cell_type": "code",
   "execution_count": 40,
   "metadata": {
    "collapsed": false,
    "deletable": true,
    "editable": true
   },
   "outputs": [],
   "source": [
    "test = signalProcessBatch(X_data)"
   ]
  },
  {
   "cell_type": "code",
   "execution_count": 41,
   "metadata": {
    "collapsed": false,
    "deletable": true,
    "editable": true
   },
   "outputs": [
    {
     "data": {
      "text/plain": [
       "Dimension(None)"
      ]
     },
     "execution_count": 41,
     "metadata": {},
     "output_type": "execute_result"
    }
   ],
   "source": [
    "X_data.shape[0]"
   ]
  },
  {
   "cell_type": "code",
   "execution_count": 42,
   "metadata": {
    "collapsed": false,
    "deletable": true,
    "editable": true
   },
   "outputs": [
    {
     "data": {
      "text/plain": [
       "array([[False],\n",
       "       [ True],\n",
       "       [False],\n",
       "       [False],\n",
       "       [False]], dtype=bool)"
      ]
     },
     "execution_count": 42,
     "metadata": {},
     "output_type": "execute_result"
    }
   ],
   "source": [
    "sess.run(tf.greater(tf.random_uniform((5,1)), 0.75))"
   ]
  },
  {
   "cell_type": "code",
   "execution_count": 43,
   "metadata": {
    "collapsed": false,
    "deletable": true,
    "editable": true
   },
   "outputs": [
    {
     "data": {
      "text/plain": [
       "(array([[[ -7.84825420e+00,  -7.00975704e+00,   1.96642864e+00, ...,\n",
       "            5.57062149e-01,  -1.52804896e-01,   7.09766001e-02],\n",
       "         [ -8.31115913e+00,  -6.83206654e+00,   1.68601203e+00, ...,\n",
       "            3.72848392e-01,  -2.72097170e-01,   4.04551834e-01],\n",
       "         [ -9.06225872e+00,  -6.02333593e+00,   1.98536956e+00, ...,\n",
       "            5.72135866e-01,  -2.51268625e-01,  -2.26284847e-01],\n",
       "         ..., \n",
       "         [ -1.40735731e+01,  -9.13378477e-01,   3.59477580e-01, ...,\n",
       "           -5.35454392e-01,  -5.06326616e-01,  -7.87843466e-02],\n",
       "         [ -1.28437471e+01,  -8.00126791e-01,   8.19304109e-01, ...,\n",
       "           -4.60385025e-01,   1.32397205e-01,   6.55912697e-01],\n",
       "         [ -1.15429144e+01,  -1.59686923e+00,   1.42240787e+00, ...,\n",
       "           -1.00579470e-01,   3.54304701e-01,   9.36542675e-02]],\n",
       " \n",
       "        [[ -8.65147495e+00,  -1.52450454e+00,  -2.78553581e+00, ...,\n",
       "           -2.86161155e-01,   2.21733093e-01,   3.54274176e-02],\n",
       "         [ -8.74475956e+00,  -1.75051153e+00,  -2.78951836e+00, ...,\n",
       "           -5.20972788e-01,   5.91215134e-01,   3.64587903e-01],\n",
       "         [ -9.17051315e+00,  -2.82383132e+00,  -3.71238899e+00, ...,\n",
       "           -9.68658149e-01,   1.78701892e-01,  -2.61891663e-01],\n",
       "         ..., \n",
       "         [ -9.53869247e+00,  -1.24721622e+00,  -2.67911005e+00, ...,\n",
       "            2.10445866e-01,   6.36330992e-02,   1.97731450e-01],\n",
       "         [ -8.25560284e+00,  -1.15468240e+00,  -2.71681690e+00, ...,\n",
       "           -3.46810311e-01,  -1.96583837e-01,  -3.43277067e-01],\n",
       "         [ -8.37139511e+00,  -1.69551051e+00,  -3.52618861e+00, ...,\n",
       "           -6.89942777e-01,  -4.87953015e-02,  -4.19098258e-01]],\n",
       " \n",
       "        [[ -1.11413136e+01,  -5.11405945e+00,  -5.31730093e-02, ...,\n",
       "            2.55727023e-01,  -4.86580163e-01,  -2.72595901e-02],\n",
       "         [ -1.21259289e+01,  -6.47966909e+00,  -6.19223893e-01, ...,\n",
       "            6.13472283e-01,   8.85693014e-01,   1.40991282e+00],\n",
       "         [ -1.12996893e+01,  -5.59553385e+00,   3.88223469e-01, ...,\n",
       "            3.88534933e-01,   7.33270347e-01,   1.03170228e+00],\n",
       "         ..., \n",
       "         [ -1.25442343e+01,  -5.11193371e+00,   8.91818106e-01, ...,\n",
       "           -6.07712746e-01,  -1.29043400e-01,   4.99277622e-01],\n",
       "         [ -1.33572702e+01,  -5.15611649e+00,   1.08093023e+00, ...,\n",
       "           -2.10280523e-01,   4.01202768e-01,   9.70567018e-02],\n",
       "         [ -1.42671757e+01,  -6.32791805e+00,   6.14208937e-01, ...,\n",
       "           -8.96365106e-01,   3.21601480e-01,   1.00651932e+00]],\n",
       " \n",
       "        [[ -6.40029144e+00,  -5.71100426e+00,   5.22394896e-01, ...,\n",
       "            1.66911691e-01,   1.49715543e-01,  -4.87405926e-01],\n",
       "         [ -7.66129732e+00,  -6.87435389e+00,  -2.17406079e-02, ...,\n",
       "            9.63646710e-01,   4.18035269e-01,  -7.91130543e-01],\n",
       "         [ -1.06340733e+01,  -6.19650459e+00,   6.43365204e-01, ...,\n",
       "            2.22070947e-01,   7.07666814e-01,  -1.23343594e-01],\n",
       "         ..., \n",
       "         [ -1.19343081e+01,  -6.36414051e+00,   1.74014461e+00, ...,\n",
       "           -4.04027700e-02,   5.05215585e-01,  -7.17582643e-01],\n",
       "         [ -1.26081591e+01,  -6.63892031e+00,   1.16213393e+00, ...,\n",
       "            8.51049066e-01,  -6.90962598e-02,  -8.91573906e-01],\n",
       "         [ -1.22876339e+01,  -6.42458630e+00,   1.29285645e+00, ...,\n",
       "            4.46402431e-01,  -1.16931729e-01,   1.84961215e-01]],\n",
       " \n",
       "        [[ -2.08406204e+02,   1.34869913e-06,   0.00000000e+00, ...,\n",
       "            0.00000000e+00,   1.34869913e-06,   0.00000000e+00],\n",
       "         [ -2.08406204e+02,   1.34869913e-06,   0.00000000e+00, ...,\n",
       "            0.00000000e+00,   1.34869913e-06,   0.00000000e+00],\n",
       "         [ -2.08406204e+02,   1.34869913e-06,   0.00000000e+00, ...,\n",
       "            0.00000000e+00,   1.34869913e-06,   0.00000000e+00],\n",
       "         ..., \n",
       "         [ -2.08406204e+02,   1.34869913e-06,   0.00000000e+00, ...,\n",
       "            0.00000000e+00,   1.34869913e-06,   0.00000000e+00],\n",
       "         [ -2.08406204e+02,   1.34869913e-06,   0.00000000e+00, ...,\n",
       "            0.00000000e+00,   1.34869913e-06,   0.00000000e+00],\n",
       "         [ -2.08406204e+02,   1.34869913e-06,   0.00000000e+00, ...,\n",
       "            0.00000000e+00,   1.34869913e-06,   0.00000000e+00]]], dtype=float32),\n",
       " array([[[ -8.74476254e-01,  -3.50773573e-01,  -5.28059900e-01, ...,\n",
       "            2.86448956e-01,   4.66998279e-01,   4.98573720e-01],\n",
       "         [ -5.70656478e-01,  -1.02369809e+00,  -1.47737467e+00, ...,\n",
       "            6.33703470e-02,   4.02644873e-01,   2.75810540e-01],\n",
       "         [ -9.66752648e-01,  -9.23669755e-01,  -7.50214756e-01, ...,\n",
       "           -2.28251651e-01,   3.15634012e-01,   2.73518953e-02],\n",
       "         ..., \n",
       "         [ -1.23424900e+00,  -4.21867967e-01,  -3.42590004e-01, ...,\n",
       "           -1.34536874e+00,  -1.56137514e+00,  -1.06814957e+00],\n",
       "         [ -6.74020290e-01,  -1.27204633e+00,  -1.14646339e+00, ...,\n",
       "           -8.12809587e-01,  -1.47138751e+00,  -8.39163125e-01],\n",
       "         [ -8.20337832e-01,  -1.42832613e+00,  -9.09541368e-01, ...,\n",
       "           -8.02478969e-01,  -9.85638857e-01,  -7.71951675e-01]],\n",
       " \n",
       "        [[ -1.73487079e+00,  -2.20841146e+00,  -2.38091445e+00, ...,\n",
       "           -7.45630562e-01,  -4.21960235e-01,  -9.17892992e-01],\n",
       "         [ -1.94556665e+00,  -2.54627037e+00,  -2.47627330e+00, ...,\n",
       "           -6.59801602e-01,  -1.15354687e-01,  -7.99793541e-01],\n",
       "         [ -2.47307372e+00,  -3.45701098e+00,  -2.13142061e+00, ...,\n",
       "           -5.48853159e-01,  -3.38777572e-01,  -8.40800703e-01],\n",
       "         ..., \n",
       "         [ -1.83272386e+00,  -2.44030404e+00,  -3.11971569e+00, ...,\n",
       "           -8.21623862e-01,  -6.34395540e-01,  -1.11438406e+00],\n",
       "         [ -2.33011913e+00,  -2.78515363e+00,  -2.39156294e+00, ...,\n",
       "           -6.48405790e-01,  -4.21236187e-01,  -8.03785443e-01],\n",
       "         [ -2.26042175e+00,  -3.14119077e+00,  -2.63667297e+00, ...,\n",
       "           -5.15332222e-01,  -6.17330730e-01,  -6.35020852e-01]],\n",
       " \n",
       "        [[ -1.78782868e+00,  -2.14395642e+00,  -2.03146267e+00, ...,\n",
       "           -3.51194263e-01,  -2.38232091e-01,  -4.36132669e-01],\n",
       "         [ -1.67229700e+00,  -1.68818378e+00,  -2.46079183e+00, ...,\n",
       "           -5.79845309e-01,  -1.66799948e-01,  -1.49234697e-01],\n",
       "         [ -1.05542088e+00,  -1.00052214e+00,  -1.49658966e+00, ...,\n",
       "           -3.78005236e-01,  -4.36907401e-03,  -2.52625108e-01],\n",
       "         ..., \n",
       "         [ -1.25182199e+00,  -1.63841403e+00,  -2.19224048e+00, ...,\n",
       "           -6.08711839e-01,  -1.91570342e-01,  -3.15407366e-01],\n",
       "         [ -1.34352851e+00,  -1.26114190e+00,  -1.74196601e+00, ...,\n",
       "           -5.06106138e-01,  -2.19432965e-01,  -1.85605988e-01],\n",
       "         [ -1.44395900e+00,  -1.37342620e+00,  -2.06954837e+00, ...,\n",
       "           -5.22595167e-01,  -1.45336658e-01,  -4.02167737e-01]],\n",
       " \n",
       "        [[ -9.31369185e-01,  -1.10962903e+00,  -1.85354686e+00, ...,\n",
       "            1.65884584e-01,   4.91633452e-02,  -1.18153714e-01],\n",
       "         [ -1.47529566e+00,  -1.38242841e+00,  -1.86729968e+00, ...,\n",
       "            1.58915445e-01,   1.27548203e-01,  -6.30163476e-02],\n",
       "         [ -1.23706174e+00,  -1.25689149e+00,  -1.44776177e+00, ...,\n",
       "           -1.69876993e-01,  -1.22942202e-01,  -2.39210427e-01],\n",
       "         ..., \n",
       "         [ -1.07790399e+00,  -1.40662348e+00,  -1.92709672e+00, ...,\n",
       "            9.34845209e-02,   3.04349959e-01,   9.86212268e-02],\n",
       "         [ -1.17060876e+00,  -1.29880512e+00,  -1.92050362e+00, ...,\n",
       "           -1.77186385e-01,   6.14887252e-02,  -3.99840236e-01],\n",
       "         [ -1.20049417e+00,  -1.33334088e+00,  -2.04766750e+00, ...,\n",
       "           -4.31798130e-01,  -3.02556213e-02,  -2.38226041e-01]],\n",
       " \n",
       "        [[ -1.84206810e+01,  -1.84206810e+01,  -1.84206810e+01, ...,\n",
       "           -1.84206810e+01,  -1.84206810e+01,  -1.84206810e+01],\n",
       "         [ -1.84206810e+01,  -1.84206810e+01,  -1.84206810e+01, ...,\n",
       "           -1.84206810e+01,  -1.84206810e+01,  -1.84206810e+01],\n",
       "         [ -1.84206810e+01,  -1.84206810e+01,  -1.84206810e+01, ...,\n",
       "           -1.84206810e+01,  -1.84206810e+01,  -1.84206810e+01],\n",
       "         ..., \n",
       "         [ -1.84206810e+01,  -1.84206810e+01,  -1.84206810e+01, ...,\n",
       "           -1.84206810e+01,  -1.84206810e+01,  -1.84206810e+01],\n",
       "         [ -1.84206810e+01,  -1.84206810e+01,  -1.84206810e+01, ...,\n",
       "           -1.84206810e+01,  -1.84206810e+01,  -1.84206810e+01],\n",
       "         [ -1.84206810e+01,  -1.84206810e+01,  -1.84206810e+01, ...,\n",
       "           -1.84206810e+01,  -1.84206810e+01,  -1.84206810e+01]]], dtype=float32),\n",
       " array([[ 0.55078125,  0.55859375,  0.54882812,  0.54296875,  0.51171875,\n",
       "          0.48242188,  0.48242188,  0.44140625,  0.4453125 ,  0.41601562,\n",
       "          0.390625  ,  0.3828125 ,  0.33789062,  0.32617188,  0.28125   ,\n",
       "          0.31835938,  0.33007812,  0.34570312,  0.34765625,  0.29882812,\n",
       "          0.34960938,  0.38867188,  0.390625  ,  0.42773438,  0.40234375,\n",
       "          0.3515625 ,  0.3671875 ,  0.38085938,  0.39257812,  0.43554688,\n",
       "          0.47265625,  0.4140625 ,  0.37890625,  0.37695312,  0.34375   ,\n",
       "          0.3359375 ,  0.31835938,  0.31835938,  0.32617188,  0.34960938,\n",
       "          0.359375  ,  0.3046875 ,  0.29101562,  0.3046875 ,  0.31835938,\n",
       "          0.3671875 ,  0.34765625,  0.34375   ,  0.32226562,  0.28515625,\n",
       "          0.28710938,  0.3046875 ,  0.3515625 ,  0.38867188,  0.45117188,\n",
       "          0.48046875,  0.46484375,  0.43554688,  0.375     ,  0.33398438,\n",
       "          0.28710938,  0.30273438,  0.29882812,  0.28125   ,  0.31445312,\n",
       "          0.27148438,  0.24023438,  0.22070312,  0.23242188,  0.25390625,\n",
       "          0.3046875 ,  0.3046875 ,  0.265625  ,  0.2421875 ,  0.20507812,\n",
       "          0.22070312,  0.22851562,  0.22265625,  0.22460938,  0.22070312,\n",
       "          0.21679688,  0.21679688,  0.24609375,  0.24609375,  0.25976562,\n",
       "          0.28125   ,  0.28320312,  0.26757812,  0.25976562,  0.25195312,\n",
       "          0.23242188,  0.24609375,  0.23242188,  0.23046875,  0.24414062,\n",
       "          0.23242188,  0.23632812,  0.23828125,  0.22265625,  0.24023438,\n",
       "          0.25585938,  0.23828125,  0.23046875,  0.19921875,  0.16992188,\n",
       "          0.15820312,  0.15625   ,  0.1640625 ,  0.18359375,  0.19140625,\n",
       "          0.21289062,  0.22851562,  0.21289062,  0.22851562,  0.23046875,\n",
       "          0.19726562,  0.203125  ,  0.16992188,  0.1640625 ,  0.16992188,\n",
       "          0.18164062,  0.23828125],\n",
       "        [ 0.25      ,  0.265625  ,  0.2578125 ,  0.26757812,  0.25195312,\n",
       "          0.2265625 ,  0.23046875,  0.22070312,  0.22265625,  0.265625  ,\n",
       "          0.28320312,  0.28710938,  0.33398438,  0.34375   ,  0.33789062,\n",
       "          0.38085938,  0.3828125 ,  0.3671875 ,  0.38085938,  0.35742188,\n",
       "          0.31054688,  0.3046875 ,  0.29882812,  0.26757812,  0.24804688,\n",
       "          0.2265625 ,  0.17773438,  0.15429688,  0.15625   ,  0.16015625,\n",
       "          0.17382812,  0.22070312,  0.2265625 ,  0.25195312,  0.26171875,\n",
       "          0.24414062,  0.24414062,  0.22070312,  0.21679688,  0.21484375,\n",
       "          0.23828125,  0.2421875 ,  0.26171875,  0.27148438,  0.25390625,\n",
       "          0.24609375,  0.22070312,  0.203125  ,  0.1953125 ,  0.20117188,\n",
       "          0.1953125 ,  0.19726562,  0.22070312,  0.23632812,  0.24609375,\n",
       "          0.26757812,  0.2421875 ,  0.22851562,  0.2265625 ,  0.203125  ,\n",
       "          0.20898438,  0.22070312,  0.20898438,  0.21289062,  0.21875   ,\n",
       "          0.19335938,  0.21289062,  0.21875   ,  0.20507812,  0.20898438,\n",
       "          0.18359375,  0.16601562,  0.234375  ,  0.26953125,  0.33007812,\n",
       "          0.37695312,  0.328125  ,  0.33203125,  0.30664062,  0.28710938,\n",
       "          0.30859375,  0.27734375,  0.26757812,  0.2578125 ,  0.25      ,\n",
       "          0.25390625,  0.25195312,  0.24804688,  0.21679688,  0.2109375 ,\n",
       "          0.20898438,  0.19921875,  0.22265625,  0.2265625 ,  0.22070312,\n",
       "          0.2109375 ,  0.20507812,  0.20507812,  0.21484375,  0.22070312,\n",
       "          0.22265625,  0.2109375 ,  0.203125  ,  0.21875   ,  0.2109375 ,\n",
       "          0.20703125,  0.21875   ,  0.19726562,  0.16210938,  0.1640625 ,\n",
       "          0.14453125,  0.14453125,  0.1875    ,  0.19140625,  0.19335938,\n",
       "          0.19921875,  0.20898438,  0.21484375,  0.22460938,  0.23242188,\n",
       "          0.22851562,  0.23046875],\n",
       "        [ 0.3359375 ,  0.36523438,  0.38085938,  0.33789062,  0.328125  ,\n",
       "          0.32421875,  0.33789062,  0.33789062,  0.328125  ,  0.32421875,\n",
       "          0.30859375,  0.328125  ,  0.35546875,  0.37304688,  0.37109375,\n",
       "          0.38476562,  0.3671875 ,  0.34765625,  0.3671875 ,  0.36523438,\n",
       "          0.34375   ,  0.3515625 ,  0.328125  ,  0.30859375,  0.3125    ,\n",
       "          0.328125  ,  0.3125    ,  0.32617188,  0.3203125 ,  0.29296875,\n",
       "          0.29882812,  0.28515625,  0.30078125,  0.29492188,  0.33203125,\n",
       "          0.34765625,  0.34179688,  0.34375   ,  0.34179688,  0.29882812,\n",
       "          0.32617188,  0.3125    ,  0.31054688,  0.33007812,  0.31054688,\n",
       "          0.34960938,  0.34765625,  0.35351562,  0.328125  ,  0.3125    ,\n",
       "          0.28125   ,  0.28515625,  0.29882812,  0.3203125 ,  0.32421875,\n",
       "          0.33203125,  0.3359375 ,  0.3203125 ,  0.32421875,  0.328125  ,\n",
       "          0.31054688,  0.3046875 ,  0.296875  ,  0.30664062,  0.32226562,\n",
       "          0.33203125,  0.34570312,  0.33007812,  0.31445312,  0.296875  ,\n",
       "          0.27929688,  0.28125   ,  0.33203125,  0.328125  ,  0.3359375 ,\n",
       "          0.31445312,  0.27929688,  0.31640625,  0.33789062,  0.3671875 ,\n",
       "          0.35742188,  0.328125  ,  0.34765625,  0.35351562,  0.37109375,\n",
       "          0.35742188,  0.31640625,  0.296875  ,  0.28515625,  0.29296875,\n",
       "          0.32617188,  0.32617188,  0.34375   ,  0.33789062,  0.31835938,\n",
       "          0.328125  ,  0.32421875,  0.33203125,  0.32617188,  0.3046875 ,\n",
       "          0.30859375,  0.31445312,  0.296875  ,  0.31640625,  0.29296875,\n",
       "          0.30859375,  0.3125    ,  0.2890625 ,  0.29296875,  0.28125   ,\n",
       "          0.30078125,  0.31445312,  0.30273438,  0.28320312,  0.26953125,\n",
       "          0.28125   ,  0.31640625,  0.3203125 ,  0.30664062,  0.27929688,\n",
       "          0.25195312,  0.265625  ],\n",
       "        [ 0.0703125 ,  0.05859375,  0.046875  ,  0.0390625 ,  0.02734375,\n",
       "          0.04296875,  0.05078125,  0.046875  ,  0.046875  ,  0.04296875,\n",
       "          0.046875  ,  0.0546875 ,  0.0546875 ,  0.04296875,  0.046875  ,\n",
       "          0.04296875,  0.04296875,  0.05859375,  0.046875  ,  0.04296875,\n",
       "          0.0625    ,  0.04296875,  0.05078125,  0.0625    ,  0.05859375,\n",
       "          0.06640625,  0.0625    ,  0.0703125 ,  0.05859375,  0.0625    ,\n",
       "          0.05859375,  0.04296875,  0.046875  ,  0.046875  ,  0.0546875 ,\n",
       "          0.0625    ,  0.05078125,  0.05859375,  0.046875  ,  0.04296875,\n",
       "          0.0390625 ,  0.03125   ,  0.04296875,  0.05078125,  0.05859375,\n",
       "          0.0546875 ,  0.046875  ,  0.05078125,  0.046875  ,  0.046875  ,\n",
       "          0.04882812,  0.0546875 ,  0.07421875,  0.0859375 ,  0.09375   ,\n",
       "          0.07421875,  0.0546875 ,  0.05078125,  0.03515625,  0.05078125,\n",
       "          0.05078125,  0.03125   ,  0.0390625 ,  0.02734375,  0.0390625 ,\n",
       "          0.0625    ,  0.05859375,  0.07421875,  0.078125  ,  0.078125  ,\n",
       "          0.08203125,  0.0625    ,  0.046875  ,  0.02734375,  0.04296875,\n",
       "          0.0625    ,  0.0703125 ,  0.07421875,  0.0546875 ,  0.046875  ,\n",
       "          0.0390625 ,  0.0390625 ,  0.046875  ,  0.046875  ,  0.0625    ,\n",
       "          0.0703125 ,  0.0703125 ,  0.06640625,  0.0546875 ,  0.04296875,\n",
       "          0.04101562,  0.0625    ,  0.05859375,  0.05859375,  0.0546875 ,\n",
       "          0.0234375 ,  0.02734375,  0.046875  ,  0.0546875 ,  0.0859375 ,\n",
       "          0.08984375,  0.07421875,  0.07421875,  0.06640625,  0.078125  ,\n",
       "          0.0703125 ,  0.05859375,  0.05859375,  0.0390625 ,  0.046875  ,\n",
       "          0.0390625 ,  0.02734375,  0.0234375 ,  0.02734375,  0.04296875,\n",
       "          0.04296875,  0.05078125,  0.046875  ,  0.03125   ,  0.0390625 ,\n",
       "          0.03125   ,  0.02734375],\n",
       "        [ 0.        ,  0.        ,  0.        ,  0.        ,  0.        ,\n",
       "          0.        ,  0.        ,  0.        ,  0.        ,  0.        ,\n",
       "          0.        ,  0.        ,  0.        ,  0.        ,  0.        ,\n",
       "          0.        ,  0.        ,  0.        ,  0.        ,  0.        ,\n",
       "          0.        ,  0.        ,  0.        ,  0.        ,  0.        ,\n",
       "          0.        ,  0.        ,  0.        ,  0.        ,  0.        ,\n",
       "          0.        ,  0.        ,  0.        ,  0.        ,  0.        ,\n",
       "          0.        ,  0.        ,  0.        ,  0.        ,  0.        ,\n",
       "          0.        ,  0.        ,  0.        ,  0.        ,  0.        ,\n",
       "          0.        ,  0.        ,  0.        ,  0.        ,  0.        ,\n",
       "          0.        ,  0.        ,  0.        ,  0.        ,  0.        ,\n",
       "          0.        ,  0.        ,  0.        ,  0.        ,  0.        ,\n",
       "          0.        ,  0.        ,  0.        ,  0.        ,  0.        ,\n",
       "          0.        ,  0.        ,  0.        ,  0.        ,  0.        ,\n",
       "          0.        ,  0.        ,  0.        ,  0.        ,  0.        ,\n",
       "          0.        ,  0.        ,  0.        ,  0.        ,  0.        ,\n",
       "          0.        ,  0.        ,  0.        ,  0.        ,  0.        ,\n",
       "          0.        ,  0.        ,  0.        ,  0.        ,  0.        ,\n",
       "          0.        ,  0.        ,  0.        ,  0.        ,  0.        ,\n",
       "          0.        ,  0.        ,  0.        ,  0.        ,  0.        ,\n",
       "          0.        ,  0.        ,  0.        ,  0.        ,  0.        ,\n",
       "          0.        ,  0.        ,  0.        ,  0.        ,  0.        ,\n",
       "          0.        ,  0.        ,  0.        ,  0.        ,  0.        ,\n",
       "          0.        ,  0.        ,  0.        ,  0.        ,  0.        ,\n",
       "          0.        ,  0.        ]], dtype=float32),\n",
       " array([[ 0.02082343,  0.02124478,  0.01879362,  0.01722752,  0.01614965,\n",
       "          0.01496258,  0.01433437,  0.01340388,  0.0124611 ,  0.01264317,\n",
       "          0.0122689 ,  0.01182492,  0.01170602,  0.01107101,  0.01131259,\n",
       "          0.01152435,  0.01137542,  0.01075596,  0.01012935,  0.01032869,\n",
       "          0.00993714,  0.01062348,  0.01088784,  0.01005368,  0.01055987,\n",
       "          0.01044326,  0.01015328,  0.0108474 ,  0.01171797,  0.01260428,\n",
       "          0.01274395,  0.01295488,  0.01221956,  0.01063866,  0.00989733,\n",
       "          0.00955749,  0.00943027,  0.00925831,  0.00945112,  0.00879308,\n",
       "          0.008657  ,  0.00939863,  0.00910584,  0.00916071,  0.00911221,\n",
       "          0.00812915,  0.00868637,  0.00831254,  0.00840345,  0.00915947,\n",
       "          0.01014227,  0.0118888 ,  0.01396174,  0.01481952,  0.01540164,\n",
       "          0.01505239,  0.01342662,  0.01275703,  0.0125237 ,  0.01191474,\n",
       "          0.01195549,  0.01139065,  0.00977297,  0.00934951,  0.00821502,\n",
       "          0.00827997,  0.00859274,  0.00866881,  0.00878461,  0.00853649,\n",
       "          0.00849177,  0.01321989,  0.01804586,  0.01952866,  0.0208943 ,\n",
       "          0.019363  ,  0.01673011,  0.01749638,  0.01851329,  0.02005288,\n",
       "          0.02179997,  0.02300101,  0.02400933,  0.0264522 ,  0.02729591,\n",
       "          0.02842073,  0.02847067,  0.02628168,  0.02549382,  0.02402787,\n",
       "          0.0222395 ,  0.02229241,  0.02066311,  0.01872771,  0.01800088,\n",
       "          0.0168369 ,  0.01766271,  0.01876817,  0.02070461,  0.02126995,\n",
       "          0.02106282,  0.02271116,  0.0238867 ,  0.02426386,  0.02486664,\n",
       "          0.0239586 ,  0.0227344 ,  0.02208802,  0.0201427 ,  0.0192709 ,\n",
       "          0.017119  ,  0.01578541,  0.0159462 ,  0.01398714,  0.01338429,\n",
       "          0.01389406,  0.01363293,  0.01341553,  0.01290188,  0.01156979,\n",
       "          0.0114429 ,  0.01167183],\n",
       "        [ 0.01582416,  0.01502361,  0.01588456,  0.01529289,  0.01590408,\n",
       "          0.01678994,  0.01675614,  0.01652076,  0.01620498,  0.01728476,\n",
       "          0.02431354,  0.02880573,  0.03238526,  0.03417709,  0.03063759,\n",
       "          0.02872578,  0.02559095,  0.02271998,  0.02207952,  0.01952139,\n",
       "          0.01907787,  0.01852513,  0.01745019,  0.01695783,  0.01746659,\n",
       "          0.01812586,  0.0187027 ,  0.01977462,  0.02075124,  0.02017134,\n",
       "          0.02017753,  0.01906382,  0.01631755,  0.01608818,  0.01568872,\n",
       "          0.01510283,  0.01530595,  0.01493035,  0.01483918,  0.01537745,\n",
       "          0.01543626,  0.01567533,  0.01479795,  0.01406958,  0.01312081,\n",
       "          0.0132446 ,  0.01348825,  0.01461652,  0.01743924,  0.01737833,\n",
       "          0.01830016,  0.01784989,  0.01576432,  0.01576559,  0.01509021,\n",
       "          0.01453004,  0.0148355 ,  0.01468242,  0.01537098,  0.01651532,\n",
       "          0.01629307,  0.01640259,  0.01668357,  0.01717759,  0.01734345,\n",
       "          0.01851657,  0.01758823,  0.01753077,  0.01882604,  0.01927283,\n",
       "          0.01976213,  0.01999199,  0.023676  ,  0.02496493,  0.02700355,\n",
       "          0.02762057,  0.02609451,  0.02449842,  0.02437088,  0.02374936,\n",
       "          0.02181995,  0.02098447,  0.01863271,  0.0175225 ,  0.01567967,\n",
       "          0.01586807,  0.0145903 ,  0.01472313,  0.01519475,  0.01512017,\n",
       "          0.01574486,  0.01563979,  0.01569695,  0.01555922,  0.01643369,\n",
       "          0.01655428,  0.01636052,  0.01605658,  0.01556732,  0.01659168,\n",
       "          0.01623028,  0.01646105,  0.0157178 ,  0.01472179,  0.01552395,\n",
       "          0.01583649,  0.01597183,  0.01759837,  0.02416344,  0.02568103,\n",
       "          0.02705792,  0.02665835,  0.02173084,  0.01990061,  0.01869729,\n",
       "          0.01784326,  0.01667927,  0.01557638,  0.01541139,  0.01584221,\n",
       "          0.01581795,  0.01660856],\n",
       "        [ 0.01687267,  0.01679406,  0.01725372,  0.01721481,  0.01637747,\n",
       "          0.01859709,  0.01905028,  0.01881799,  0.01873027,  0.01700895,\n",
       "          0.01640721,  0.01629174,  0.017282  ,  0.01723135,  0.01725273,\n",
       "          0.01836613,  0.01787224,  0.01751429,  0.01832437,  0.01768722,\n",
       "          0.0171717 ,  0.017135  ,  0.0160319 ,  0.01549409,  0.01559555,\n",
       "          0.01567086,  0.01562336,  0.01579694,  0.01583291,  0.0156769 ,\n",
       "          0.01577391,  0.01635283,  0.01661414,  0.01710357,  0.017705  ,\n",
       "          0.01790741,  0.01754008,  0.01713317,  0.01716706,  0.01591226,\n",
       "          0.01597041,  0.01616045,  0.01618145,  0.01659161,  0.01694619,\n",
       "          0.01710559,  0.01713957,  0.01701347,  0.01657095,  0.01648643,\n",
       "          0.01581384,  0.0157692 ,  0.01564721,  0.01685343,  0.01733398,\n",
       "          0.01806151,  0.01895958,  0.01773524,  0.01707569,  0.01653637,\n",
       "          0.01539387,  0.01504899,  0.01586662,  0.01597056,  0.01632839,\n",
       "          0.01659597,  0.01621643,  0.01583044,  0.01591297,  0.01573335,\n",
       "          0.01592935,  0.01683151,  0.01617441,  0.01611401,  0.01547818,\n",
       "          0.01482114,  0.01510687,  0.01599645,  0.01635834,  0.01651485,\n",
       "          0.01693824,  0.01619586,  0.01647258,  0.01700973,  0.01694859,\n",
       "          0.01685531,  0.01643403,  0.01568607,  0.01615617,  0.01722024,\n",
       "          0.01735598,  0.01681091,  0.01639258,  0.01517842,  0.01562541,\n",
       "          0.0162018 ,  0.01587876,  0.01659408,  0.01621505,  0.01677818,\n",
       "          0.01652346,  0.01609242,  0.01621791,  0.01549038,  0.01575057,\n",
       "          0.01556742,  0.01509025,  0.0148613 ,  0.01538913,  0.01554408,\n",
       "          0.01577713,  0.01613867,  0.01550313,  0.01622943,  0.01623144,\n",
       "          0.01591522,  0.0162068 ,  0.01533334,  0.01516182,  0.01492196,\n",
       "          0.01444232,  0.01470891],\n",
       "        [ 0.02914897,  0.02928732,  0.02835393,  0.02703961,  0.02597799,\n",
       "          0.02594921,  0.02709446,  0.02729151,  0.02767277,  0.02745457,\n",
       "          0.02686584,  0.02704002,  0.02757382,  0.02812777,  0.0284075 ,\n",
       "          0.02843736,  0.02805053,  0.0282019 ,  0.0274455 ,  0.02709944,\n",
       "          0.02702948,  0.02603008,  0.02641218,  0.02660186,  0.0271159 ,\n",
       "          0.02738629,  0.02755667,  0.02750711,  0.02722243,  0.02730749,\n",
       "          0.02707386,  0.02704289,  0.02717081,  0.02775204,  0.02791839,\n",
       "          0.0278581 ,  0.02757072,  0.027171  ,  0.02695768,  0.02740436,\n",
       "          0.0276169 ,  0.02805092,  0.02807259,  0.02805766,  0.02803339,\n",
       "          0.02771287,  0.02776127,  0.02733955,  0.02717191,  0.02687435,\n",
       "          0.02688222,  0.02718401,  0.02712879,  0.02767156,  0.0280138 ,\n",
       "          0.02781382,  0.02816118,  0.02752635,  0.02659739,  0.02714715,\n",
       "          0.02711187,  0.0274315 ,  0.02840684,  0.02789585,  0.02868734,\n",
       "          0.02873884,  0.02870847,  0.02868738,  0.02760992,  0.02752273,\n",
       "          0.02715058,  0.02757535,  0.02829393,  0.02857897,  0.02886091,\n",
       "          0.02896797,  0.02849273,  0.02870476,  0.02839621,  0.02788616,\n",
       "          0.02742925,  0.02669401,  0.02713357,  0.02721922,  0.02787146,\n",
       "          0.02836371,  0.02758563,  0.02825329,  0.02799792,  0.02764459,\n",
       "          0.02751761,  0.02744471,  0.02718257,  0.02739087,  0.02747591,\n",
       "          0.02668629,  0.0274794 ,  0.02791324,  0.02824835,  0.02794423,\n",
       "          0.02799362,  0.02725942,  0.02714755,  0.02749105,  0.02716082,\n",
       "          0.02740848,  0.02786916,  0.02851813,  0.02794578,  0.02797519,\n",
       "          0.02807125,  0.02797812,  0.02815812,  0.02831791,  0.02781746,\n",
       "          0.02744401,  0.02784157,  0.02798321,  0.02831761,  0.02832136,\n",
       "          0.02773893,  0.02695982],\n",
       "        [ 0.        ,  0.        ,  0.        ,  0.        ,  0.        ,\n",
       "          0.        ,  0.        ,  0.        ,  0.        ,  0.        ,\n",
       "          0.        ,  0.        ,  0.        ,  0.        ,  0.        ,\n",
       "          0.        ,  0.        ,  0.        ,  0.        ,  0.        ,\n",
       "          0.        ,  0.        ,  0.        ,  0.        ,  0.        ,\n",
       "          0.        ,  0.        ,  0.        ,  0.        ,  0.        ,\n",
       "          0.        ,  0.        ,  0.        ,  0.        ,  0.        ,\n",
       "          0.        ,  0.        ,  0.        ,  0.        ,  0.        ,\n",
       "          0.        ,  0.        ,  0.        ,  0.        ,  0.        ,\n",
       "          0.        ,  0.        ,  0.        ,  0.        ,  0.        ,\n",
       "          0.        ,  0.        ,  0.        ,  0.        ,  0.        ,\n",
       "          0.        ,  0.        ,  0.        ,  0.        ,  0.        ,\n",
       "          0.        ,  0.        ,  0.        ,  0.        ,  0.        ,\n",
       "          0.        ,  0.        ,  0.        ,  0.        ,  0.        ,\n",
       "          0.        ,  0.        ,  0.        ,  0.        ,  0.        ,\n",
       "          0.        ,  0.        ,  0.        ,  0.        ,  0.        ,\n",
       "          0.        ,  0.        ,  0.        ,  0.        ,  0.        ,\n",
       "          0.        ,  0.        ,  0.        ,  0.        ,  0.        ,\n",
       "          0.        ,  0.        ,  0.        ,  0.        ,  0.        ,\n",
       "          0.        ,  0.        ,  0.        ,  0.        ,  0.        ,\n",
       "          0.        ,  0.        ,  0.        ,  0.        ,  0.        ,\n",
       "          0.        ,  0.        ,  0.        ,  0.        ,  0.        ,\n",
       "          0.        ,  0.        ,  0.        ,  0.        ,  0.        ,\n",
       "          0.        ,  0.        ,  0.        ,  0.        ,  0.        ,\n",
       "          0.        ,  0.        ]], dtype=float32))"
      ]
     },
     "execution_count": 43,
     "metadata": {},
     "output_type": "execute_result"
    }
   ],
   "source": [
    "sess.run(test, feed_dict={X_data:np.zeros((5,16000))})"
   ]
  },
  {
   "cell_type": "code",
   "execution_count": 44,
   "metadata": {
    "collapsed": true,
    "deletable": true,
    "editable": true
   },
   "outputs": [],
   "source": []
  },
  {
   "cell_type": "code",
   "execution_count": 45,
   "metadata": {
    "collapsed": false
   },
   "outputs": [
    {
     "data": {
      "text/plain": [
       "array([[  0.00000000e+00,   1.00000000e+00,   2.00000000e+00, ...,\n",
       "          1.59970000e+04,   1.59980000e+04,   1.59990000e+04],\n",
       "       [  0.00000000e+00,   2.00000000e-01,   4.00000000e-01, ...,\n",
       "          3.19940000e+03,   3.19960000e+03,   3.19980000e+03],\n",
       "       [  0.00000000e+00,   1.00000000e-02,   2.00000000e-02, ...,\n",
       "          1.59970000e+02,   1.59980000e+02,   1.59990000e+02]])"
      ]
     },
     "execution_count": 45,
     "metadata": {},
     "output_type": "execute_result"
    }
   ],
   "source": [
    "b2"
   ]
  },
  {
   "cell_type": "code",
   "execution_count": 46,
   "metadata": {
    "collapsed": true
   },
   "outputs": [],
   "source": [
    "X_mfccs, X_log_mel_spectrograms, X_zcr, X_rmse = sess.run(signalProcessBatch(b2))"
   ]
  },
  {
   "cell_type": "code",
   "execution_count": 48,
   "metadata": {
    "collapsed": false
   },
   "outputs": [
    {
     "data": {
      "text/plain": [
       "(3, 122, 19)"
      ]
     },
     "execution_count": 48,
     "metadata": {},
     "output_type": "execute_result"
    }
   ],
   "source": [
    "X_mfccs.shape"
   ]
  },
  {
   "cell_type": "code",
   "execution_count": 58,
   "metadata": {
    "collapsed": false
   },
   "outputs": [
    {
     "data": {
      "image/png": "[encoded data removed]",
      "text/plain": [
       "<matplotlib.figure.Figure at 0x121fd1cd0>"
      ]
     },
     "metadata": {},
     "output_type": "display_data"
    }
   ],
   "source": [
    "plt.pcolormesh(X_mfccs[0].T)\n",
    "plt.colorbar();"
   ]
  },
  {
   "cell_type": "code",
   "execution_count": 66,
   "metadata": {
    "collapsed": false
   },
   "outputs": [],
   "source": [
    "X_mfccs_norm = sess.run(tf.nn.l2_normalize(X_mfccs, 1, epsilon=1e-8))"
   ]
  },
  {
   "cell_type": "code",
   "execution_count": 67,
   "metadata": {
    "collapsed": false
   },
   "outputs": [
    {
     "data": {
      "image/png": "[encoded data removed]",
      "text/plain": [
       "<matplotlib.figure.Figure at 0x126ecc050>"
      ]
     },
     "metadata": {},
     "output_type": "display_data"
    }
   ],
   "source": [
    "plt.pcolormesh(X_mfccs_norm[0].T)\n",
    "plt.colorbar();"
   ]
  },
  {
   "cell_type": "code",
   "execution_count": 79,
   "metadata": {
    "collapsed": false
   },
   "outputs": [
    {
     "data": {
      "image/png": "[encoded data removed]",
      "text/plain": [
       "<matplotlib.figure.Figure at 0x126abc3d0>"
      ]
     },
     "metadata": {},
     "output_type": "display_data"
    }
   ],
   "source": [
    "plt.plot(X_mfccs_norm[0].T[2]);"
   ]
  },
  {
   "cell_type": "code",
   "execution_count": null,
   "metadata": {
    "collapsed": true
   },
   "outputs": [],
   "source": []
  }
 ],
 "metadata": {
  "kernelspec": {
   "display_name": "Python 2",
   "language": "python",
   "name": "python2"
  },
  "language_info": {
   "codemirror_mode": {
    "name": "ipython",
    "version": 2
   },
   "file_extension": ".py",
   "mimetype": "text/x-python",
   "name": "python",
   "nbconvert_exporter": "python",
   "pygments_lexer": "ipython2",
   "version": "2.7.14"
  }
 },
 "nbformat": 4,
 "nbformat_minor": 2
}
