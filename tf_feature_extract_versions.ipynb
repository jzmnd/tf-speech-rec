{
 "cells": [
  {
   "cell_type": "code",
   "execution_count": 20,
   "metadata": {
    "collapsed": true,
    "deletable": true,
    "editable": true
   },
   "outputs": [],
   "source": [
    "%matplotlib inline"
   ]
  },
  {
   "cell_type": "code",
   "execution_count": 21,
   "metadata": {
    "collapsed": true,
    "deletable": true,
    "editable": true
   },
   "outputs": [],
   "source": [
    "import matplotlib\n",
    "import seaborn as sns\n",
    "import matplotlib.pyplot as plt"
   ]
  },
  {
   "cell_type": "code",
   "execution_count": 22,
   "metadata": {
    "collapsed": false,
    "deletable": true,
    "editable": true
   },
   "outputs": [],
   "source": [
    "import tensorflow as tf\n",
    "import numpy as np\n",
    "from tensorflow.contrib import signal"
   ]
  },
  {
   "cell_type": "code",
   "execution_count": 23,
   "metadata": {
    "collapsed": true,
    "deletable": true,
    "editable": true
   },
   "outputs": [],
   "source": [
    "import os\n",
    "import sys\n",
    "import re"
   ]
  },
  {
   "cell_type": "code",
   "execution_count": 24,
   "metadata": {
    "collapsed": true,
    "deletable": true,
    "editable": true
   },
   "outputs": [],
   "source": [
    "BITRATE = 16                      # Bit rate\n",
    "SAMRATE = 16000                   # Sample rate (Hz)\n",
    "SAMTIME = 1000.0 / SAMRATE        # Sample time (ms)\n",
    "MAXAMPS = float(2**BITRATE / 2)   # Max samples amplitute"
   ]
  },
  {
   "cell_type": "code",
   "execution_count": 25,
   "metadata": {
    "collapsed": false
   },
   "outputs": [],
   "source": [
    "# Load noise matrix\n",
    "NOISE_CLIP_DIR = './data/noise_clips'\n",
    "NOISE_MATRIX = np.loadtxt(os.path.join(NOISE_CLIP_DIR, 'noise_clips.csv'), delimiter=',')"
   ]
  },
  {
   "cell_type": "code",
   "execution_count": 26,
   "metadata": {
    "collapsed": true,
    "deletable": true,
    "editable": true
   },
   "outputs": [],
   "source": [
    "# Tensorflow setup\n",
    "sess = None\n",
    "tf.logging.set_verbosity(tf.logging.INFO)\n",
    "\n",
    "def reset_vars():\n",
    "    \"\"\"Initializes all tf variables\"\"\"\n",
    "    sess.run(tf.global_variables_initializer())\n",
    "\n",
    "def reset_tf():\n",
    "    \"\"\"Closes the current tf session and opens new session\"\"\"\n",
    "    global sess\n",
    "    if sess:\n",
    "        sess.close()\n",
    "    tf.reset_default_graph()\n",
    "    sess = tf.Session()"
   ]
  },
  {
   "cell_type": "markdown",
   "metadata": {
    "deletable": true,
    "editable": true
   },
   "source": [
    "## Create tensorflow preprocessing functions\n",
    "\n",
    "Need functions for...\n",
    "\n",
    "- Mel spectrogram (use `tf.contrib.signal library`)\n",
    "- MFCCs (use `tf.contrib.signal library`)\n",
    "- Zero crossing rate\n",
    "- RMSE\n",
    "- Window function"
   ]
  },
  {
   "cell_type": "code",
   "execution_count": 27,
   "metadata": {
    "collapsed": true,
    "deletable": true,
    "editable": true
   },
   "outputs": [],
   "source": [
    "reset_tf()"
   ]
  },
  {
   "cell_type": "code",
   "execution_count": 120,
   "metadata": {
    "collapsed": false,
    "deletable": true,
    "editable": true
   },
   "outputs": [],
   "source": [
    "# Test arrays\n",
    "a = tf.placeholder(tf.float32, [16000,], name='a')\n",
    "a2 = tf.placeholder(tf.float32, [5, 16000], name='a2')\n",
    "\n",
    "b = 1.0 * np.arange(16000)\n",
    "b2 = np.array([1.0 * np.arange(16000), 0.2 * np.arange(16000), 0.01 * np.arange(16000)])\n",
    "\n",
    "c = np.array([1,2,4,-5,-6,-1,1,2,1,1,-1,1,4])\n",
    "d = np.array([[1,2,3], [-4,5,6]])\n",
    "d2 = np.array([[[1,2,3], [-4,5,6]],\n",
    "               [[-1,2,3], [-4,5,6]],\n",
    "               [[1,-2,3], [-4,5,6]],\n",
    "               [[1,2,-3], [-4,5,6]]])\n",
    "f = 0.8 * (np.random.rand(16000) - 0.5) + 0.5 * np.sin(0.2 * np.arange(16000)) + 0.5 * np.sin(0.05 * np.arange(16000))"
   ]
  },
  {
   "cell_type": "code",
   "execution_count": 121,
   "metadata": {
    "collapsed": true,
    "deletable": true,
    "editable": true
   },
   "outputs": [],
   "source": [
    "def windower(arr, window=128, hop_length=32, rank=1):\n",
    "    \"\"\"Windower function that divides an array into fixed size windows\"\"\"\n",
    "    overlap = window - hop_length\n",
    "    length = arr.shape[rank - 1]\n",
    "    indexer = tf.range(window)[None, :] + hop_length * tf.range((length - overlap) / hop_length)[:, None]\n",
    "    return tf.gather(arr, indexer, axis=rank - 1)"
   ]
  },
  {
   "cell_type": "code",
   "execution_count": 122,
   "metadata": {
    "collapsed": false,
    "deletable": true,
    "editable": true
   },
   "outputs": [
    {
     "data": {
      "text/plain": [
       "<tf.Tensor 'Gather_6:0' shape=(497, 128) dtype=float32>"
      ]
     },
     "execution_count": 122,
     "metadata": {},
     "output_type": "execute_result"
    }
   ],
   "source": [
    "windower(a)"
   ]
  },
  {
   "cell_type": "code",
   "execution_count": 123,
   "metadata": {
    "collapsed": false,
    "deletable": true,
    "editable": true
   },
   "outputs": [
    {
     "data": {
      "text/plain": [
       "<tf.Tensor 'GatherV2_7:0' shape=(5, 497, 128) dtype=float32>"
      ]
     },
     "execution_count": 123,
     "metadata": {},
     "output_type": "execute_result"
    }
   ],
   "source": [
    "windower(a2, rank=2)"
   ]
  },
  {
   "cell_type": "code",
   "execution_count": 124,
   "metadata": {
    "collapsed": false,
    "deletable": true,
    "editable": true
   },
   "outputs": [
    {
     "data": {
      "text/plain": [
       "<tf.Tensor 'GatherV2_8:0' shape=(3, 497, 128) dtype=float64>"
      ]
     },
     "execution_count": 124,
     "metadata": {},
     "output_type": "execute_result"
    }
   ],
   "source": [
    "windower(b2, rank=2)"
   ]
  },
  {
   "cell_type": "code",
   "execution_count": 125,
   "metadata": {
    "collapsed": false,
    "deletable": true,
    "editable": true
   },
   "outputs": [
    {
     "data": {
      "text/plain": [
       "<tf.Tensor 'Gather_7:0' shape=(497, 128) dtype=float64>"
      ]
     },
     "execution_count": 125,
     "metadata": {},
     "output_type": "execute_result"
    }
   ],
   "source": [
    "windower(b, rank=1)"
   ]
  },
  {
   "cell_type": "code",
   "execution_count": 126,
   "metadata": {
    "collapsed": false,
    "deletable": true,
    "editable": true
   },
   "outputs": [
    {
     "data": {
      "text/plain": [
       "array([[[  0.00000000e+00,   1.00000000e+00,   2.00000000e+00, ...,\n",
       "           1.25000000e+02,   1.26000000e+02,   1.27000000e+02],\n",
       "        [  3.20000000e+01,   3.30000000e+01,   3.40000000e+01, ...,\n",
       "           1.57000000e+02,   1.58000000e+02,   1.59000000e+02],\n",
       "        [  6.40000000e+01,   6.50000000e+01,   6.60000000e+01, ...,\n",
       "           1.89000000e+02,   1.90000000e+02,   1.91000000e+02],\n",
       "        ..., \n",
       "        [  1.58080000e+04,   1.58090000e+04,   1.58100000e+04, ...,\n",
       "           1.59330000e+04,   1.59340000e+04,   1.59350000e+04],\n",
       "        [  1.58400000e+04,   1.58410000e+04,   1.58420000e+04, ...,\n",
       "           1.59650000e+04,   1.59660000e+04,   1.59670000e+04],\n",
       "        [  1.58720000e+04,   1.58730000e+04,   1.58740000e+04, ...,\n",
       "           1.59970000e+04,   1.59980000e+04,   1.59990000e+04]],\n",
       "\n",
       "       [[  0.00000000e+00,   2.00000000e-01,   4.00000000e-01, ...,\n",
       "           2.50000000e+01,   2.52000000e+01,   2.54000000e+01],\n",
       "        [  6.40000000e+00,   6.60000000e+00,   6.80000000e+00, ...,\n",
       "           3.14000000e+01,   3.16000000e+01,   3.18000000e+01],\n",
       "        [  1.28000000e+01,   1.30000000e+01,   1.32000000e+01, ...,\n",
       "           3.78000000e+01,   3.80000000e+01,   3.82000000e+01],\n",
       "        ..., \n",
       "        [  3.16160000e+03,   3.16180000e+03,   3.16200000e+03, ...,\n",
       "           3.18660000e+03,   3.18680000e+03,   3.18700000e+03],\n",
       "        [  3.16800000e+03,   3.16820000e+03,   3.16840000e+03, ...,\n",
       "           3.19300000e+03,   3.19320000e+03,   3.19340000e+03],\n",
       "        [  3.17440000e+03,   3.17460000e+03,   3.17480000e+03, ...,\n",
       "           3.19940000e+03,   3.19960000e+03,   3.19980000e+03]],\n",
       "\n",
       "       [[  0.00000000e+00,   1.00000000e-02,   2.00000000e-02, ...,\n",
       "           1.25000000e+00,   1.26000000e+00,   1.27000000e+00],\n",
       "        [  3.20000000e-01,   3.30000000e-01,   3.40000000e-01, ...,\n",
       "           1.57000000e+00,   1.58000000e+00,   1.59000000e+00],\n",
       "        [  6.40000000e-01,   6.50000000e-01,   6.60000000e-01, ...,\n",
       "           1.89000000e+00,   1.90000000e+00,   1.91000000e+00],\n",
       "        ..., \n",
       "        [  1.58080000e+02,   1.58090000e+02,   1.58100000e+02, ...,\n",
       "           1.59330000e+02,   1.59340000e+02,   1.59350000e+02],\n",
       "        [  1.58400000e+02,   1.58410000e+02,   1.58420000e+02, ...,\n",
       "           1.59650000e+02,   1.59660000e+02,   1.59670000e+02],\n",
       "        [  1.58720000e+02,   1.58730000e+02,   1.58740000e+02, ...,\n",
       "           1.59970000e+02,   1.59980000e+02,   1.59990000e+02]]])"
      ]
     },
     "execution_count": 126,
     "metadata": {},
     "output_type": "execute_result"
    }
   ],
   "source": [
    "sess.run(windower(b2, rank=2))"
   ]
  },
  {
   "cell_type": "code",
   "execution_count": 127,
   "metadata": {
    "collapsed": false,
    "deletable": true,
    "editable": true
   },
   "outputs": [],
   "source": [
    "def tf_diff_axis(arr):\n",
    "    \"\"\"Equivalent of np.diff on last axis\"\"\"\n",
    "    return arr[..., 1:] - arr[..., :-1]\n",
    "\n",
    "\n",
    "def zero_crossing(arr, rank=1):\n",
    "    \"\"\"Calculates the zero crossing rate\"\"\"\n",
    "    if rank == 1:\n",
    "        nzc = tf.cast(tf.count_nonzero(tf_diff_axis(tf.sign(arr))), tf.float32)\n",
    "    else:\n",
    "        nzc = tf.cast(tf.count_nonzero(tf_diff_axis(tf.sign(arr)), axis=rank - 1), tf.float32)\n",
    "\n",
    "    arrlen = tf.cast(arr.shape[rank - 1], tf.float32)\n",
    "    return tf.divide(nzc, arrlen, name='zcr')"
   ]
  },
  {
   "cell_type": "code",
   "execution_count": 128,
   "metadata": {
    "collapsed": false,
    "deletable": true,
    "editable": true
   },
   "outputs": [
    {
     "data": {
      "text/plain": [
       "array([[[ 1,  1],\n",
       "        [ 9,  1]],\n",
       "\n",
       "       [[ 3,  1],\n",
       "        [ 9,  1]],\n",
       "\n",
       "       [[-3,  5],\n",
       "        [ 9,  1]],\n",
       "\n",
       "       [[ 1, -5],\n",
       "        [ 9,  1]]])"
      ]
     },
     "execution_count": 128,
     "metadata": {},
     "output_type": "execute_result"
    }
   ],
   "source": [
    "tf_diff_axis(d2)"
   ]
  },
  {
   "cell_type": "code",
   "execution_count": 129,
   "metadata": {
    "collapsed": false,
    "deletable": true,
    "editable": true
   },
   "outputs": [
    {
     "data": {
      "text/plain": [
       "array([[ 1,  2,  3],\n",
       "       [-4,  5,  6]])"
      ]
     },
     "execution_count": 129,
     "metadata": {},
     "output_type": "execute_result"
    }
   ],
   "source": [
    "d"
   ]
  },
  {
   "cell_type": "code",
   "execution_count": 130,
   "metadata": {
    "collapsed": false,
    "deletable": true,
    "editable": true
   },
   "outputs": [
    {
     "data": {
      "text/plain": [
       "array([ 1,  2, -9, -1,  5,  2,  1, -1,  0, -2,  2,  3])"
      ]
     },
     "execution_count": 130,
     "metadata": {},
     "output_type": "execute_result"
    }
   ],
   "source": [
    "tf_diff_axis(c)"
   ]
  },
  {
   "cell_type": "code",
   "execution_count": 131,
   "metadata": {
    "collapsed": false,
    "deletable": true,
    "editable": true
   },
   "outputs": [
    {
     "data": {
      "text/plain": [
       "array([ 0.        ,  0.33333334], dtype=float32)"
      ]
     },
     "execution_count": 131,
     "metadata": {},
     "output_type": "execute_result"
    }
   ],
   "source": [
    "sess.run(zero_crossing(d, rank=2))"
   ]
  },
  {
   "cell_type": "code",
   "execution_count": 132,
   "metadata": {
    "collapsed": false,
    "deletable": true,
    "editable": true
   },
   "outputs": [
    {
     "data": {
      "text/plain": [
       "0.30769232"
      ]
     },
     "execution_count": 132,
     "metadata": {},
     "output_type": "execute_result"
    }
   ],
   "source": [
    "sess.run(zero_crossing(c, rank=1))"
   ]
  },
  {
   "cell_type": "code",
   "execution_count": 133,
   "metadata": {
    "collapsed": false,
    "deletable": true,
    "editable": true
   },
   "outputs": [],
   "source": [
    "def rms_energy(arr, rank=1, maxamps=1.0):\n",
    "    \"\"\"Calculates the RMS energy of the wave\"\"\"\n",
    "    if rank == 1:\n",
    "        return tf.sqrt(tf.reduce_mean(tf.square(arr / maxamps)), name='rmse')\n",
    "    else:\n",
    "        return tf.sqrt(tf.reduce_mean(tf.square(arr / maxamps), axis=rank - 1), name='rmse')"
   ]
  },
  {
   "cell_type": "code",
   "execution_count": 134,
   "metadata": {
    "collapsed": false,
    "deletable": true,
    "editable": true
   },
   "outputs": [
    {
     "data": {
      "text/plain": [
       "array([[  0.00000000e+00,   1.00000000e+00,   2.00000000e+00, ...,\n",
       "          1.25000000e+02,   1.26000000e+02,   1.27000000e+02],\n",
       "       [  3.20000000e+01,   3.30000000e+01,   3.40000000e+01, ...,\n",
       "          1.57000000e+02,   1.58000000e+02,   1.59000000e+02],\n",
       "       [  6.40000000e+01,   6.50000000e+01,   6.60000000e+01, ...,\n",
       "          1.89000000e+02,   1.90000000e+02,   1.91000000e+02],\n",
       "       ..., \n",
       "       [  1.58080000e+04,   1.58090000e+04,   1.58100000e+04, ...,\n",
       "          1.59330000e+04,   1.59340000e+04,   1.59350000e+04],\n",
       "       [  1.58400000e+04,   1.58410000e+04,   1.58420000e+04, ...,\n",
       "          1.59650000e+04,   1.59660000e+04,   1.59670000e+04],\n",
       "       [  1.58720000e+04,   1.58730000e+04,   1.58740000e+04, ...,\n",
       "          1.59970000e+04,   1.59980000e+04,   1.59990000e+04]])"
      ]
     },
     "execution_count": 134,
     "metadata": {},
     "output_type": "execute_result"
    }
   ],
   "source": [
    "# My windower function is faster\n",
    "sess.run(signal.frame(b, 128, 32))"
   ]
  },
  {
   "cell_type": "code",
   "execution_count": 135,
   "metadata": {
    "collapsed": false,
    "deletable": true,
    "editable": true
   },
   "outputs": [],
   "source": [
    "stfts = signal.stft(tf.cast(f, tf.float32), frame_length=256, frame_step=16, fft_length=128)"
   ]
  },
  {
   "cell_type": "code",
   "execution_count": 136,
   "metadata": {
    "collapsed": false,
    "deletable": true,
    "editable": true
   },
   "outputs": [],
   "source": [
    "magnitude_spectrograms = tf.abs(stfts)"
   ]
  },
  {
   "cell_type": "code",
   "execution_count": 137,
   "metadata": {
    "collapsed": false,
    "deletable": true,
    "editable": true
   },
   "outputs": [],
   "source": [
    "# Warp the linear-scale, magnitude spectrograms into the mel-scale\n",
    "num_spectrogram_bins = magnitude_spectrograms.shape[-1].value\n",
    "lower_edge_hertz = 80.0\n",
    "upper_edge_hertz = 7600.0\n",
    "num_mel_bins = 64\n",
    "\n",
    "mel_weight_mat = signal.linear_to_mel_weight_matrix(num_mel_bins,\n",
    "                                                    num_spectrogram_bins,\n",
    "                                                    SAMRATE,\n",
    "                                                    lower_edge_hertz,\n",
    "                                                    upper_edge_hertz)\n",
    "\n",
    "mel_spectrograms = tf.tensordot(magnitude_spectrograms, mel_weight_mat, 1)\n",
    "\n",
    "# Note: Shape inference for tf.tensordot does not currently handle this case\n",
    "mel_spectrograms.set_shape(magnitude_spectrograms.shape[:-1].concatenate(mel_weight_mat.shape[-1:]))"
   ]
  },
  {
   "cell_type": "code",
   "execution_count": 138,
   "metadata": {
    "collapsed": false,
    "deletable": true,
    "editable": true
   },
   "outputs": [],
   "source": [
    "x1 = sess.run(mel_spectrograms)"
   ]
  },
  {
   "cell_type": "code",
   "execution_count": 139,
   "metadata": {
    "collapsed": false,
    "deletable": true,
    "editable": true
   },
   "outputs": [],
   "source": [
    "# Matmul only works for single file, hence use of tensordot\n",
    "x2 = sess.run(tf.matmul(magnitude_spectrograms, mel_weight_mat))"
   ]
  },
  {
   "cell_type": "code",
   "execution_count": 140,
   "metadata": {
    "collapsed": false,
    "deletable": true,
    "editable": true
   },
   "outputs": [
    {
     "data": {
      "image/png": "[encoded data removed]",
      "text/plain": [
       "<matplotlib.figure.Figure at 0x11eb607d0>"
      ]
     },
     "metadata": {},
     "output_type": "display_data"
    }
   ],
   "source": [
    "plt.figure(figsize=(10, 4))\n",
    "plt.pcolormesh(x1.T);"
   ]
  },
  {
   "cell_type": "code",
   "execution_count": 143,
   "metadata": {
    "collapsed": false,
    "deletable": true,
    "editable": true
   },
   "outputs": [
    {
     "data": {
      "image/png": "[encoded data removed]",
      "text/plain": [
       "<matplotlib.figure.Figure at 0x12798d450>"
      ]
     },
     "metadata": {},
     "output_type": "display_data"
    }
   ],
   "source": [
    "plt.plot(f[:500]);"
   ]
  },
  {
   "cell_type": "markdown",
   "metadata": {
    "deletable": true,
    "editable": true
   },
   "source": [
    "## Function for full batch process"
   ]
  },
  {
   "cell_type": "code",
   "execution_count": 157,
   "metadata": {
    "collapsed": false,
    "deletable": true,
    "editable": true
   },
   "outputs": [],
   "source": [
    "def signalProcessBatch(signals, add_noise=True, noise_factor=0.1, window=512,\n",
    "                       maxamps=1.0, sr=16000, num_mel_bins=64, num_mfccs=19):\n",
    "    \"\"\"Function to perform all the DSP preprocessing and feature extraction.\n",
    "       Returns the Mel spectrum, MFCCs, ZCR and RMSE.\n",
    "       Works on a batch of num_files files.\n",
    "       Input signals : [num_files, samples]\n",
    "       Output        : [num_files, num_windows, num_mfccs]\"\"\"\n",
    "\n",
    "    if add_noise:\n",
    "        try:\n",
    "            num_files = signals.shape[0].value\n",
    "        except AttributeError:\n",
    "            num_files = signals.shape[0]\n",
    "\n",
    "        idx = tf.random_uniform((num_files,), 0, NOISE_MATRIX.shape[0], dtype=tf.int32)\n",
    "        noise = tf.cast(tf.gather(NOISE_MATRIX, idx), tf.float32)\n",
    "        \n",
    "        signals = signals + noise_factor * maxamps * noise\n",
    "\n",
    "    hop_length = window / 4\n",
    "    signals32 = tf.cast(signals, tf.float32)\n",
    "    signals_w = windower(signals32, window=window, hop_length=hop_length, rank=2)\n",
    "\n",
    "    zcr = zero_crossing(signals_w, rank=3)\n",
    "    rmse = rms_energy(signals_w, rank=3, maxamps=maxamps)\n",
    "\n",
    "    stfts = signal.stft(signals32, frame_length=window, frame_step=hop_length, fft_length=window)\n",
    "    magnitude_spectrograms = tf.abs(stfts)\n",
    "\n",
    "    num_spectrogram_bins = magnitude_spectrograms.shape[-1].value\n",
    "    lower_edge_hertz = 80.0\n",
    "    upper_edge_hertz = 7600.0\n",
    "\n",
    "    mel_weight_mat = signal.linear_to_mel_weight_matrix(num_mel_bins,\n",
    "                                                        num_spectrogram_bins,\n",
    "                                                        sr,\n",
    "                                                        lower_edge_hertz,\n",
    "                                                        upper_edge_hertz)\n",
    "\n",
    "    mel_spectrograms = tf.tensordot(magnitude_spectrograms, mel_weight_mat, 1)\n",
    "    mel_spectrograms.set_shape(magnitude_spectrograms.shape[:-1].concatenate(mel_weight_mat.shape[-1:]))\n",
    "\n",
    "    log_offset = 1e-8\n",
    "    log_mel_spectrograms = tf.log(mel_spectrograms + log_offset, name='log_mel_spectrograms')\n",
    "\n",
    "    mfccs = signal.mfccs_from_log_mel_spectrograms(log_mel_spectrograms)[..., :num_mfccs]\n",
    "    mfccs = tf.identity(mfccs, name='mfccs')\n",
    "\n",
    "    return mfccs, log_mel_spectrograms, zcr, rmse"
   ]
  },
  {
   "cell_type": "code",
   "execution_count": 158,
   "metadata": {
    "collapsed": false
   },
   "outputs": [
    {
     "data": {
      "text/plain": [
       "5"
      ]
     },
     "execution_count": 158,
     "metadata": {},
     "output_type": "execute_result"
    }
   ],
   "source": [
    "a2.shape[0].value"
   ]
  },
  {
   "cell_type": "code",
   "execution_count": 159,
   "metadata": {
    "collapsed": false,
    "deletable": true,
    "editable": true
   },
   "outputs": [
    {
     "data": {
      "text/plain": [
       "(<tf.Tensor 'mfccs_8:0' shape=(5, 122, 19) dtype=float32>,\n",
       " <tf.Tensor 'log_mel_spectrograms_1:0' shape=(5, 122, 64) dtype=float32>,\n",
       " <tf.Tensor 'zcr_12:0' shape=(5, 122) dtype=float32>,\n",
       " <tf.Tensor 'rmse_8:0' shape=(5, 122) dtype=float32>)"
      ]
     },
     "execution_count": 159,
     "metadata": {},
     "output_type": "execute_result"
    }
   ],
   "source": [
    "signalProcessBatch(a2)"
   ]
  },
  {
   "cell_type": "code",
   "execution_count": 160,
   "metadata": {
    "collapsed": false,
    "deletable": true,
    "editable": true,
    "scrolled": false
   },
   "outputs": [
    {
     "data": {
      "text/plain": [
       "(array([[[  1.12944770e+00,   1.28176022e+01,   8.58734035e+00, ...,\n",
       "            1.26131186e-02,   4.63004857e-01,   1.56973064e-01],\n",
       "         [  4.69134301e-01,   1.33935575e+01,   8.20426083e+00, ...,\n",
       "           -1.38335183e-01,   5.22982359e-01,   5.47463112e-02],\n",
       "         [ -3.74248214e-02,   1.38525734e+01,   7.86510897e+00, ...,\n",
       "            6.77083209e-02,   3.22268277e-01,   1.46050289e-01],\n",
       "         ..., \n",
       "         [  3.21790838e+00,   1.15336962e+01,   8.36866760e+00, ...,\n",
       "            3.73472542e-01,   1.13088846e-01,   1.56703755e-01],\n",
       "         [  5.53633499e+00,   9.82925320e+00,   8.91929340e+00, ...,\n",
       "            1.65098563e-01,  -4.46316786e-02,   5.83912194e-01],\n",
       "         [  5.98156023e+00,   9.43722343e+00,   9.22160912e+00, ...,\n",
       "            3.94765288e-01,  -1.41335368e-01,   5.22134960e-01]],\n",
       " \n",
       "        [[ -6.80097437e+00,   6.60646057e+00,   8.46978951e+00, ...,\n",
       "            2.50002831e-01,  -1.18469879e-01,   1.91156209e-01],\n",
       "         [ -6.67180014e+00,   6.39011812e+00,   8.70484352e+00, ...,\n",
       "            2.63595283e-01,   9.37778503e-02,   3.46318007e-01],\n",
       "         [ -6.03991508e+00,   5.76519537e+00,   9.06749058e+00, ...,\n",
       "           -6.77293539e-02,   2.66791612e-01,   5.20507991e-01],\n",
       "         ..., \n",
       "         [ -1.00589447e+01,   8.54358387e+00,   8.48831558e+00, ...,\n",
       "            3.59108180e-01,   1.26604080e-01,   5.00724912e-01],\n",
       "         [ -1.00873871e+01,   8.37087154e+00,   8.72614574e+00, ...,\n",
       "            2.58551031e-01,   8.58386755e-02,   4.23025012e-01],\n",
       "         [ -1.05656242e+01,   8.49676514e+00,   8.88650417e+00, ...,\n",
       "            4.06642228e-01,   6.50557280e-02,   3.42658013e-01]],\n",
       " \n",
       "        [[ -3.00364256e+00,  -1.26836434e-01,   1.68550754e+00, ...,\n",
       "           -6.01788521e-01,  -3.46688539e-01,   1.38444602e-01],\n",
       "         [ -2.27833462e+00,   5.17336667e-01,   2.07484937e+00, ...,\n",
       "            2.64770657e-01,   4.35858846e-01,   5.11366487e-01],\n",
       "         [ -1.49385726e+00,  -5.51355600e-01,   1.93986297e+00, ...,\n",
       "            3.36823195e-01,   4.41991955e-01,   9.58305776e-01],\n",
       "         ..., \n",
       "         [ -2.86688590e+00,  -8.19051266e-01,   1.33886719e+00, ...,\n",
       "            4.11755145e-01,  -1.33490086e-01,  -5.11971056e-01],\n",
       "         [ -3.47240400e+00,  -1.03763521e+00,   2.01125932e+00, ...,\n",
       "           -5.13233431e-02,   3.65095735e-01,   3.61547023e-02],\n",
       "         [ -3.46971226e+00,  -1.35950220e+00,   1.81709254e+00, ...,\n",
       "            1.86067715e-01,   3.25998604e-01,   1.29602216e-02]]], dtype=float32),\n",
       " array([[[ 6.35753441,  5.57684326,  4.96143723, ..., -1.12300289,\n",
       "          -1.07985055, -0.98450983],\n",
       "         [ 6.35760021,  5.5767622 ,  4.96123886, ..., -1.28396821,\n",
       "          -1.54560637, -1.52459717],\n",
       "         [ 6.35746479,  5.57684469,  4.96130371, ..., -1.40803242,\n",
       "          -1.43302608, -1.20691895],\n",
       "         ..., \n",
       "         [ 6.35761404,  5.57642365,  4.96162987, ..., -0.58646816,\n",
       "          -0.56456155, -1.07074881],\n",
       "         [ 6.35738659,  5.57689238,  4.96185398, ..., -0.29226869,\n",
       "          -0.04857427, -0.36353752],\n",
       "         [ 6.35738087,  5.57705212,  4.96137953, ..., -0.40245634,\n",
       "          -0.07664349,  0.05076942]],\n",
       " \n",
       "        [[ 4.74851561,  3.96984124,  3.35139894, ..., -0.77825648,\n",
       "          -0.68024939, -0.97967362],\n",
       "         [ 4.74725914,  3.9700222 ,  3.35782337, ..., -0.95009446,\n",
       "          -0.72537905, -1.19954062],\n",
       "         [ 4.74824238,  3.96614599,  3.3499372 , ..., -0.66192365,\n",
       "          -0.35482526, -0.97148138],\n",
       "         ..., \n",
       "         [ 4.74884033,  3.96778154,  3.34997201, ..., -1.58572495,\n",
       "          -1.55660033, -1.25226653],\n",
       "         [ 4.74802637,  3.96792626,  3.35067892, ..., -1.51561785,\n",
       "          -1.37819636, -1.66854167],\n",
       "         [ 4.74849224,  3.96869588,  3.35095406, ..., -1.56742811,\n",
       "          -1.44626081, -1.46980762]],\n",
       " \n",
       "        [[ 1.75530159,  0.9936806 ,  0.5068289 , ..., -0.3844395 ,\n",
       "           0.19400296,  0.32852745],\n",
       "         [ 1.74429369,  1.02960455,  0.50631088, ..., -0.14475781,\n",
       "          -0.07232141,  0.293392  ],\n",
       "         [ 1.76468527,  1.05891967,  0.32291424, ...,  0.09364454,\n",
       "           0.29727295,  0.38696307],\n",
       "         ..., \n",
       "         [ 1.85810757,  0.9388752 ,  0.3311165 , ...,  0.06415237,\n",
       "          -0.02606248,  0.16954663],\n",
       "         [ 1.76584697,  0.97026539,  0.53677213, ...,  0.06181522,\n",
       "           0.23073246, -0.04902532],\n",
       "         [ 1.7665782 ,  1.08346415,  0.29166564, ...,  0.48171151,\n",
       "           0.25509462,  0.21056573]]], dtype=float32),\n",
       " array([[ 0.        ,  0.        ,  0.        ,  0.        ,  0.        ,\n",
       "          0.        ,  0.        ,  0.        ,  0.        ,  0.        ,\n",
       "          0.        ,  0.        ,  0.        ,  0.        ,  0.        ,\n",
       "          0.        ,  0.        ,  0.        ,  0.        ,  0.        ,\n",
       "          0.        ,  0.        ,  0.        ,  0.        ,  0.        ,\n",
       "          0.        ,  0.        ,  0.        ,  0.        ,  0.        ,\n",
       "          0.        ,  0.        ,  0.        ,  0.        ,  0.        ,\n",
       "          0.        ,  0.        ,  0.        ,  0.        ,  0.        ,\n",
       "          0.        ,  0.        ,  0.        ,  0.        ,  0.        ,\n",
       "          0.        ,  0.        ,  0.        ,  0.        ,  0.        ,\n",
       "          0.        ,  0.        ,  0.        ,  0.        ,  0.        ,\n",
       "          0.        ,  0.        ,  0.        ,  0.        ,  0.        ,\n",
       "          0.        ,  0.        ,  0.        ,  0.        ,  0.        ,\n",
       "          0.        ,  0.        ,  0.        ,  0.        ,  0.        ,\n",
       "          0.        ,  0.        ,  0.        ,  0.        ,  0.        ,\n",
       "          0.        ,  0.        ,  0.        ,  0.        ,  0.        ,\n",
       "          0.        ,  0.        ,  0.        ,  0.        ,  0.        ,\n",
       "          0.        ,  0.        ,  0.        ,  0.        ,  0.        ,\n",
       "          0.        ,  0.        ,  0.        ,  0.        ,  0.        ,\n",
       "          0.        ,  0.        ,  0.        ,  0.        ,  0.        ,\n",
       "          0.        ,  0.        ,  0.        ,  0.        ,  0.        ,\n",
       "          0.        ,  0.        ,  0.        ,  0.        ,  0.        ,\n",
       "          0.        ,  0.        ,  0.        ,  0.        ,  0.        ,\n",
       "          0.        ,  0.        ,  0.        ,  0.        ,  0.        ,\n",
       "          0.        ,  0.        ],\n",
       "        [ 0.00195312,  0.        ,  0.        ,  0.        ,  0.        ,\n",
       "          0.        ,  0.        ,  0.        ,  0.        ,  0.        ,\n",
       "          0.        ,  0.        ,  0.        ,  0.        ,  0.        ,\n",
       "          0.        ,  0.        ,  0.        ,  0.        ,  0.        ,\n",
       "          0.        ,  0.        ,  0.        ,  0.        ,  0.        ,\n",
       "          0.        ,  0.        ,  0.        ,  0.        ,  0.        ,\n",
       "          0.        ,  0.        ,  0.        ,  0.        ,  0.        ,\n",
       "          0.        ,  0.        ,  0.        ,  0.        ,  0.        ,\n",
       "          0.        ,  0.        ,  0.        ,  0.        ,  0.        ,\n",
       "          0.        ,  0.        ,  0.        ,  0.        ,  0.        ,\n",
       "          0.        ,  0.        ,  0.        ,  0.        ,  0.        ,\n",
       "          0.        ,  0.        ,  0.        ,  0.        ,  0.        ,\n",
       "          0.        ,  0.        ,  0.        ,  0.        ,  0.        ,\n",
       "          0.        ,  0.        ,  0.        ,  0.        ,  0.        ,\n",
       "          0.        ,  0.        ,  0.        ,  0.        ,  0.        ,\n",
       "          0.        ,  0.        ,  0.        ,  0.        ,  0.        ,\n",
       "          0.        ,  0.        ,  0.        ,  0.        ,  0.        ,\n",
       "          0.        ,  0.        ,  0.        ,  0.        ,  0.        ,\n",
       "          0.        ,  0.        ,  0.        ,  0.        ,  0.        ,\n",
       "          0.        ,  0.        ,  0.        ,  0.        ,  0.        ,\n",
       "          0.        ,  0.        ,  0.        ,  0.        ,  0.        ,\n",
       "          0.        ,  0.        ,  0.        ,  0.        ,  0.        ,\n",
       "          0.        ,  0.        ,  0.        ,  0.        ,  0.        ,\n",
       "          0.        ,  0.        ,  0.        ,  0.        ,  0.        ,\n",
       "          0.        ,  0.        ],\n",
       "        [ 0.        ,  0.        ,  0.        ,  0.        ,  0.        ,\n",
       "          0.        ,  0.        ,  0.        ,  0.        ,  0.        ,\n",
       "          0.        ,  0.        ,  0.        ,  0.        ,  0.        ,\n",
       "          0.        ,  0.        ,  0.        ,  0.        ,  0.        ,\n",
       "          0.        ,  0.        ,  0.        ,  0.        ,  0.        ,\n",
       "          0.        ,  0.        ,  0.        ,  0.        ,  0.        ,\n",
       "          0.        ,  0.        ,  0.        ,  0.        ,  0.        ,\n",
       "          0.        ,  0.        ,  0.        ,  0.        ,  0.        ,\n",
       "          0.        ,  0.        ,  0.        ,  0.        ,  0.        ,\n",
       "          0.        ,  0.        ,  0.        ,  0.        ,  0.        ,\n",
       "          0.        ,  0.        ,  0.        ,  0.        ,  0.        ,\n",
       "          0.        ,  0.        ,  0.        ,  0.        ,  0.        ,\n",
       "          0.        ,  0.        ,  0.        ,  0.        ,  0.        ,\n",
       "          0.        ,  0.        ,  0.        ,  0.        ,  0.        ,\n",
       "          0.        ,  0.        ,  0.        ,  0.        ,  0.        ,\n",
       "          0.        ,  0.        ,  0.        ,  0.        ,  0.        ,\n",
       "          0.        ,  0.        ,  0.        ,  0.        ,  0.        ,\n",
       "          0.        ,  0.        ,  0.        ,  0.        ,  0.        ,\n",
       "          0.        ,  0.        ,  0.        ,  0.        ,  0.        ,\n",
       "          0.        ,  0.        ,  0.        ,  0.        ,  0.        ,\n",
       "          0.        ,  0.        ,  0.        ,  0.        ,  0.        ,\n",
       "          0.        ,  0.        ,  0.        ,  0.        ,  0.        ,\n",
       "          0.        ,  0.        ,  0.        ,  0.        ,  0.        ,\n",
       "          0.        ,  0.        ,  0.        ,  0.        ,  0.        ,\n",
       "          0.        ,  0.        ]], dtype=float32),\n",
       " array([[  2.95174530e+02,   4.11000763e+02,   5.32430969e+02,\n",
       "           6.56362610e+02,   7.81606995e+02,   9.07620178e+02,\n",
       "           1.03412195e+03,   1.16095239e+03,   1.28801221e+03,\n",
       "           1.41524512e+03,   1.54260034e+03,   1.67005835e+03,\n",
       "           1.79759216e+03,   1.92518555e+03,   2.05283496e+03,\n",
       "           2.18051855e+03,   2.30824341e+03,   2.43599268e+03,\n",
       "           2.56376953e+03,   2.69156592e+03,   2.81938232e+03,\n",
       "           2.94721436e+03,   3.07505737e+03,   3.20292139e+03,\n",
       "           3.33078052e+03,   3.45866748e+03,   3.58655249e+03,\n",
       "           3.71444360e+03,   3.84235425e+03,   3.97025366e+03,\n",
       "           4.09817236e+03,   4.22608984e+03,   4.35401318e+03,\n",
       "           4.48194336e+03,   4.60987451e+03,   4.73780762e+03,\n",
       "           4.86575342e+03,   4.99369092e+03,   5.12163428e+03,\n",
       "           5.24959521e+03,   5.37752344e+03,   5.50549805e+03,\n",
       "           5.63344189e+03,   5.76139404e+03,   5.88937158e+03,\n",
       "           6.01730908e+03,   6.14528906e+03,   6.27324463e+03,\n",
       "           6.40120996e+03,   6.52918115e+03,   6.65714209e+03,\n",
       "           6.78511719e+03,   6.91308350e+03,   7.04105566e+03,\n",
       "           7.16903125e+03,   7.29699951e+03,   7.42497607e+03,\n",
       "           7.55295312e+03,   7.68092383e+03,   7.80890576e+03,\n",
       "           7.93688086e+03,   8.06485840e+03,   8.19283789e+03,\n",
       "           8.32081738e+03,   8.44879590e+03,   8.57677930e+03,\n",
       "           8.70475879e+03,   8.83274121e+03,   8.96072656e+03,\n",
       "           9.08870410e+03,   9.21669043e+03,   9.34467676e+03,\n",
       "           9.47265430e+03,   9.60064648e+03,   9.72862793e+03,\n",
       "           9.85661230e+03,   9.98460059e+03,   1.01125840e+04,\n",
       "           1.02405713e+04,   1.03685576e+04,   1.04965469e+04,\n",
       "           1.06245312e+04,   1.07525215e+04,   1.08805098e+04,\n",
       "           1.10084971e+04,   1.11364873e+04,   1.12644756e+04,\n",
       "           1.13924648e+04,   1.15204541e+04,   1.16484424e+04,\n",
       "           1.17764316e+04,   1.19044219e+04,   1.20324121e+04,\n",
       "           1.21604023e+04,   1.22883926e+04,   1.24163857e+04,\n",
       "           1.25443750e+04,   1.26723662e+04,   1.28003574e+04,\n",
       "           1.29283486e+04,   1.30563408e+04,   1.31843340e+04,\n",
       "           1.33123242e+04,   1.34403193e+04,   1.35683105e+04,\n",
       "           1.36963027e+04,   1.38242949e+04,   1.39522891e+04,\n",
       "           1.40802812e+04,   1.42082734e+04,   1.43362666e+04,\n",
       "           1.44642617e+04,   1.45922549e+04,   1.47202480e+04,\n",
       "           1.48482412e+04,   1.49762334e+04,   1.51042285e+04,\n",
       "           1.52322207e+04,   1.53602139e+04,   1.54882100e+04,\n",
       "           1.56162051e+04,   1.57441992e+04],\n",
       "        [  5.90342216e+01,   8.21999893e+01,   1.06485870e+02,\n",
       "           1.31271591e+02,   1.56321396e+02,   1.81523163e+02,\n",
       "           2.06823822e+02,   2.32189957e+02,   2.57601624e+02,\n",
       "           2.83048737e+02,   3.08519379e+02,   3.34010376e+02,\n",
       "           3.59518768e+02,   3.85035217e+02,   4.10565857e+02,\n",
       "           4.36103729e+02,   4.61646454e+02,   4.87198761e+02,\n",
       "           5.12752808e+02,   5.38312500e+02,   5.63875854e+02,\n",
       "           5.89441711e+02,   6.15011230e+02,   6.40582458e+02,\n",
       "           6.66156128e+02,   6.91732056e+02,   7.17309570e+02,\n",
       "           7.42888306e+02,   7.68469055e+02,   7.94050598e+02,\n",
       "           8.19633118e+02,   8.45217163e+02,   8.70802002e+02,\n",
       "           8.96387817e+02,   9.21974243e+02,   9.47561401e+02,\n",
       "           9.73149048e+02,   9.98737671e+02,   1.02432690e+03,\n",
       "           1.04991650e+03,   1.07550659e+03,   1.10109692e+03,\n",
       "           1.12668787e+03,   1.15227869e+03,   1.17787061e+03,\n",
       "           1.20346289e+03,   1.22905554e+03,   1.25464905e+03,\n",
       "           1.28024158e+03,   1.30583472e+03,   1.33142810e+03,\n",
       "           1.35702197e+03,   1.38261633e+03,   1.40821033e+03,\n",
       "           1.43380505e+03,   1.45939954e+03,   1.48499414e+03,\n",
       "           1.51058948e+03,   1.53618445e+03,   1.56178003e+03,\n",
       "           1.58737561e+03,   1.61297119e+03,   1.63856689e+03,\n",
       "           1.66416296e+03,   1.68975879e+03,   1.71535498e+03,\n",
       "           1.74095105e+03,   1.76654749e+03,   1.79214417e+03,\n",
       "           1.81774011e+03,   1.84333716e+03,   1.86893445e+03,\n",
       "           1.89453113e+03,   1.92012769e+03,   1.94572498e+03,\n",
       "           1.97132178e+03,   1.99691882e+03,   2.02251636e+03,\n",
       "           2.04811328e+03,   2.07371069e+03,   2.09930811e+03,\n",
       "           2.12490576e+03,   2.15050293e+03,   2.17610083e+03,\n",
       "           2.20169873e+03,   2.22729565e+03,   2.25289429e+03,\n",
       "           2.27849170e+03,   2.30408960e+03,   2.32968774e+03,\n",
       "           2.35528540e+03,   2.38088354e+03,   2.40648193e+03,\n",
       "           2.43207910e+03,   2.45767822e+03,   2.48327612e+03,\n",
       "           2.50887451e+03,   2.53447314e+03,   2.56007056e+03,\n",
       "           2.58566919e+03,   2.61126782e+03,   2.63686597e+03,\n",
       "           2.66246411e+03,   2.68806250e+03,   2.71366089e+03,\n",
       "           2.73925952e+03,   2.76485815e+03,   2.79045654e+03,\n",
       "           2.81605518e+03,   2.84165356e+03,   2.86725244e+03,\n",
       "           2.89285132e+03,   2.91844995e+03,   2.94404834e+03,\n",
       "           2.96964746e+03,   2.99524609e+03,   3.02084424e+03,\n",
       "           3.04644336e+03,   3.07204199e+03,   3.09764136e+03,\n",
       "           3.12323999e+03,   3.14883862e+03],\n",
       "        [  2.94868875e+00,   4.11164904e+00,   5.33364630e+00,\n",
       "           6.57465315e+00,   7.83088779e+00,   9.09894562e+00,\n",
       "           1.03664265e+01,   1.16368895e+01,   1.29023037e+01,\n",
       "           1.41645269e+01,   1.54323492e+01,   1.67064800e+01,\n",
       "           1.79845486e+01,   1.92627487e+01,   2.05391102e+01,\n",
       "           2.18139267e+01,   2.30851536e+01,   2.43545132e+01,\n",
       "           2.56302128e+01,   2.69025593e+01,   2.81780529e+01,\n",
       "           2.94585876e+01,   3.07408485e+01,   3.20237961e+01,\n",
       "           3.33133850e+01,   3.46002922e+01,   3.58767700e+01,\n",
       "           3.71513748e+01,   3.84212418e+01,   3.96895256e+01,\n",
       "           4.09582558e+01,   4.22316513e+01,   4.35027466e+01,\n",
       "           4.47819557e+01,   4.60649643e+01,   4.73478966e+01,\n",
       "           4.86305237e+01,   4.99129066e+01,   5.11921272e+01,\n",
       "           5.24773598e+01,   5.37719307e+01,   5.50580101e+01,\n",
       "           5.63457718e+01,   5.76271667e+01,   5.89073219e+01,\n",
       "           6.01889153e+01,   6.14687195e+01,   6.27463608e+01,\n",
       "           6.40224380e+01,   6.52980652e+01,   6.65766144e+01,\n",
       "           6.78615112e+01,   6.91454086e+01,   7.04200897e+01,\n",
       "           7.16989441e+01,   7.29724579e+01,   7.42458496e+01,\n",
       "           7.55300217e+01,   7.68033981e+01,   7.80798950e+01,\n",
       "           7.93537979e+01,   8.06259232e+01,   8.19079132e+01,\n",
       "           8.31818771e+01,   8.44606018e+01,   8.57412033e+01,\n",
       "           8.70198135e+01,   8.82994232e+01,   8.95796814e+01,\n",
       "           9.08641663e+01,   9.21403656e+01,   9.34235535e+01,\n",
       "           9.47002487e+01,   9.59674377e+01,   9.72382355e+01,\n",
       "           9.85167847e+01,   9.97973175e+01,   1.01077477e+02,\n",
       "           1.02362648e+02,   1.03645454e+02,   1.04929756e+02,\n",
       "           1.06212631e+02,   1.07498192e+02,   1.08774750e+02,\n",
       "           1.10051208e+02,   1.11327644e+02,   1.12594551e+02,\n",
       "           1.13870575e+02,   1.15146309e+02,   1.16428825e+02,\n",
       "           1.17718132e+02,   1.19005226e+02,   1.20291183e+02,\n",
       "           1.21573814e+02,   1.22855255e+02,   1.24128487e+02,\n",
       "           1.25405869e+02,   1.26687737e+02,   1.27961983e+02,\n",
       "           1.29243500e+02,   1.30523788e+02,   1.31800522e+02,\n",
       "           1.33084290e+02,   1.34362915e+02,   1.35636093e+02,\n",
       "           1.36911194e+02,   1.38189621e+02,   1.39468872e+02,\n",
       "           1.40750076e+02,   1.42033066e+02,   1.43316956e+02,\n",
       "           1.44596390e+02,   1.45876556e+02,   1.47150925e+02,\n",
       "           1.48427078e+02,   1.49709167e+02,   1.50991653e+02,\n",
       "           1.52282227e+02,   1.53559952e+02,   1.54840958e+02,\n",
       "           1.56126984e+02,   1.57411011e+02]], dtype=float32))"
      ]
     },
     "execution_count": 160,
     "metadata": {},
     "output_type": "execute_result"
    }
   ],
   "source": [
    "sess.run(signalProcessBatch(b2))"
   ]
  },
  {
   "cell_type": "code",
   "execution_count": null,
   "metadata": {
    "collapsed": true
   },
   "outputs": [],
   "source": []
  }
 ],
 "metadata": {
  "kernelspec": {
   "display_name": "Python 2",
   "language": "python",
   "name": "python2"
  },
  "language_info": {
   "codemirror_mode": {
    "name": "ipython",
    "version": 2
   },
   "file_extension": ".py",
   "mimetype": "text/x-python",
   "name": "python",
   "nbconvert_exporter": "python",
   "pygments_lexer": "ipython2",
   "version": "2.7.14"
  }
 },
 "nbformat": 4,
 "nbformat_minor": 2
}
