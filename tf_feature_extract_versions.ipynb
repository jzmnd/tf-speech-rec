{
 "cells": [
  {
   "cell_type": "code",
   "execution_count": 1,
   "metadata": {
    "collapsed": true,
    "deletable": true,
    "editable": true
   },
   "outputs": [],
   "source": [
    "%matplotlib inline"
   ]
  },
  {
   "cell_type": "code",
   "execution_count": 2,
   "metadata": {
    "collapsed": true
   },
   "outputs": [],
   "source": [
    "import matplotlib\n",
    "import seaborn as sns\n",
    "import matplotlib.pyplot as plt"
   ]
  },
  {
   "cell_type": "code",
   "execution_count": 3,
   "metadata": {
    "collapsed": false,
    "deletable": true,
    "editable": true
   },
   "outputs": [],
   "source": [
    "import tensorflow as tf\n",
    "import numpy as np\n",
    "from tensorflow.contrib import signal"
   ]
  },
  {
   "cell_type": "code",
   "execution_count": 4,
   "metadata": {
    "collapsed": true,
    "deletable": true,
    "editable": true
   },
   "outputs": [],
   "source": [
    "import os\n",
    "import sys\n",
    "import re"
   ]
  },
  {
   "cell_type": "code",
   "execution_count": 5,
   "metadata": {
    "collapsed": true
   },
   "outputs": [],
   "source": [
    "BITRATE = 16                      # Bit rate\n",
    "SAMRATE = 16000                   # Sample rate (Hz)\n",
    "SAMTIME = 1000.0 / SAMRATE        # Sample time (ms)\n",
    "MAXAMPS = float(2**BITRATE / 2)   # Max samples amplitute"
   ]
  },
  {
   "cell_type": "code",
   "execution_count": 6,
   "metadata": {
    "collapsed": true,
    "deletable": true,
    "editable": true
   },
   "outputs": [],
   "source": [
    "# Tensorflow setup\n",
    "sess = None\n",
    "tf.logging.set_verbosity(tf.logging.INFO)\n",
    "\n",
    "def reset_vars():\n",
    "    \"\"\"Initializes all tf variables\"\"\"\n",
    "    sess.run(tf.global_variables_initializer())\n",
    "\n",
    "def reset_tf():\n",
    "    \"\"\"Closes the current tf session and opens new session\"\"\"\n",
    "    global sess\n",
    "    if sess:\n",
    "        sess.close()\n",
    "    tf.reset_default_graph()\n",
    "    sess = tf.Session()"
   ]
  },
  {
   "cell_type": "markdown",
   "metadata": {
    "deletable": true,
    "editable": true
   },
   "source": [
    "## Create tensorflow preprocessing functions\n",
    "\n",
    "Need functions for...\n",
    "\n",
    "- Mel spectrogram (use `tf.contrib.signal library`)\n",
    "- MFCCs (use `tf.contrib.signal library`)\n",
    "- Zero crossing rate\n",
    "- RMSE\n",
    "- Window function"
   ]
  },
  {
   "cell_type": "code",
   "execution_count": 7,
   "metadata": {
    "collapsed": true,
    "deletable": true,
    "editable": true
   },
   "outputs": [],
   "source": [
    "reset_tf()"
   ]
  },
  {
   "cell_type": "code",
   "execution_count": 8,
   "metadata": {
    "collapsed": false,
    "deletable": true,
    "editable": true
   },
   "outputs": [],
   "source": [
    "# Test arrays\n",
    "a = tf.placeholder(tf.float32, [1200,], name='a')\n",
    "a2 = tf.placeholder(tf.float32, [5, 1200], name='a2')\n",
    "\n",
    "b = 1.0 * np.arange(1200)\n",
    "b2 = np.array([1.0 * np.arange(1200), 0.2 * np.arange(1200), 0.01 * np.arange(1200)])\n",
    "\n",
    "c = np.array([1,2,4,-5,-6,-1,1,2,1,1,-1,1,4])\n",
    "d = np.array([[1,2,3], [-4,5,6]])\n",
    "d2 = np.array([[[1,2,3], [-4,5,6]],\n",
    "               [[-1,2,3], [-4,5,6]],\n",
    "               [[1,-2,3], [-4,5,6]],\n",
    "               [[1,2,-3], [-4,5,6]]])\n",
    "f = 0.8 * (np.random.rand(1200) - 0.5) + 0.5 * np.sin(0.2 * np.arange(1200)) + 0.5 * np.sin(0.05 * np.arange(1200))"
   ]
  },
  {
   "cell_type": "code",
   "execution_count": 9,
   "metadata": {
    "collapsed": true,
    "deletable": true,
    "editable": true
   },
   "outputs": [],
   "source": [
    "def windower(arr, window=128, hop_length=32, rank=1):\n",
    "    \"\"\"Windower function that divides an array into fixed size windows\"\"\"\n",
    "    overlap = window - hop_length\n",
    "    length = arr.shape[rank - 1]\n",
    "    indexer = tf.range(window)[None, :] + hop_length * tf.range((length - overlap) / hop_length)[:, None]\n",
    "    return tf.gather(arr, indexer, axis=rank - 1)"
   ]
  },
  {
   "cell_type": "code",
   "execution_count": 10,
   "metadata": {
    "collapsed": false,
    "deletable": true,
    "editable": true
   },
   "outputs": [
    {
     "data": {
      "text/plain": [
       "<tf.Tensor 'Gather:0' shape=(34, 128) dtype=float32>"
      ]
     },
     "execution_count": 10,
     "metadata": {},
     "output_type": "execute_result"
    }
   ],
   "source": [
    "windower(a)"
   ]
  },
  {
   "cell_type": "code",
   "execution_count": 11,
   "metadata": {
    "collapsed": false
   },
   "outputs": [
    {
     "data": {
      "text/plain": [
       "<tf.Tensor 'GatherV2:0' shape=(5, 34, 128) dtype=float32>"
      ]
     },
     "execution_count": 11,
     "metadata": {},
     "output_type": "execute_result"
    }
   ],
   "source": [
    "windower(a2, rank=2)"
   ]
  },
  {
   "cell_type": "code",
   "execution_count": 12,
   "metadata": {
    "collapsed": false
   },
   "outputs": [
    {
     "data": {
      "text/plain": [
       "<tf.Tensor 'GatherV2_1:0' shape=(3, 34, 128) dtype=float64>"
      ]
     },
     "execution_count": 12,
     "metadata": {},
     "output_type": "execute_result"
    }
   ],
   "source": [
    "windower(b2, rank=2)"
   ]
  },
  {
   "cell_type": "code",
   "execution_count": 13,
   "metadata": {
    "collapsed": false
   },
   "outputs": [
    {
     "data": {
      "text/plain": [
       "<tf.Tensor 'Gather_1:0' shape=(34, 128) dtype=float64>"
      ]
     },
     "execution_count": 13,
     "metadata": {},
     "output_type": "execute_result"
    }
   ],
   "source": [
    "windower(b, rank=1)"
   ]
  },
  {
   "cell_type": "code",
   "execution_count": 14,
   "metadata": {
    "collapsed": false,
    "deletable": true,
    "editable": true
   },
   "outputs": [
    {
     "data": {
      "text/plain": [
       "array([[[  0.00000000e+00,   1.00000000e+00,   2.00000000e+00, ...,\n",
       "           1.25000000e+02,   1.26000000e+02,   1.27000000e+02],\n",
       "        [  3.20000000e+01,   3.30000000e+01,   3.40000000e+01, ...,\n",
       "           1.57000000e+02,   1.58000000e+02,   1.59000000e+02],\n",
       "        [  6.40000000e+01,   6.50000000e+01,   6.60000000e+01, ...,\n",
       "           1.89000000e+02,   1.90000000e+02,   1.91000000e+02],\n",
       "        ..., \n",
       "        [  9.92000000e+02,   9.93000000e+02,   9.94000000e+02, ...,\n",
       "           1.11700000e+03,   1.11800000e+03,   1.11900000e+03],\n",
       "        [  1.02400000e+03,   1.02500000e+03,   1.02600000e+03, ...,\n",
       "           1.14900000e+03,   1.15000000e+03,   1.15100000e+03],\n",
       "        [  1.05600000e+03,   1.05700000e+03,   1.05800000e+03, ...,\n",
       "           1.18100000e+03,   1.18200000e+03,   1.18300000e+03]],\n",
       "\n",
       "       [[  0.00000000e+00,   2.00000000e-01,   4.00000000e-01, ...,\n",
       "           2.50000000e+01,   2.52000000e+01,   2.54000000e+01],\n",
       "        [  6.40000000e+00,   6.60000000e+00,   6.80000000e+00, ...,\n",
       "           3.14000000e+01,   3.16000000e+01,   3.18000000e+01],\n",
       "        [  1.28000000e+01,   1.30000000e+01,   1.32000000e+01, ...,\n",
       "           3.78000000e+01,   3.80000000e+01,   3.82000000e+01],\n",
       "        ..., \n",
       "        [  1.98400000e+02,   1.98600000e+02,   1.98800000e+02, ...,\n",
       "           2.23400000e+02,   2.23600000e+02,   2.23800000e+02],\n",
       "        [  2.04800000e+02,   2.05000000e+02,   2.05200000e+02, ...,\n",
       "           2.29800000e+02,   2.30000000e+02,   2.30200000e+02],\n",
       "        [  2.11200000e+02,   2.11400000e+02,   2.11600000e+02, ...,\n",
       "           2.36200000e+02,   2.36400000e+02,   2.36600000e+02]],\n",
       "\n",
       "       [[  0.00000000e+00,   1.00000000e-02,   2.00000000e-02, ...,\n",
       "           1.25000000e+00,   1.26000000e+00,   1.27000000e+00],\n",
       "        [  3.20000000e-01,   3.30000000e-01,   3.40000000e-01, ...,\n",
       "           1.57000000e+00,   1.58000000e+00,   1.59000000e+00],\n",
       "        [  6.40000000e-01,   6.50000000e-01,   6.60000000e-01, ...,\n",
       "           1.89000000e+00,   1.90000000e+00,   1.91000000e+00],\n",
       "        ..., \n",
       "        [  9.92000000e+00,   9.93000000e+00,   9.94000000e+00, ...,\n",
       "           1.11700000e+01,   1.11800000e+01,   1.11900000e+01],\n",
       "        [  1.02400000e+01,   1.02500000e+01,   1.02600000e+01, ...,\n",
       "           1.14900000e+01,   1.15000000e+01,   1.15100000e+01],\n",
       "        [  1.05600000e+01,   1.05700000e+01,   1.05800000e+01, ...,\n",
       "           1.18100000e+01,   1.18200000e+01,   1.18300000e+01]]])"
      ]
     },
     "execution_count": 14,
     "metadata": {},
     "output_type": "execute_result"
    }
   ],
   "source": [
    "sess.run(windower(b2, rank=2))"
   ]
  },
  {
   "cell_type": "code",
   "execution_count": 15,
   "metadata": {
    "collapsed": false,
    "deletable": true,
    "editable": true
   },
   "outputs": [],
   "source": [
    "def tf_diff_axis(arr):\n",
    "    \"\"\"Equivalent of np.diff on last axis\"\"\"\n",
    "    return arr[..., 1:] - arr[..., :-1]\n",
    "\n",
    "\n",
    "def zero_crossing(arr, rank=1):\n",
    "    \"\"\"Calculates the zero crossing rate\"\"\"\n",
    "    if rank == 1:\n",
    "        nzc = tf.cast(tf.count_nonzero(tf_diff_axis(tf.sign(arr))), tf.float32)\n",
    "    else:\n",
    "        nzc = tf.cast(tf.count_nonzero(tf_diff_axis(tf.sign(arr)), axis=rank - 1), tf.float32)\n",
    "\n",
    "    arrlen = tf.cast(arr.shape[rank - 1], tf.float32)\n",
    "    return tf.divide(nzc, arrlen, name='zcr')"
   ]
  },
  {
   "cell_type": "code",
   "execution_count": 16,
   "metadata": {
    "collapsed": false
   },
   "outputs": [
    {
     "data": {
      "text/plain": [
       "array([[[ 1,  1],\n",
       "        [ 9,  1]],\n",
       "\n",
       "       [[ 3,  1],\n",
       "        [ 9,  1]],\n",
       "\n",
       "       [[-3,  5],\n",
       "        [ 9,  1]],\n",
       "\n",
       "       [[ 1, -5],\n",
       "        [ 9,  1]]])"
      ]
     },
     "execution_count": 16,
     "metadata": {},
     "output_type": "execute_result"
    }
   ],
   "source": [
    "tf_diff_axis(d2)"
   ]
  },
  {
   "cell_type": "code",
   "execution_count": 17,
   "metadata": {
    "collapsed": false
   },
   "outputs": [
    {
     "data": {
      "text/plain": [
       "array([[ 1,  2,  3],\n",
       "       [-4,  5,  6]])"
      ]
     },
     "execution_count": 17,
     "metadata": {},
     "output_type": "execute_result"
    }
   ],
   "source": [
    "d"
   ]
  },
  {
   "cell_type": "code",
   "execution_count": 18,
   "metadata": {
    "collapsed": false
   },
   "outputs": [
    {
     "data": {
      "text/plain": [
       "array([ 1,  2, -9, -1,  5,  2,  1, -1,  0, -2,  2,  3])"
      ]
     },
     "execution_count": 18,
     "metadata": {},
     "output_type": "execute_result"
    }
   ],
   "source": [
    "tf_diff_axis(c)"
   ]
  },
  {
   "cell_type": "code",
   "execution_count": 19,
   "metadata": {
    "collapsed": false,
    "deletable": true,
    "editable": true
   },
   "outputs": [
    {
     "data": {
      "text/plain": [
       "array([ 0.        ,  0.33333334], dtype=float32)"
      ]
     },
     "execution_count": 19,
     "metadata": {},
     "output_type": "execute_result"
    }
   ],
   "source": [
    "sess.run(zero_crossing(d, rank=2))"
   ]
  },
  {
   "cell_type": "code",
   "execution_count": 20,
   "metadata": {
    "collapsed": false,
    "deletable": true,
    "editable": true
   },
   "outputs": [
    {
     "data": {
      "text/plain": [
       "0.30769232"
      ]
     },
     "execution_count": 20,
     "metadata": {},
     "output_type": "execute_result"
    }
   ],
   "source": [
    "sess.run(zero_crossing(c, rank=1))"
   ]
  },
  {
   "cell_type": "code",
   "execution_count": 21,
   "metadata": {
    "collapsed": false,
    "deletable": true,
    "editable": true
   },
   "outputs": [],
   "source": [
    "def rms_energy(arr, rank=1, maxamps=1.0):\n",
    "    \"\"\"Calculates the RMS energy of the wave\"\"\"\n",
    "    if rank == 1:\n",
    "        return tf.sqrt(tf.reduce_mean(tf.square(arr / maxamps)), name='rmse')\n",
    "    else:\n",
    "        return tf.sqrt(tf.reduce_mean(tf.square(arr / maxamps), axis=rank - 1), name='rmse')"
   ]
  },
  {
   "cell_type": "code",
   "execution_count": 22,
   "metadata": {
    "collapsed": false,
    "deletable": true,
    "editable": true
   },
   "outputs": [
    {
     "data": {
      "text/plain": [
       "array([[  0.00000000e+00,   1.00000000e+00,   2.00000000e+00, ...,\n",
       "          1.25000000e+02,   1.26000000e+02,   1.27000000e+02],\n",
       "       [  3.20000000e+01,   3.30000000e+01,   3.40000000e+01, ...,\n",
       "          1.57000000e+02,   1.58000000e+02,   1.59000000e+02],\n",
       "       [  6.40000000e+01,   6.50000000e+01,   6.60000000e+01, ...,\n",
       "          1.89000000e+02,   1.90000000e+02,   1.91000000e+02],\n",
       "       ..., \n",
       "       [  9.92000000e+02,   9.93000000e+02,   9.94000000e+02, ...,\n",
       "          1.11700000e+03,   1.11800000e+03,   1.11900000e+03],\n",
       "       [  1.02400000e+03,   1.02500000e+03,   1.02600000e+03, ...,\n",
       "          1.14900000e+03,   1.15000000e+03,   1.15100000e+03],\n",
       "       [  1.05600000e+03,   1.05700000e+03,   1.05800000e+03, ...,\n",
       "          1.18100000e+03,   1.18200000e+03,   1.18300000e+03]])"
      ]
     },
     "execution_count": 22,
     "metadata": {},
     "output_type": "execute_result"
    }
   ],
   "source": [
    "# My windower function is faster\n",
    "sess.run(signal.frame(b, 128, 32))"
   ]
  },
  {
   "cell_type": "code",
   "execution_count": 23,
   "metadata": {
    "collapsed": false,
    "deletable": true,
    "editable": true
   },
   "outputs": [],
   "source": [
    "stfts = signal.stft(tf.cast(f, tf.float32), frame_length=256, frame_step=16, fft_length=128)"
   ]
  },
  {
   "cell_type": "code",
   "execution_count": 24,
   "metadata": {
    "collapsed": false,
    "deletable": true,
    "editable": true
   },
   "outputs": [],
   "source": [
    "magnitude_spectrograms = tf.abs(stfts)"
   ]
  },
  {
   "cell_type": "code",
   "execution_count": 25,
   "metadata": {
    "collapsed": false,
    "deletable": true,
    "editable": true
   },
   "outputs": [],
   "source": [
    "# Warp the linear-scale, magnitude spectrograms into the mel-scale\n",
    "num_spectrogram_bins = magnitude_spectrograms.shape[-1].value\n",
    "lower_edge_hertz = 80.0\n",
    "upper_edge_hertz = 7600.0\n",
    "num_mel_bins = 64\n",
    "\n",
    "mel_weight_mat = signal.linear_to_mel_weight_matrix(num_mel_bins,\n",
    "                                                    num_spectrogram_bins,\n",
    "                                                    SAMRATE,\n",
    "                                                    lower_edge_hertz,\n",
    "                                                    upper_edge_hertz)\n",
    "\n",
    "mel_spectrograms = tf.tensordot(magnitude_spectrograms, mel_weight_mat, 1)\n",
    "\n",
    "# Note: Shape inference for tf.tensordot does not currently handle this case\n",
    "mel_spectrograms.set_shape(magnitude_spectrograms.shape[:-1].concatenate(mel_weight_mat.shape[-1:]))"
   ]
  },
  {
   "cell_type": "code",
   "execution_count": 26,
   "metadata": {
    "collapsed": false,
    "deletable": true,
    "editable": true
   },
   "outputs": [],
   "source": [
    "x1 = sess.run(mel_spectrograms)"
   ]
  },
  {
   "cell_type": "code",
   "execution_count": 27,
   "metadata": {
    "collapsed": false
   },
   "outputs": [],
   "source": [
    "# Matmul only works for single file, hence use of tensordot\n",
    "x2 = sess.run(tf.matmul(magnitude_spectrograms, mel_weight_mat))"
   ]
  },
  {
   "cell_type": "code",
   "execution_count": 28,
   "metadata": {
    "collapsed": false
   },
   "outputs": [
    {
     "data": {
      "image/png": "[encoded data removed]",
      "text/plain": [
       "<matplotlib.figure.Figure at 0x11264a410>"
      ]
     },
     "metadata": {},
     "output_type": "display_data"
    }
   ],
   "source": [
    "plt.figure(figsize=(10, 4))\n",
    "plt.pcolormesh(x1.T);"
   ]
  },
  {
   "cell_type": "code",
   "execution_count": 29,
   "metadata": {
    "collapsed": false
   },
   "outputs": [
    {
     "data": {
      "image/png": "[encoded data removed]",
      "text/plain": [
       "<matplotlib.figure.Figure at 0x112906d90>"
      ]
     },
     "metadata": {},
     "output_type": "display_data"
    }
   ],
   "source": [
    "plt.plot(f);"
   ]
  },
  {
   "cell_type": "markdown",
   "metadata": {},
   "source": [
    "### Function for full batch process"
   ]
  },
  {
   "cell_type": "code",
   "execution_count": 30,
   "metadata": {
    "collapsed": false
   },
   "outputs": [],
   "source": [
    "def signalProcessBatch(signals, add_noise=False, window=512, maxamps=1.0, sr=16000,\n",
    "                       num_mel_bins=64, num_mfccs=19):\n",
    "    \"\"\"Function to perform all the DSP preprocessing and feature extraction.\n",
    "       Returns the Mel spectrum, MFCCs, ZCR and RMSE.\n",
    "       Works on a batch of num_files files.\n",
    "       Input signals : [num_files, samples]\n",
    "       Output        : [num_files, num_windows, num_mfccs]\"\"\"\n",
    "    \n",
    "    hop_length = window / 4\n",
    "    signals32 = tf.cast(signals, tf.float32)\n",
    "    signals_w = windower(signals32, window=window, hop_length=hop_length, rank=2)\n",
    "\n",
    "    zcr = zero_crossing(signals_w, rank=3)\n",
    "    rmse = rms_energy(signals_w, rank=3, maxamps=maxamps)\n",
    "\n",
    "    stfts = signal.stft(signals32, frame_length=window, frame_step=hop_length, fft_length=window)\n",
    "    magnitude_spectrograms = tf.abs(stfts)\n",
    "\n",
    "    num_spectrogram_bins = magnitude_spectrograms.shape[-1].value\n",
    "    lower_edge_hertz = 80.0\n",
    "    upper_edge_hertz = 7600.0\n",
    "\n",
    "    mel_weight_mat = signal.linear_to_mel_weight_matrix(num_mel_bins,\n",
    "                                                        num_spectrogram_bins,\n",
    "                                                        sr,\n",
    "                                                        lower_edge_hertz,\n",
    "                                                        upper_edge_hertz)\n",
    "\n",
    "    mel_spectrograms = tf.tensordot(magnitude_spectrograms, mel_weight_mat, 1, name='mel_spectrograms')\n",
    "    mel_spectrograms.set_shape(magnitude_spectrograms.shape[:-1].concatenate(mel_weight_mat.shape[-1:]))\n",
    "\n",
    "    log_offset = 1e-6\n",
    "    log_mel_spectrograms = tf.log(mel_spectrograms + log_offset)\n",
    "\n",
    "    mfccs = signal.mfccs_from_log_mel_spectrograms(log_mel_spectrograms)[..., :num_mfccs]\n",
    "    mfccs = tf.identity(mfccs, name='mfccs')\n",
    "\n",
    "    return mfccs, mel_spectrograms, zcr, rmse"
   ]
  },
  {
   "cell_type": "code",
   "execution_count": 31,
   "metadata": {
    "collapsed": false
   },
   "outputs": [
    {
     "data": {
      "text/plain": [
       "(<tf.Tensor 'mfccs:0' shape=(5, 6, 19) dtype=float32>,\n",
       " <tf.Tensor 'mel_spectrograms:0' shape=(5, 6, 64) dtype=float32>,\n",
       " <tf.Tensor 'zcr_2:0' shape=(5, 6) dtype=float32>,\n",
       " <tf.Tensor 'rmse:0' shape=(5, 6) dtype=float32>)"
      ]
     },
     "execution_count": 31,
     "metadata": {},
     "output_type": "execute_result"
    }
   ],
   "source": [
    "signalProcessBatch(a2)"
   ]
  },
  {
   "cell_type": "code",
   "execution_count": 32,
   "metadata": {
    "collapsed": false,
    "scrolled": false
   },
   "outputs": [
    {
     "data": {
      "text/plain": [
       "(array([[[ -7.97368336e+00,   2.06113586e+01,   3.75430226e+00,\n",
       "            4.47038746e+00,   1.39043033e+00,   2.18870497e+00,\n",
       "            7.63252497e-01,   1.26080108e+00,   5.33654094e-01,\n",
       "            8.19303393e-01,   3.44486326e-01,   6.39874578e-01,\n",
       "            1.91176161e-01,   5.10968804e-01,   1.66255653e-01,\n",
       "            3.46299589e-01,   1.95357293e-01,   2.53275365e-01,\n",
       "            1.61378682e-01],\n",
       "         [ -7.88821268e+00,   2.05286121e+01,   3.82394075e+00,\n",
       "            4.42403030e+00,   1.41814065e+00,   2.16388273e+00,\n",
       "            7.94786096e-01,   1.22399473e+00,   5.72098374e-01,\n",
       "            7.83643782e-01,   3.66761774e-01,   6.46006823e-01,\n",
       "            1.53874680e-01,   5.59329450e-01,   1.31584644e-01,\n",
       "            3.61418575e-01,   1.86324894e-01,   2.67494380e-01,\n",
       "            1.43682137e-01],\n",
       "         [ -7.77652788e+00,   2.04241581e+01,   3.91003108e+00,\n",
       "            4.36067152e+00,   1.46339250e+00,   2.12223077e+00,\n",
       "            8.45508993e-01,   1.16232324e+00,   6.38379753e-01,\n",
       "            7.24880576e-01,   4.08227623e-01,   6.24194980e-01,\n",
       "            1.60606205e-01,   5.57728112e-01,   1.38909012e-01,\n",
       "            3.34190339e-01,   2.47790843e-01,   1.74059615e-01,\n",
       "            2.41915658e-01],\n",
       "         [ -7.76414394e+00,   2.04093494e+01,   3.91474628e+00,\n",
       "            4.38937521e+00,   1.40319884e+00,   2.19015384e+00,\n",
       "            7.85374880e-01,   1.21868134e+00,   5.79801202e-01,\n",
       "            7.81646907e-01,   3.56150210e-01,   6.73904479e-01,\n",
       "            1.14543498e-01,   5.91258228e-01,   1.27083614e-01,\n",
       "            3.29482406e-01,   2.50962973e-01,   1.82715863e-01,\n",
       "            2.25688025e-01],\n",
       "         [ -7.65762568e+00,   2.03145714e+01,   3.98965597e+00,\n",
       "            4.32407475e+00,   1.46447480e+00,   2.13572168e+00,\n",
       "            8.32208037e-01,   1.17170799e+00,   6.31871700e-01,\n",
       "            7.44246304e-01,   3.53896797e-01,   7.14939594e-01,\n",
       "            5.34365550e-02,   6.51595175e-01,   8.38128850e-02,\n",
       "            3.46794814e-01,   2.60435581e-01,   1.53541699e-01,\n",
       "            2.60157585e-01],\n",
       "         [ -7.68964911e+00,   2.03581161e+01,   3.91905022e+00,\n",
       "            4.42148161e+00,   1.35287046e+00,   2.24160194e+00,\n",
       "            7.49945104e-01,   1.22375405e+00,   6.10593677e-01,\n",
       "            7.37979829e-01,   3.75784069e-01,   6.94200337e-01,\n",
       "            6.25686795e-02,   6.51484549e-01,   8.75916034e-02,\n",
       "            3.29598218e-01,   2.84606129e-01,   1.39474750e-01,\n",
       "            2.52477825e-01]],\n",
       " \n",
       "        [[ -2.61422615e+01,   2.05675583e+01,   3.80581450e+00,\n",
       "            4.41490030e+00,   1.44142485e+00,   2.14925075e+00,\n",
       "            7.86650538e-01,   1.25371683e+00,   5.29669821e-01,\n",
       "            8.31094086e-01,   3.22190911e-01,   6.75172091e-01,\n",
       "            1.44937024e-01,   5.62382519e-01,   1.16531737e-01,\n",
       "            3.88924062e-01,   1.62651092e-01,   2.74358958e-01,\n",
       "            1.52611792e-01],\n",
       "         [ -2.60851765e+01,   2.05129871e+01,   3.84953022e+00,\n",
       "            4.38826990e+00,   1.45957649e+00,   2.11853337e+00,\n",
       "            8.43765080e-01,   1.17550135e+00,   6.14456594e-01,\n",
       "            7.52635300e-01,   3.82730126e-01,   6.43068850e-01,\n",
       "            1.51386082e-01,   5.62048137e-01,   1.28040358e-01,\n",
       "            3.62452775e-01,   1.99189126e-01,   2.35419691e-01,\n",
       "            1.85729027e-01],\n",
       "         [ -2.59315777e+01,   2.03758564e+01,   3.94471407e+00,\n",
       "            4.34103632e+00,   1.47176874e+00,   2.12005734e+00,\n",
       "            8.47134709e-01,   1.15960979e+00,   6.37584686e-01,\n",
       "            7.36150682e-01,   3.84017467e-01,   6.51867568e-01,\n",
       "            1.43045306e-01,   5.59858561e-01,   1.52071640e-01,\n",
       "            3.08892429e-01,   2.73833126e-01,   1.63283855e-01,\n",
       "            2.32167348e-01],\n",
       "         [ -2.59773540e+01,   2.04075241e+01,   3.94309115e+00,\n",
       "            4.31911802e+00,   1.50125694e+00,   2.09497070e+00,\n",
       "            8.62515092e-01,   1.14951241e+00,   6.53200686e-01,\n",
       "            7.10631192e-01,   4.14160043e-01,   6.26287103e-01,\n",
       "            1.56373069e-01,   5.61956286e-01,   1.36304930e-01,\n",
       "            3.33258390e-01,   2.44448423e-01,   1.95259944e-01,\n",
       "            2.00042769e-01],\n",
       "         [ -2.57883568e+01,   2.02390804e+01,   4.06250620e+00,\n",
       "            4.24525213e+00,   1.55512154e+00,   2.03684068e+00,\n",
       "            9.36803460e-01,   1.06269705e+00,   7.39666581e-01,\n",
       "            6.38585091e-01,   4.62273538e-01,   6.04993284e-01,\n",
       "            1.55035749e-01,   5.70187867e-01,   1.41446680e-01,\n",
       "            3.07714939e-01,   2.86258101e-01,   1.40713707e-01,\n",
       "            2.57448882e-01],\n",
       "         [ -2.57122860e+01,   2.01602764e+01,   4.13339949e+00,\n",
       "            4.21243668e+00,   1.53428423e+00,   2.09200931e+00,\n",
       "            8.78439546e-01,   1.10848558e+00,   7.09287167e-01,\n",
       "            6.59712791e-01,   4.29434389e-01,   6.72484159e-01,\n",
       "            5.70340417e-02,   6.67703331e-01,   7.13665858e-02,\n",
       "            3.43417227e-01,   2.78602719e-01,   1.26156628e-01,\n",
       "            2.91558743e-01]],\n",
       " \n",
       "        [[ -6.00209198e+01,   2.05603886e+01,   3.80002451e+00,\n",
       "            4.42847061e+00,   1.42721939e+00,   2.15886784e+00,\n",
       "            7.86001205e-01,   1.24309492e+00,   5.49162388e-01,\n",
       "            8.06841195e-01,   3.48336190e-01,   6.50054872e-01,\n",
       "            1.66612893e-01,   5.44992447e-01,   1.29748479e-01,\n",
       "            3.78357321e-01,   1.73213258e-01,   2.63978690e-01,\n",
       "            1.58798024e-01],\n",
       "         [ -5.99374886e+01,   2.04794636e+01,   3.86784554e+00,\n",
       "            4.38456964e+00,   1.45229614e+00,   2.13520122e+00,\n",
       "            8.19188893e-01,   1.20181572e+00,   5.93250453e-01,\n",
       "            7.67298102e-01,   3.73780668e-01,   6.44815683e-01,\n",
       "            1.56971633e-01,   5.52598894e-01,   1.39392108e-01,\n",
       "            3.48617107e-01,   2.13183641e-01,   2.26841077e-01,\n",
       "            1.84716985e-01],\n",
       "         [ -5.99088707e+01,   2.04617405e+01,   3.86138725e+00,\n",
       "            4.40926981e+00,   1.42359173e+00,   2.15935946e+00,\n",
       "            8.03084016e-01,   1.21132565e+00,   5.85003138e-01,\n",
       "            7.80242682e-01,   3.50227833e-01,   6.83919609e-01,\n",
       "            1.04379281e-01,   6.08200192e-01,   9.24839228e-02,\n",
       "            3.78226459e-01,   2.05355957e-01,   2.12728664e-01,\n",
       "            2.11939052e-01],\n",
       "         [ -5.98128853e+01,   2.03701649e+01,   3.93765497e+00,\n",
       "            4.36168909e+00,   1.43837750e+00,   2.16284633e+00,\n",
       "            7.99235880e-01,   1.20623755e+00,   6.02732658e-01,\n",
       "            7.55145490e-01,   3.74221444e-01,   6.62777543e-01,\n",
       "            1.22764409e-01,   5.91827452e-01,   1.09893523e-01,\n",
       "            3.59047234e-01,   2.22243533e-01,   2.03787893e-01,\n",
       "            2.08651423e-01],\n",
       "         [ -5.97162819e+01,   2.02717171e+01,   4.02871323e+00,\n",
       "            4.29348040e+00,   1.48807120e+00,   2.11432505e+00,\n",
       "            8.56353760e-01,   1.14578950e+00,   6.51437104e-01,\n",
       "            7.31777668e-01,   3.64152640e-01,   7.09039986e-01,\n",
       "            5.22960611e-02,   6.59191370e-01,   7.15597868e-02,\n",
       "            3.58569860e-01,   2.50011563e-01,   1.69525534e-01,\n",
       "            2.34062433e-01],\n",
       "         [ -5.95400009e+01,   2.01165791e+01,   4.13648272e+00,\n",
       "            4.22920322e+00,   1.53005898e+00,   2.06468821e+00,\n",
       "            9.40497458e-01,   1.03054619e+00,   7.71845698e-01,\n",
       "            6.19790435e-01,   4.71530586e-01,   6.02821171e-01,\n",
       "            1.53833374e-01,   5.61226547e-01,   1.75320268e-01,\n",
       "            2.47462645e-01,   3.63602042e-01,   5.01544103e-02,\n",
       "            3.63269746e-01]]], dtype=float32),\n",
       " array([[[  5.76826477e+02,   2.64201599e+02,   1.42793243e+02, ...,\n",
       "            1.13530057e-02,   9.16787423e-03,   6.64706063e-03],\n",
       "         [  5.76826355e+02,   2.64201630e+02,   1.42793121e+02, ...,\n",
       "            1.22541338e-02,   1.06736291e-02,   6.52500475e-03],\n",
       "         [  5.76826599e+02,   2.64201904e+02,   1.42793076e+02, ...,\n",
       "            1.20156631e-02,   1.10886814e-02,   8.91866069e-03],\n",
       "         [  5.76826355e+02,   2.64201782e+02,   1.42793213e+02, ...,\n",
       "            1.20170135e-02,   9.73845180e-03,   7.92462099e-03],\n",
       "         [  5.76826050e+02,   2.64201416e+02,   1.42793167e+02, ...,\n",
       "            1.30621120e-02,   1.07732285e-02,   8.73465464e-03],\n",
       "         [  5.76826172e+02,   2.64201660e+02,   1.42793030e+02, ...,\n",
       "            9.84020717e-03,   1.02394745e-02,   8.19251873e-03]],\n",
       " \n",
       "        [[  1.15365265e+02,   5.28402939e+01,   2.85586491e+01, ...,\n",
       "            2.41021183e-03,   1.84980547e-03,   1.34775473e-03],\n",
       "         [  1.15365242e+02,   5.28403091e+01,   2.85586662e+01, ...,\n",
       "            2.32985429e-03,   2.41120951e-03,   1.41276675e-03],\n",
       "         [  1.15365273e+02,   5.28403702e+01,   2.85586205e+01, ...,\n",
       "            2.44550267e-03,   2.46809213e-03,   1.67072110e-03],\n",
       "         [  1.15365295e+02,   5.28403931e+01,   2.85586243e+01, ...,\n",
       "            2.57409015e-03,   2.21472001e-03,   1.78735540e-03],\n",
       "         [  1.15365219e+02,   5.28402443e+01,   2.85585747e+01, ...,\n",
       "            2.29189475e-03,   3.22071253e-03,   2.11451203e-03],\n",
       "         [  1.15365326e+02,   5.28403358e+01,   2.85585442e+01, ...,\n",
       "            2.32282234e-03,   3.01648979e-03,   1.99845037e-03]],\n",
       " \n",
       "        [[  5.76826334e+00,   2.64201498e+00,   1.42793214e+00, ...,\n",
       "            1.13881906e-04,   9.25062704e-05,   6.95854396e-05],\n",
       "         [  5.76826382e+00,   2.64201665e+00,   1.42793417e+00, ...,\n",
       "            1.17997777e-04,   1.08095410e-04,   7.44469216e-05],\n",
       "         [  5.76826525e+00,   2.64201736e+00,   1.42793512e+00, ...,\n",
       "            1.18073243e-04,   8.90728406e-05,   7.84715085e-05],\n",
       "         [  5.76825714e+00,   2.64200974e+00,   1.42792904e+00, ...,\n",
       "            1.18219294e-04,   1.22688740e-04,   7.15061688e-05],\n",
       "         [  5.76826096e+00,   2.64201403e+00,   1.42792916e+00, ...,\n",
       "            1.25095336e-04,   1.33187452e-04,   7.79331167e-05],\n",
       "         [  5.76826477e+00,   2.64201784e+00,   1.42793453e+00, ...,\n",
       "            1.31971639e-04,   1.58177616e-04,   1.24740196e-04]]], dtype=float32),\n",
       " array([[ 0.00195312,  0.        ,  0.        ,  0.        ,  0.        ,\n",
       "          0.        ],\n",
       "        [ 0.00195312,  0.        ,  0.        ,  0.        ,  0.        ,\n",
       "          0.        ],\n",
       "        [ 0.00195312,  0.        ,  0.        ,  0.        ,  0.        ,\n",
       "          0.        ]], dtype=float32),\n",
       " array([[ 295.17028809,  410.99569702,  532.42590332,  656.35754395,\n",
       "          781.60162354,  907.6149292 ],\n",
       "        [  59.03405762,   82.19914246,  106.4852066 ,  131.27154541,\n",
       "          156.32038879,  181.52305603],\n",
       "        [   2.95170283,    4.10995722,    5.32426023,    6.56357718,\n",
       "            7.81601906,    9.0761528 ]], dtype=float32))"
      ]
     },
     "execution_count": 32,
     "metadata": {},
     "output_type": "execute_result"
    }
   ],
   "source": [
    "sess.run(signalProcessBatch(b2))"
   ]
  },
  {
   "cell_type": "markdown",
   "metadata": {},
   "source": [
    "### Testing on some audio files"
   ]
  },
  {
   "cell_type": "code",
   "execution_count": null,
   "metadata": {
    "collapsed": false
   },
   "outputs": [],
   "source": []
  },
  {
   "cell_type": "code",
   "execution_count": null,
   "metadata": {
    "collapsed": true
   },
   "outputs": [],
   "source": []
  }
 ],
 "metadata": {
  "kernelspec": {
   "display_name": "Python 2",
   "language": "python",
   "name": "python2"
  },
  "language_info": {
   "codemirror_mode": {
    "name": "ipython",
    "version": 2
   },
   "file_extension": ".py",
   "mimetype": "text/x-python",
   "name": "python",
   "nbconvert_exporter": "python",
   "pygments_lexer": "ipython2",
   "version": "2.7.14"
  }
 },
 "nbformat": 4,
 "nbformat_minor": 2
}
