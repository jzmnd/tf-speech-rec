{
 "cells": [
  {
   "cell_type": "code",
   "execution_count": 1,
   "metadata": {},
   "outputs": [],
   "source": [
    "%matplotlib inline"
   ]
  },
  {
   "cell_type": "code",
   "execution_count": 2,
   "metadata": {},
   "outputs": [],
   "source": [
    "import matplotlib\n",
    "import seaborn as sns\n",
    "import matplotlib.pyplot as plt"
   ]
  },
  {
   "cell_type": "code",
   "execution_count": 3,
   "metadata": {},
   "outputs": [],
   "source": [
    "import os\n",
    "import sys\n",
    "import re"
   ]
  },
  {
   "cell_type": "code",
   "execution_count": 4,
   "metadata": {},
   "outputs": [
    {
     "name": "stderr",
     "output_type": "stream",
     "text": [
      "/usr/local/lib/python2.7/site-packages/h5py/__init__.py:36: FutureWarning: Conversion of the second argument of issubdtype from `float` to `np.floating` is deprecated. In future, it will be treated as `np.float64 == np.dtype(float).type`.\n",
      "  from ._conv import register_converters as _register_converters\n"
     ]
    }
   ],
   "source": [
    "import numpy as np\n",
    "import tensorflow as tf"
   ]
  },
  {
   "cell_type": "code",
   "execution_count": 5,
   "metadata": {},
   "outputs": [],
   "source": [
    "import time\n",
    "from datetime import datetime, timedelta"
   ]
  },
  {
   "cell_type": "markdown",
   "metadata": {},
   "source": [
    "## Load custom libraries"
   ]
  },
  {
   "cell_type": "code",
   "execution_count": 6,
   "metadata": {},
   "outputs": [],
   "source": [
    "import config as cfg\n",
    "from dataload import load_test_batch, load_data, load_batch\n",
    "from preprocessing import signalProcessBatch"
   ]
  },
  {
   "cell_type": "markdown",
   "metadata": {},
   "source": [
    "## Tensorflow setup"
   ]
  },
  {
   "cell_type": "code",
   "execution_count": 7,
   "metadata": {},
   "outputs": [],
   "source": [
    "# Tensorflow setup\n",
    "sess = None\n",
    "tf.logging.set_verbosity(tf.logging.INFO)\n",
    "\n",
    "def reset_vars():\n",
    "    \"\"\"Initializes all tf variables\"\"\"\n",
    "    sess.run(tf.global_variables_initializer())\n",
    "\n",
    "def reset_tf():\n",
    "    \"\"\"Closes the current tf session and opens new session\"\"\"\n",
    "    global sess\n",
    "    if sess:\n",
    "        sess.close()\n",
    "    tf.reset_default_graph()\n",
    "    sess = tf.Session()"
   ]
  },
  {
   "cell_type": "code",
   "execution_count": 8,
   "metadata": {},
   "outputs": [],
   "source": [
    "# Functions to initialize weights and biases\n",
    "def weight_variable(shape, name):\n",
    "    \"\"\"Creates a variable of size shape with random small positive numbers\"\"\"\n",
    "    initial = tf.truncated_normal(shape, stddev=0.01)\n",
    "    return tf.Variable(initial, name=name)\n",
    "\n",
    "\n",
    "def bias_variable(shape, name):\n",
    "    \"\"\"Creates a variable of size shape with a constant small positive number\"\"\"\n",
    "    initial = tf.constant(0.01, shape=shape)\n",
    "    return tf.Variable(initial, name=name)"
   ]
  },
  {
   "cell_type": "code",
   "execution_count": 9,
   "metadata": {},
   "outputs": [],
   "source": [
    "# Conv2d, max pooling, and dropout wrapper functions for simplicity\n",
    "def conv2d(x, W, sx=1, sy=1, padding='VALID'):\n",
    "    return tf.nn.conv2d(x, W,\n",
    "                        strides=[1, sx, sy, 1],\n",
    "                        padding=padding)\n",
    "\n",
    "\n",
    "def max_pool_2d(x, kx=2, ky=2, padding='VALID'):\n",
    "    return tf.nn.max_pool(x,\n",
    "                          ksize=[1, kx, ky, 1],\n",
    "                          strides=[1, kx, ky, 1],\n",
    "                          padding=padding)\n",
    "\n",
    "\n",
    "def dropout(x, d, is_training):\n",
    "    return tf.cond(is_training, lambda: tf.nn.dropout(x, d), lambda: x)"
   ]
  },
  {
   "cell_type": "code",
   "execution_count": 10,
   "metadata": {},
   "outputs": [],
   "source": [
    "# Numpy functions in tensorflow\n",
    "def tf_diff_axis(arr):\n",
    "    \"\"\"Equivalent of np.diff on final axis\"\"\"\n",
    "    return arr[..., 1:] - arr[..., :-1]"
   ]
  },
  {
   "cell_type": "markdown",
   "metadata": {},
   "source": [
    "## Build model"
   ]
  },
  {
   "cell_type": "code",
   "execution_count": 157,
   "metadata": {},
   "outputs": [],
   "source": [
    "reset_tf()\n",
    "\n",
    "# Model parameters\n",
    "melspec_shape = (122, 120)                          # Shape of Mel spectrum data (t x f)\n",
    "melspec_size = melspec_shape[0] * melspec_shape[1]\n",
    "mfcc_shape = (122, 13)                              # Shape of MFCC data (t x mfcc)\n",
    "mfcc_size = mfcc_shape[0] * mfcc_shape[1]\n",
    "sf_size = 122                                       # Length of 1D feature arrays e.g. ZCR and RMSE\n",
    "\n",
    "n_classes = len(cfg.NUM2LABEL)\n",
    "\n",
    "batch_size = 128\n",
    "silence_size = 4\n",
    "num_iterations = 200\n",
    "display_step = 10\n",
    "checkpoint_step = 100\n",
    "\n",
    "learning_rate = 5e-4\n",
    "dropout_prob_value = 0.50                           # Dropout, probability to keep units\n",
    "\n",
    "noise_factor_value = 0.1\n",
    "noise_frac_value = 0.25"
   ]
  },
  {
   "cell_type": "code",
   "execution_count": 158,
   "metadata": {},
   "outputs": [
    {
     "name": "stdout",
     "output_type": "stream",
     "text": [
      "Total feature size:  16348\n"
     ]
    }
   ],
   "source": [
    "print \"Total feature size:  {}\".format(melspec_size + mfcc_size + sf_size)"
   ]
  },
  {
   "cell_type": "code",
   "execution_count": 172,
   "metadata": {},
   "outputs": [],
   "source": [
    "# MODEL\n",
    "def convSpeechModelF(x_mel_in, x_mfcc_in, x_zcr_in, x_rmse_in,\n",
    "                     dropout_prob=None, is_training=False):\n",
    "    \"\"\"Model based on Thomas O'Malley's conv model\"\"\"\n",
    "\n",
    "    # ======================================================\n",
    "    # Setup the parameters for the model\n",
    "    # ======================================================\n",
    "\n",
    "    # Mel spectrogram input with 120 mel filter banks\n",
    "    t_size = 122\n",
    "    f_size = 120\n",
    "\n",
    "    # Parameters for Conv layer 1 filter\n",
    "    # (\"Denoising\" and basic feature extraction)\n",
    "    filter_size_t_1 = 7\n",
    "    filter_size_f_1 = 3\n",
    "    filter_count_1 = 64\n",
    "    filter_stride_t_1 = 1\n",
    "    filter_stride_f_1 = 1\n",
    "\n",
    "    # Parameters for Conv layer 2 filter\n",
    "    # (Look for local patterns across frequency bands)\n",
    "    filter_size_t_2 = 1\n",
    "    filter_size_f_2 = 7\n",
    "    filter_count_2 = 128\n",
    "    filter_stride_t_2 = 1\n",
    "    filter_stride_f_2 = 1\n",
    "\n",
    "    # Parameters for Conv layer 3 filter\n",
    "    # (Detecting phoneme-level features)\n",
    "    filter_size_t_3 = 1\n",
    "    filter_size_f_3 = 10\n",
    "    filter_count_3 = 256\n",
    "    filter_stride_t_3 = 1\n",
    "    filter_stride_f_3 = 1\n",
    "\n",
    "    # Parameters for Conv layer 4 filter\n",
    "    # (Looking for connected components of a short keyword at different points in time)\n",
    "    filter_size_t_4 = 7\n",
    "    filter_size_f_4 = 1\n",
    "    filter_count_4 = 512\n",
    "    filter_stride_t_4 = 1\n",
    "    filter_stride_f_4 = 1\n",
    "\n",
    "    # Paramaters for FC layers\n",
    "    fc_output_channels_1 = 256\n",
    "    fc_output_channels_2 = cfg.N_CLASSES\n",
    "\n",
    "    # Number of elements in the first FC layer\n",
    "    fc_element_count = t_size * filter_count_4\n",
    "\n",
    "    # ======================================================\n",
    "    # Setup dictionaries containing weights and biases\n",
    "    # ======================================================\n",
    "\n",
    "    weights = {\n",
    "        'wconv1': weight_variable([filter_size_t_1, filter_size_f_1, 1, filter_count_1], 'wconv1'),\n",
    "        'wconv2': weight_variable([filter_size_t_2, filter_size_f_2, filter_count_1, filter_count_2], 'wconv2'),\n",
    "        'wconv3': weight_variable([filter_size_t_3, filter_size_f_3, filter_count_2, filter_count_3], 'wconv3'),\n",
    "        'wconv4': weight_variable([filter_size_t_4, filter_size_f_4, filter_count_3, filter_count_4], 'wconv4'),\n",
    "        'wfc1': weight_variable([fc_element_count, fc_output_channels_1], 'wfc1'),\n",
    "        'wfc2': weight_variable([fc_output_channels_1, fc_output_channels_2], 'wfc2'),\n",
    "    }\n",
    "    biases = {\n",
    "        'bconv1': bias_variable([filter_count_1], 'bconv1'),\n",
    "        'bconv2': bias_variable([filter_count_2], 'bconv2'),\n",
    "        'bconv3': bias_variable([filter_count_3], 'bconv3'),\n",
    "        'bconv4': bias_variable([filter_count_4], 'bconv4'),\n",
    "        'bfc1': bias_variable([fc_output_channels_1], 'bfc1'),\n",
    "        'bfc2': bias_variable([fc_output_channels_2], 'bfc2'),\n",
    "    }\n",
    "\n",
    "    # ======================================================\n",
    "    # Model definition and calculations\n",
    "    # ======================================================\n",
    "\n",
    "    # Calculate deltaZCR and deltaRMSE (pad 0 at end)\n",
    "    paddings = tf.constant([[0, 0], [0, 1]])\n",
    "    x_zcr_delta = tf.pad(tf_diff_axis(x_zcr_in), paddings, 'CONSTANT')\n",
    "    x_rmse_delta = tf.pad(tf_diff_axis(x_rmse_in), paddings, 'CONSTANT')\n",
    "\n",
    "    # Reshape to [audio file number, time size, 1]\n",
    "    x_zcr_in_rs = tf.reshape(x_zcr_in, [-1, t_size, 1])\n",
    "    x_zcr_delta_rs = tf.reshape(x_zcr_delta, [-1, t_size, 1])\n",
    "    x_rmse_in_rs = tf.reshape(x_rmse_in, [-1, t_size, 1])\n",
    "    x_rmse_delta_rs = tf.reshape(x_rmse_delta, [-1, t_size, 1])\n",
    "\n",
    "    # Stack together ZCR and RMSE features using tf.concat\n",
    "    zr_stack = tf.concat([x_zcr_in_rs, x_zcr_delta_rs, x_rmse_in_rs, x_rmse_delta_rs], 2)\n",
    "\n",
    "    # Stack with the mel spectrogram using tf.concat to make fingerprint\n",
    "    #x_fingerprint = tf.concat([zr_stack, x_mel_in], 2)\n",
    "    x_fingerprint = x_mel_in\n",
    "\n",
    "    # Normalize (L2) along the time axis\n",
    "    x_fingerprint_norm = tf.nn.l2_normalize(x_fingerprint, 1, epsilon=1e-8)\n",
    "\n",
    "    # Reshape input to [audio file number, time size, freq size + stacked features, channel]\n",
    "    x_fingerprint_rs = tf.reshape(x_fingerprint_norm, [-1, t_size, f_size, 1])\n",
    "\n",
    "    # Layer 1: first Conv layer, BiasAdd and ReLU\n",
    "    x_fingerprint_1 = tf.nn.relu(conv2d(x_fingerprint_rs, weights['wconv1'],\n",
    "                                        sx=filter_stride_t_1,\n",
    "                                        sy=filter_stride_f_1,\n",
    "                                        padding='SAME') + biases['bconv1'])\n",
    "\n",
    "    # Dropout 1:\n",
    "    x_fingerprint_dropout_1 = dropout(x_fingerprint_1, dropout_prob, is_training)\n",
    "\n",
    "    # Max pool 1:\n",
    "    x_fingerprint_mp_1 = max_pool_2d(x_fingerprint_dropout_1,\n",
    "                                     kx=1,\n",
    "                                     ky=3,\n",
    "                                     padding='SAME')\n",
    "\n",
    "    # Layer 2: second Conv layer, BiasAdd and ReLU\n",
    "    x_fingerprint_2 = tf.nn.relu(conv2d(x_fingerprint_mp_1, weights['wconv2'],\n",
    "                                        sx=filter_stride_t_2,\n",
    "                                        sy=filter_stride_f_2,\n",
    "                                        padding='SAME') + biases['bconv2'])\n",
    "\n",
    "    # Dropout 2:\n",
    "    x_fingerprint_dropout_2 = dropout(x_fingerprint_2, dropout_prob, is_training)\n",
    "    \n",
    "    # Max pool 2:\n",
    "    x_fingerprint_mp_2 = max_pool_2d(x_fingerprint_dropout_2,\n",
    "                                     kx=1,\n",
    "                                     ky=4,\n",
    "                                     padding='SAME')\n",
    "    \n",
    "    # Layer 3: third Conv layer, BiasAdd and ReLU\n",
    "    x_fingerprint_3 = tf.nn.relu(conv2d(x_fingerprint_mp_2, weights['wconv3'],\n",
    "                                        sx=filter_stride_t_3,\n",
    "                                        sy=filter_stride_f_3,\n",
    "                                        padding='VALID') + biases['bconv3'])\n",
    "    \n",
    "    # Dropout 3:\n",
    "    x_fingerprint_dropout_3 = dropout(x_fingerprint_3, dropout_prob, is_training)\n",
    "\n",
    "    # Layer 4: fourth Conv layer, BiasAdd and ReLU\n",
    "    x_fingerprint_4 = tf.nn.relu(conv2d(x_fingerprint_dropout_3, weights['wconv4'],\n",
    "                                        sx=filter_stride_t_4,\n",
    "                                        sy=filter_stride_f_4,\n",
    "                                        padding='SAME') + biases['bconv4'])\n",
    "    \n",
    "    # Dropout 4:\n",
    "    x_fingerprint_dropout_4 = dropout(x_fingerprint_4, dropout_prob, is_training)\n",
    "\n",
    "    # Flatten layers\n",
    "    x_fingerprint_4_rs = tf.reshape(x_fingerprint_dropout_4, [-1, fc_element_count])\n",
    "\n",
    "    # Layer 5: first FC layer\n",
    "    x_fingerprint_5 = tf.matmul(x_fingerprint_4_rs, weights['wfc1']) + biases['bfc1']\n",
    "\n",
    "    # Dropout 5:\n",
    "    x_fingerprint_dropout_5 = dropout(x_fingerprint_5, dropout_prob, is_training)\n",
    "\n",
    "    # Layer 6: final FC layer\n",
    "    x_fingerprint_output = tf.matmul(x_fingerprint_dropout_5, weights['wfc2']) + biases['bfc2']\n",
    "\n",
    "    return x_fingerprint_output"
   ]
  },
  {
   "cell_type": "code",
   "execution_count": 173,
   "metadata": {},
   "outputs": [],
   "source": [
    "# Placeholders for signals preprocessing inputs\n",
    "X_data = tf.placeholder(tf.float32, [None, cfg.SAMRATE], name='X_data')\n",
    "\n",
    "noise_factor = tf.placeholder(tf.float32, shape=(), name='noise_factor')\n",
    "noise_frac = tf.placeholder(tf.float32, shape=(), name='noise_frac')"
   ]
  },
  {
   "cell_type": "code",
   "execution_count": 174,
   "metadata": {},
   "outputs": [],
   "source": [
    "# Define the audio features\n",
    "x_mfcc, x_mel, x_zcr, x_rmse = signalProcessBatch(X_data,\n",
    "                                                  noise_factor=noise_factor,\n",
    "                                                  noise_frac=noise_frac,\n",
    "                                                  window=512,\n",
    "                                                  maxamps=cfg.MAXAMPS, sr=cfg.SAMRATE,\n",
    "                                                  num_mel_bins=120, num_mfccs=13)"
   ]
  },
  {
   "cell_type": "code",
   "execution_count": 175,
   "metadata": {},
   "outputs": [
    {
     "data": {
      "text/plain": [
       "TensorShape([Dimension(None), Dimension(122), Dimension(120)])"
      ]
     },
     "execution_count": 175,
     "metadata": {},
     "output_type": "execute_result"
    }
   ],
   "source": [
    "x_mel.shape"
   ]
  },
  {
   "cell_type": "code",
   "execution_count": 176,
   "metadata": {},
   "outputs": [],
   "source": [
    "# Placeholder variables output (1-hot vectors of size n_classes)\n",
    "y_true = tf.placeholder(tf.float32, shape=[None, n_classes], name='y_true')\n",
    "y_true_class = tf.argmax(y_true, 1, name='y_true_class')"
   ]
  },
  {
   "cell_type": "code",
   "execution_count": 177,
   "metadata": {},
   "outputs": [],
   "source": [
    "# Dropout keep probability and training flag\n",
    "dropout_prob = tf.placeholder(tf.float32, shape=(), name='dropout_prob')\n",
    "is_training = tf.placeholder(tf.bool, name=\"is_training\")"
   ]
  },
  {
   "cell_type": "code",
   "execution_count": 178,
   "metadata": {},
   "outputs": [],
   "source": [
    "# Prediction from model\n",
    "y_pred = convSpeechModelF(x_mel, x_mfcc, x_zcr, x_rmse, dropout_prob=dropout_prob, is_training=is_training)"
   ]
  },
  {
   "cell_type": "markdown",
   "metadata": {},
   "source": [
    "### Quick test on 2 files"
   ]
  },
  {
   "cell_type": "code",
   "execution_count": 179,
   "metadata": {},
   "outputs": [],
   "source": [
    "X_data_values, X_filenames = load_test_batch(cfg.DATA_DIR, idx=10, batch_size=2, samples=cfg.SAMRATE)"
   ]
  },
  {
   "cell_type": "code",
   "execution_count": 180,
   "metadata": {},
   "outputs": [
    {
     "data": {
      "text/plain": [
       "['clip_f07c5d227.wav', 'clip_fb1d0cdb0.wav']"
      ]
     },
     "execution_count": 180,
     "metadata": {},
     "output_type": "execute_result"
    }
   ],
   "source": [
    "X_filenames"
   ]
  },
  {
   "cell_type": "code",
   "execution_count": 181,
   "metadata": {},
   "outputs": [],
   "source": [
    "x_mfcc_val, x_mel_val, x_zcr_val, x_rmse_val = sess.run(\n",
    "    [x_mfcc, x_mel, x_zcr, x_rmse],\n",
    "    feed_dict={X_data: X_data_values,\n",
    "               noise_factor: 0.1,\n",
    "               noise_frac: 1.0})"
   ]
  },
  {
   "cell_type": "code",
   "execution_count": 182,
   "metadata": {},
   "outputs": [
    {
     "data": {
      "image/png": "[encoded data removed]",
      "text/plain": [
       "<matplotlib.figure.Figure at 0x103f2c550>"
      ]
     },
     "metadata": {},
     "output_type": "display_data"
    }
   ],
   "source": [
    "plt.figure(figsize=(12, 4))\n",
    "plt.subplot(121)\n",
    "plt.pcolormesh(x_mel_val[0].T)\n",
    "plt.subplot(122)\n",
    "plt.pcolormesh(x_mel_val[1].T);"
   ]
  },
  {
   "cell_type": "code",
   "execution_count": 183,
   "metadata": {},
   "outputs": [],
   "source": [
    "# Initialize\n",
    "reset_vars()"
   ]
  },
  {
   "cell_type": "code",
   "execution_count": 184,
   "metadata": {
    "scrolled": false
   },
   "outputs": [
    {
     "data": {
      "text/plain": [
       "array([[ 1.15154618e-02,  1.09428763e-02,  8.88503902e-03,\n",
       "         2.29703970e-02,  1.46211395e-02,  8.53971764e-03,\n",
       "         9.23797302e-03, -1.24195125e-03,  1.43485898e-02,\n",
       "         2.12760121e-02,  1.36896465e-02, -7.10044987e-04],\n",
       "       [ 7.57573172e-04,  8.49248376e-03,  9.85423476e-03,\n",
       "         2.62799654e-02,  7.86288176e-03,  1.11268796e-02,\n",
       "         7.69552775e-04, -4.76459973e-03,  1.25626046e-02,\n",
       "         9.18482337e-03,  5.19057084e-03,  9.22344625e-05]], dtype=float32)"
      ]
     },
     "execution_count": 184,
     "metadata": {},
     "output_type": "execute_result"
    }
   ],
   "source": [
    "sess.run(y_pred, feed_dict={x_mel: x_mel_val,\n",
    "                            x_mfcc: x_mfcc_val,\n",
    "                            x_zcr: x_zcr_val,\n",
    "                            x_rmse: x_rmse_val, \n",
    "                            dropout_prob: dropout_prob_value,\n",
    "                            is_training: True})"
   ]
  },
  {
   "cell_type": "markdown",
   "metadata": {},
   "source": [
    "### Loss, accuracy, etc."
   ]
  },
  {
   "cell_type": "code",
   "execution_count": 185,
   "metadata": {},
   "outputs": [
    {
     "data": {
      "text/plain": [
       "<tf.Tensor 'accuracy:0' shape=() dtype=string>"
      ]
     },
     "execution_count": 185,
     "metadata": {},
     "output_type": "execute_result"
    }
   ],
   "source": [
    "# Cross entropy loss function with softmax then takes mean\n",
    "loss = tf.reduce_mean(tf.nn.softmax_cross_entropy_with_logits(logits=y_pred, labels=y_true))\n",
    "tf.summary.scalar('loss', loss)\n",
    "\n",
    "# Train and backprop gradients function\n",
    "optimizer = tf.train.AdamOptimizer(learning_rate=learning_rate).minimize(loss)\n",
    "\n",
    "# Evaluation and accuracy\n",
    "y_pred_class = tf.argmax(y_pred, 1, name='y_pred_class')\n",
    "correct_prediction = tf.equal(y_pred_class, y_true_class)\n",
    "confusion_matrix = tf.confusion_matrix(y_true_class, y_pred_class, num_classes=n_classes)\n",
    "accuracy = tf.reduce_mean(tf.cast(correct_prediction, tf.float32))\n",
    "tf.summary.scalar('accuracy', accuracy)"
   ]
  },
  {
   "cell_type": "code",
   "execution_count": 186,
   "metadata": {},
   "outputs": [],
   "source": [
    "# Merge all summaries\n",
    "merged = tf.summary.merge_all()"
   ]
  },
  {
   "cell_type": "code",
   "execution_count": 187,
   "metadata": {},
   "outputs": [],
   "source": [
    "# Saver for checkpoints\n",
    "saver = tf.train.Saver(tf.global_variables())"
   ]
  },
  {
   "cell_type": "code",
   "execution_count": 188,
   "metadata": {},
   "outputs": [
    {
     "data": {
      "text/plain": [
       "[<tf.Variable 'wconv1:0' shape=(7, 3, 1, 64) dtype=float32_ref>,\n",
       " <tf.Variable 'wconv2:0' shape=(1, 7, 64, 128) dtype=float32_ref>,\n",
       " <tf.Variable 'wconv3:0' shape=(1, 10, 128, 256) dtype=float32_ref>,\n",
       " <tf.Variable 'wconv4:0' shape=(7, 1, 256, 512) dtype=float32_ref>,\n",
       " <tf.Variable 'wfc1:0' shape=(62464, 256) dtype=float32_ref>,\n",
       " <tf.Variable 'wfc2:0' shape=(256, 12) dtype=float32_ref>,\n",
       " <tf.Variable 'bconv1:0' shape=(64,) dtype=float32_ref>,\n",
       " <tf.Variable 'bconv2:0' shape=(128,) dtype=float32_ref>,\n",
       " <tf.Variable 'bconv3:0' shape=(256,) dtype=float32_ref>,\n",
       " <tf.Variable 'bconv4:0' shape=(512,) dtype=float32_ref>,\n",
       " <tf.Variable 'bfc1:0' shape=(256,) dtype=float32_ref>,\n",
       " <tf.Variable 'bfc2:0' shape=(12,) dtype=float32_ref>,\n",
       " <tf.Variable 'wconv1_1:0' shape=(7, 3, 1, 64) dtype=float32_ref>,\n",
       " <tf.Variable 'wconv2_1:0' shape=(1, 7, 64, 128) dtype=float32_ref>,\n",
       " <tf.Variable 'wconv3_1:0' shape=(1, 10, 128, 256) dtype=float32_ref>,\n",
       " <tf.Variable 'wconv4_1:0' shape=(7, 1, 256, 512) dtype=float32_ref>,\n",
       " <tf.Variable 'wfc1_1:0' shape=(62464, 256) dtype=float32_ref>,\n",
       " <tf.Variable 'wfc2_1:0' shape=(256, 12) dtype=float32_ref>,\n",
       " <tf.Variable 'bconv1_1:0' shape=(64,) dtype=float32_ref>,\n",
       " <tf.Variable 'bconv2_1:0' shape=(128,) dtype=float32_ref>,\n",
       " <tf.Variable 'bconv3_1:0' shape=(256,) dtype=float32_ref>,\n",
       " <tf.Variable 'bconv4_1:0' shape=(512,) dtype=float32_ref>,\n",
       " <tf.Variable 'bfc1_1:0' shape=(256,) dtype=float32_ref>,\n",
       " <tf.Variable 'bfc2_1:0' shape=(12,) dtype=float32_ref>,\n",
       " <tf.Variable 'beta1_power:0' shape=() dtype=float32_ref>,\n",
       " <tf.Variable 'beta2_power:0' shape=() dtype=float32_ref>,\n",
       " <tf.Variable 'wconv1_1/Adam:0' shape=(7, 3, 1, 64) dtype=float32_ref>,\n",
       " <tf.Variable 'wconv1_1/Adam_1:0' shape=(7, 3, 1, 64) dtype=float32_ref>,\n",
       " <tf.Variable 'wconv2_1/Adam:0' shape=(1, 7, 64, 128) dtype=float32_ref>,\n",
       " <tf.Variable 'wconv2_1/Adam_1:0' shape=(1, 7, 64, 128) dtype=float32_ref>,\n",
       " <tf.Variable 'wconv3_1/Adam:0' shape=(1, 10, 128, 256) dtype=float32_ref>,\n",
       " <tf.Variable 'wconv3_1/Adam_1:0' shape=(1, 10, 128, 256) dtype=float32_ref>,\n",
       " <tf.Variable 'wconv4_1/Adam:0' shape=(7, 1, 256, 512) dtype=float32_ref>,\n",
       " <tf.Variable 'wconv4_1/Adam_1:0' shape=(7, 1, 256, 512) dtype=float32_ref>,\n",
       " <tf.Variable 'wfc1_1/Adam:0' shape=(62464, 256) dtype=float32_ref>,\n",
       " <tf.Variable 'wfc1_1/Adam_1:0' shape=(62464, 256) dtype=float32_ref>,\n",
       " <tf.Variable 'wfc2_1/Adam:0' shape=(256, 12) dtype=float32_ref>,\n",
       " <tf.Variable 'wfc2_1/Adam_1:0' shape=(256, 12) dtype=float32_ref>,\n",
       " <tf.Variable 'bconv1_1/Adam:0' shape=(64,) dtype=float32_ref>,\n",
       " <tf.Variable 'bconv1_1/Adam_1:0' shape=(64,) dtype=float32_ref>,\n",
       " <tf.Variable 'bconv2_1/Adam:0' shape=(128,) dtype=float32_ref>,\n",
       " <tf.Variable 'bconv2_1/Adam_1:0' shape=(128,) dtype=float32_ref>,\n",
       " <tf.Variable 'bconv3_1/Adam:0' shape=(256,) dtype=float32_ref>,\n",
       " <tf.Variable 'bconv3_1/Adam_1:0' shape=(256,) dtype=float32_ref>,\n",
       " <tf.Variable 'bconv4_1/Adam:0' shape=(512,) dtype=float32_ref>,\n",
       " <tf.Variable 'bconv4_1/Adam_1:0' shape=(512,) dtype=float32_ref>,\n",
       " <tf.Variable 'bfc1_1/Adam:0' shape=(256,) dtype=float32_ref>,\n",
       " <tf.Variable 'bfc1_1/Adam_1:0' shape=(256,) dtype=float32_ref>,\n",
       " <tf.Variable 'bfc2_1/Adam:0' shape=(12,) dtype=float32_ref>,\n",
       " <tf.Variable 'bfc2_1/Adam_1:0' shape=(12,) dtype=float32_ref>]"
      ]
     },
     "execution_count": 188,
     "metadata": {},
     "output_type": "execute_result"
    }
   ],
   "source": [
    "tf.global_variables()"
   ]
  },
  {
   "cell_type": "code",
   "execution_count": 189,
   "metadata": {},
   "outputs": [
    {
     "data": {
      "text/plain": [
       "[<tf.Variable 'wconv1:0' shape=(7, 3, 1, 64) dtype=float32_ref>,\n",
       " <tf.Variable 'wconv2:0' shape=(1, 7, 64, 128) dtype=float32_ref>,\n",
       " <tf.Variable 'wconv3:0' shape=(1, 10, 128, 256) dtype=float32_ref>,\n",
       " <tf.Variable 'wconv4:0' shape=(7, 1, 256, 512) dtype=float32_ref>,\n",
       " <tf.Variable 'wfc1:0' shape=(62464, 256) dtype=float32_ref>,\n",
       " <tf.Variable 'wfc2:0' shape=(256, 12) dtype=float32_ref>,\n",
       " <tf.Variable 'bconv1:0' shape=(64,) dtype=float32_ref>,\n",
       " <tf.Variable 'bconv2:0' shape=(128,) dtype=float32_ref>,\n",
       " <tf.Variable 'bconv3:0' shape=(256,) dtype=float32_ref>,\n",
       " <tf.Variable 'bconv4:0' shape=(512,) dtype=float32_ref>,\n",
       " <tf.Variable 'bfc1:0' shape=(256,) dtype=float32_ref>,\n",
       " <tf.Variable 'bfc2:0' shape=(12,) dtype=float32_ref>,\n",
       " <tf.Variable 'wconv1_1:0' shape=(7, 3, 1, 64) dtype=float32_ref>,\n",
       " <tf.Variable 'wconv2_1:0' shape=(1, 7, 64, 128) dtype=float32_ref>,\n",
       " <tf.Variable 'wconv3_1:0' shape=(1, 10, 128, 256) dtype=float32_ref>,\n",
       " <tf.Variable 'wconv4_1:0' shape=(7, 1, 256, 512) dtype=float32_ref>,\n",
       " <tf.Variable 'wfc1_1:0' shape=(62464, 256) dtype=float32_ref>,\n",
       " <tf.Variable 'wfc2_1:0' shape=(256, 12) dtype=float32_ref>,\n",
       " <tf.Variable 'bconv1_1:0' shape=(64,) dtype=float32_ref>,\n",
       " <tf.Variable 'bconv2_1:0' shape=(128,) dtype=float32_ref>,\n",
       " <tf.Variable 'bconv3_1:0' shape=(256,) dtype=float32_ref>,\n",
       " <tf.Variable 'bconv4_1:0' shape=(512,) dtype=float32_ref>,\n",
       " <tf.Variable 'bfc1_1:0' shape=(256,) dtype=float32_ref>,\n",
       " <tf.Variable 'bfc2_1:0' shape=(12,) dtype=float32_ref>]"
      ]
     },
     "execution_count": 189,
     "metadata": {},
     "output_type": "execute_result"
    }
   ],
   "source": [
    "tf.trainable_variables()"
   ]
  },
  {
   "cell_type": "markdown",
   "metadata": {},
   "source": [
    "## Train model"
   ]
  },
  {
   "cell_type": "code",
   "execution_count": 190,
   "metadata": {},
   "outputs": [],
   "source": [
    "# TRAINING\n",
    "def run_optimize(num_iterations, logs_path, min_loss=0):\n",
    "    # Start-time\n",
    "    start_time = time.time()\n",
    "    msg = \"\\n====================\\nStarting training...\\n====================\"\n",
    "    tf.logging.info(msg)\n",
    "    \n",
    "    df = load_data(cfg.DATA_DIR)\n",
    "\n",
    "    w = 0.075\n",
    "    tf.logging.info(\"Begin iterations...\")\n",
    "    for i in xrange(num_iterations):\n",
    "        \n",
    "        # Get the training batch\n",
    "        X_train, y_true_batch = load_batch(df, cfg.DATA_DIR,\n",
    "                                           batch_size=batch_size, silence_size=silence_size,\n",
    "                                           label='train',\n",
    "                                           random=True, seed=None,\n",
    "                                           w=w, samples=cfg.SAMRATE)\n",
    "        \n",
    "        # Preprocess the training batch\n",
    "        x_mfcc_batch, x_mel_batch, x_zcr_batch, x_rmse_batch = sess.run(\n",
    "            [x_mfcc, x_mel, x_zcr, x_rmse],\n",
    "            feed_dict={X_data: X_train,\n",
    "                       noise_factor: noise_factor_value,\n",
    "                       noise_frac: noise_frac_value})\n",
    "\n",
    "        # Training optimization\n",
    "        sess.run(optimizer, feed_dict={x_mel: x_mel_batch,\n",
    "                                       x_mfcc: x_mfcc_batch,\n",
    "                                       x_zcr: x_zcr_batch,\n",
    "                                       x_rmse: x_rmse_batch, \n",
    "                                       y_true: y_true_batch,\n",
    "                                       dropout_prob: dropout_prob_value,\n",
    "                                       is_training: True})\n",
    "        \n",
    "        # Checkpoint save and validation step\n",
    "        if ((i + 1) % checkpoint_step == 0) or (i == num_iterations - 1):\n",
    "            \n",
    "            # Checkpoint\n",
    "            checkpoint_path = os.path.join(logs_path, 'model.ckpt')\n",
    "            msg = \"Saving checkpoint to: {}-{}\"\n",
    "            tf.logging.info(msg.format(checkpoint_path, i + 1))\n",
    "            saver.save(sess, checkpoint_path, global_step=i + 1)\n",
    "            \n",
    "            # Load the validation batches\n",
    "            val_batch_size = 100\n",
    "            total_val_accuracy = 0\n",
    "            total_conf_matrix = None\n",
    "            set_size = 6700\n",
    "            for j in xrange(0, set_size, val_batch_size):\n",
    "                X_val, y_true_val = load_batch(df, cfg.DATA_DIR,\n",
    "                                               batch_size=val_batch_size, silence_size=silence_size,\n",
    "                                               label='val',\n",
    "                                               random=False, seed=j,\n",
    "                                               w=1.0, samples=cfg.SAMRATE)\n",
    "    \n",
    "                # Preprocess the validation batch\n",
    "                x_mfcc_val, x_mel_val, x_zcr_val, x_rmse_val = sess.run(\n",
    "                    [x_mfcc, x_mel, x_zcr, x_rmse],\n",
    "                    feed_dict = {X_data: X_val,\n",
    "                                 noise_factor: 0.0,\n",
    "                                 noise_frac: 0.0})\n",
    "                \n",
    "                # Validation summary\n",
    "                val_summary, loss_val, acc_val, conf_matrix = sess.run(\n",
    "                    [merged, loss, accuracy, confusion_matrix],\n",
    "                    feed_dict={x_mel: x_mel_val,\n",
    "                               x_mfcc: x_mfcc_val,\n",
    "                               x_zcr: x_zcr_val,\n",
    "                               x_rmse: x_rmse_val,\n",
    "                               y_true: y_true_val,\n",
    "                               dropout_prob: 1.0,\n",
    "                               is_training: False})\n",
    "                total_val_accuracy += (acc_val * val_batch_size) / set_size\n",
    "                if total_conf_matrix is None:\n",
    "                    total_conf_matrix = conf_matrix\n",
    "                else:\n",
    "                    total_conf_matrix += conf_matrix\n",
    "            \n",
    "            msg = \"Confusion Matrix:\\n {}\"\n",
    "            tf.logging.info(msg.format(total_conf_matrix))\n",
    "            msg = \"VALIDATION ACC: {:6f}, (N = {})\"\n",
    "            tf.logging.info(msg.format(total_val_accuracy, set_size))\n",
    "\n",
    "        # Display step\n",
    "        if (i == 0) or ((i + 1) % display_step == 0) or (i == num_iterations - 1):\n",
    "            # Training summary, loss and accuracy\n",
    "            train_summary, loss_train, acc_train = sess.run(\n",
    "                [merged, loss, accuracy],\n",
    "                feed_dict={x_mel: x_mel_batch,\n",
    "                           x_mfcc: x_mfcc_batch,\n",
    "                           x_zcr: x_zcr_batch,\n",
    "                           x_rmse: x_rmse_batch,\n",
    "                           y_true: y_true_batch,\n",
    "                           dropout_prob: 1.0,\n",
    "                           is_training: False})\n",
    "            train_writer.add_summary(train_summary, i + 1)\n",
    "            \n",
    "            # Display message\n",
    "            msg = \"  OPTIMIZE STEP: {:6d}, LOSS, {:.6f}, ACC: {:.6f}\"\n",
    "            tf.logging.info(msg.format(i + 1, loss_train, acc_train))\n",
    "    \n",
    "            # Check if loss is below minimum\n",
    "            if loss_train < min_loss:\n",
    "                break\n",
    "    \n",
    "    # End-time\n",
    "    end_time = time.time()\n",
    "    msg = \"Time usage: {}\"\n",
    "    tf.logging.info(msg.format(timedelta(seconds=int(round(end_time - start_time)))))\n",
    "    return"
   ]
  },
  {
   "cell_type": "markdown",
   "metadata": {},
   "source": [
    "## Run Training (short test)"
   ]
  },
  {
   "cell_type": "code",
   "execution_count": 191,
   "metadata": {},
   "outputs": [],
   "source": [
    "# Initialize\n",
    "reset_vars()\n",
    "\n",
    "# Set path to summary logs\n",
    "now = datetime.now()\n",
    "logs_path = os.path.join(cfg.OUT_DIR, now.strftime(\"%Y%m%d-%H%M%S\"), 'summaries')\n",
    "\n",
    "# Create summary writers\n",
    "train_writer = tf.summary.FileWriter(os.path.join(logs_path, 'train'), graph=tf.get_default_graph())\n",
    "test_writer = tf.summary.FileWriter(os.path.join(logs_path, 'test'), graph=tf.get_default_graph())"
   ]
  },
  {
   "cell_type": "code",
   "execution_count": 192,
   "metadata": {},
   "outputs": [
    {
     "name": "stdout",
     "output_type": "stream",
     "text": [
      "INFO:tensorflow:\n",
      "====================\n",
      "Starting training...\n",
      "====================\n",
      "INFO:tensorflow:Begin iterations...\n"
     ]
    },
    {
     "ename": "KeyboardInterrupt",
     "evalue": "",
     "output_type": "error",
     "traceback": [
      "\u001b[0;31m---------------------------------------------------------------------------\u001b[0m",
      "\u001b[0;31mKeyboardInterrupt\u001b[0m                         Traceback (most recent call last)",
      "\u001b[0;32m<ipython-input-192-f082192ca34a>\u001b[0m in \u001b[0;36m<module>\u001b[0;34m()\u001b[0m\n\u001b[0;32m----> 1\u001b[0;31m \u001b[0mrun_optimize\u001b[0m\u001b[0;34m(\u001b[0m\u001b[0mnum_iterations\u001b[0m\u001b[0;34m,\u001b[0m \u001b[0mlogs_path\u001b[0m\u001b[0;34m,\u001b[0m \u001b[0mmin_loss\u001b[0m\u001b[0;34m=\u001b[0m\u001b[0;36m0\u001b[0m\u001b[0;34m)\u001b[0m\u001b[0;34m\u001b[0m\u001b[0m\n\u001b[0m",
      "\u001b[0;32m<ipython-input-190-ac9468c32d55>\u001b[0m in \u001b[0;36mrun_optimize\u001b[0;34m(num_iterations, logs_path, min_loss)\u001b[0m\n\u001b[1;32m     95\u001b[0m                            \u001b[0my_true\u001b[0m\u001b[0;34m:\u001b[0m \u001b[0my_true_batch\u001b[0m\u001b[0;34m,\u001b[0m\u001b[0;34m\u001b[0m\u001b[0m\n\u001b[1;32m     96\u001b[0m                            \u001b[0mdropout_prob\u001b[0m\u001b[0;34m:\u001b[0m \u001b[0;36m1.0\u001b[0m\u001b[0;34m,\u001b[0m\u001b[0;34m\u001b[0m\u001b[0m\n\u001b[0;32m---> 97\u001b[0;31m                            is_training: False})\n\u001b[0m\u001b[1;32m     98\u001b[0m             \u001b[0mtrain_writer\u001b[0m\u001b[0;34m.\u001b[0m\u001b[0madd_summary\u001b[0m\u001b[0;34m(\u001b[0m\u001b[0mtrain_summary\u001b[0m\u001b[0;34m,\u001b[0m \u001b[0mi\u001b[0m \u001b[0;34m+\u001b[0m \u001b[0;36m1\u001b[0m\u001b[0;34m)\u001b[0m\u001b[0;34m\u001b[0m\u001b[0m\n\u001b[1;32m     99\u001b[0m \u001b[0;34m\u001b[0m\u001b[0m\n",
      "\u001b[0;32m/usr/local/lib/python2.7/site-packages/tensorflow/python/client/session.pyc\u001b[0m in \u001b[0;36mrun\u001b[0;34m(self, fetches, feed_dict, options, run_metadata)\u001b[0m\n\u001b[1;32m    893\u001b[0m     \u001b[0;32mtry\u001b[0m\u001b[0;34m:\u001b[0m\u001b[0;34m\u001b[0m\u001b[0m\n\u001b[1;32m    894\u001b[0m       result = self._run(None, fetches, feed_dict, options_ptr,\n\u001b[0;32m--> 895\u001b[0;31m                          run_metadata_ptr)\n\u001b[0m\u001b[1;32m    896\u001b[0m       \u001b[0;32mif\u001b[0m \u001b[0mrun_metadata\u001b[0m\u001b[0;34m:\u001b[0m\u001b[0;34m\u001b[0m\u001b[0m\n\u001b[1;32m    897\u001b[0m         \u001b[0mproto_data\u001b[0m \u001b[0;34m=\u001b[0m \u001b[0mtf_session\u001b[0m\u001b[0;34m.\u001b[0m\u001b[0mTF_GetBuffer\u001b[0m\u001b[0;34m(\u001b[0m\u001b[0mrun_metadata_ptr\u001b[0m\u001b[0;34m)\u001b[0m\u001b[0;34m\u001b[0m\u001b[0m\n",
      "\u001b[0;32m/usr/local/lib/python2.7/site-packages/tensorflow/python/client/session.pyc\u001b[0m in \u001b[0;36m_run\u001b[0;34m(self, handle, fetches, feed_dict, options, run_metadata)\u001b[0m\n\u001b[1;32m   1126\u001b[0m     \u001b[0;32mif\u001b[0m \u001b[0mfinal_fetches\u001b[0m \u001b[0;32mor\u001b[0m \u001b[0mfinal_targets\u001b[0m \u001b[0;32mor\u001b[0m \u001b[0;34m(\u001b[0m\u001b[0mhandle\u001b[0m \u001b[0;32mand\u001b[0m \u001b[0mfeed_dict_tensor\u001b[0m\u001b[0;34m)\u001b[0m\u001b[0;34m:\u001b[0m\u001b[0;34m\u001b[0m\u001b[0m\n\u001b[1;32m   1127\u001b[0m       results = self._do_run(handle, final_targets, final_fetches,\n\u001b[0;32m-> 1128\u001b[0;31m                              feed_dict_tensor, options, run_metadata)\n\u001b[0m\u001b[1;32m   1129\u001b[0m     \u001b[0;32melse\u001b[0m\u001b[0;34m:\u001b[0m\u001b[0;34m\u001b[0m\u001b[0m\n\u001b[1;32m   1130\u001b[0m       \u001b[0mresults\u001b[0m \u001b[0;34m=\u001b[0m \u001b[0;34m[\u001b[0m\u001b[0;34m]\u001b[0m\u001b[0;34m\u001b[0m\u001b[0m\n",
      "\u001b[0;32m/usr/local/lib/python2.7/site-packages/tensorflow/python/client/session.pyc\u001b[0m in \u001b[0;36m_do_run\u001b[0;34m(self, handle, target_list, fetch_list, feed_dict, options, run_metadata)\u001b[0m\n\u001b[1;32m   1342\u001b[0m     \u001b[0;32mif\u001b[0m \u001b[0mhandle\u001b[0m \u001b[0;32mis\u001b[0m \u001b[0mNone\u001b[0m\u001b[0;34m:\u001b[0m\u001b[0;34m\u001b[0m\u001b[0m\n\u001b[1;32m   1343\u001b[0m       return self._do_call(_run_fn, self._session, feeds, fetches, targets,\n\u001b[0;32m-> 1344\u001b[0;31m                            options, run_metadata)\n\u001b[0m\u001b[1;32m   1345\u001b[0m     \u001b[0;32melse\u001b[0m\u001b[0;34m:\u001b[0m\u001b[0;34m\u001b[0m\u001b[0m\n\u001b[1;32m   1346\u001b[0m       \u001b[0;32mreturn\u001b[0m \u001b[0mself\u001b[0m\u001b[0;34m.\u001b[0m\u001b[0m_do_call\u001b[0m\u001b[0;34m(\u001b[0m\u001b[0m_prun_fn\u001b[0m\u001b[0;34m,\u001b[0m \u001b[0mself\u001b[0m\u001b[0;34m.\u001b[0m\u001b[0m_session\u001b[0m\u001b[0;34m,\u001b[0m \u001b[0mhandle\u001b[0m\u001b[0;34m,\u001b[0m \u001b[0mfeeds\u001b[0m\u001b[0;34m,\u001b[0m \u001b[0mfetches\u001b[0m\u001b[0;34m)\u001b[0m\u001b[0;34m\u001b[0m\u001b[0m\n",
      "\u001b[0;32m/usr/local/lib/python2.7/site-packages/tensorflow/python/client/session.pyc\u001b[0m in \u001b[0;36m_do_call\u001b[0;34m(self, fn, *args)\u001b[0m\n\u001b[1;32m   1348\u001b[0m   \u001b[0;32mdef\u001b[0m \u001b[0m_do_call\u001b[0m\u001b[0;34m(\u001b[0m\u001b[0mself\u001b[0m\u001b[0;34m,\u001b[0m \u001b[0mfn\u001b[0m\u001b[0;34m,\u001b[0m \u001b[0;34m*\u001b[0m\u001b[0margs\u001b[0m\u001b[0;34m)\u001b[0m\u001b[0;34m:\u001b[0m\u001b[0;34m\u001b[0m\u001b[0m\n\u001b[1;32m   1349\u001b[0m     \u001b[0;32mtry\u001b[0m\u001b[0;34m:\u001b[0m\u001b[0;34m\u001b[0m\u001b[0m\n\u001b[0;32m-> 1350\u001b[0;31m       \u001b[0;32mreturn\u001b[0m \u001b[0mfn\u001b[0m\u001b[0;34m(\u001b[0m\u001b[0;34m*\u001b[0m\u001b[0margs\u001b[0m\u001b[0;34m)\u001b[0m\u001b[0;34m\u001b[0m\u001b[0m\n\u001b[0m\u001b[1;32m   1351\u001b[0m     \u001b[0;32mexcept\u001b[0m \u001b[0merrors\u001b[0m\u001b[0;34m.\u001b[0m\u001b[0mOpError\u001b[0m \u001b[0;32mas\u001b[0m \u001b[0me\u001b[0m\u001b[0;34m:\u001b[0m\u001b[0;34m\u001b[0m\u001b[0m\n\u001b[1;32m   1352\u001b[0m       \u001b[0mmessage\u001b[0m \u001b[0;34m=\u001b[0m \u001b[0mcompat\u001b[0m\u001b[0;34m.\u001b[0m\u001b[0mas_text\u001b[0m\u001b[0;34m(\u001b[0m\u001b[0me\u001b[0m\u001b[0;34m.\u001b[0m\u001b[0mmessage\u001b[0m\u001b[0;34m)\u001b[0m\u001b[0;34m\u001b[0m\u001b[0m\n",
      "\u001b[0;32m/usr/local/lib/python2.7/site-packages/tensorflow/python/client/session.pyc\u001b[0m in \u001b[0;36m_run_fn\u001b[0;34m(session, feed_dict, fetch_list, target_list, options, run_metadata)\u001b[0m\n\u001b[1;32m   1327\u001b[0m           return tf_session.TF_Run(session, options,\n\u001b[1;32m   1328\u001b[0m                                    \u001b[0mfeed_dict\u001b[0m\u001b[0;34m,\u001b[0m \u001b[0mfetch_list\u001b[0m\u001b[0;34m,\u001b[0m \u001b[0mtarget_list\u001b[0m\u001b[0;34m,\u001b[0m\u001b[0;34m\u001b[0m\u001b[0m\n\u001b[0;32m-> 1329\u001b[0;31m                                    status, run_metadata)\n\u001b[0m\u001b[1;32m   1330\u001b[0m \u001b[0;34m\u001b[0m\u001b[0m\n\u001b[1;32m   1331\u001b[0m     \u001b[0;32mdef\u001b[0m \u001b[0m_prun_fn\u001b[0m\u001b[0;34m(\u001b[0m\u001b[0msession\u001b[0m\u001b[0;34m,\u001b[0m \u001b[0mhandle\u001b[0m\u001b[0;34m,\u001b[0m \u001b[0mfeed_dict\u001b[0m\u001b[0;34m,\u001b[0m \u001b[0mfetch_list\u001b[0m\u001b[0;34m)\u001b[0m\u001b[0;34m:\u001b[0m\u001b[0;34m\u001b[0m\u001b[0m\n",
      "\u001b[0;31mKeyboardInterrupt\u001b[0m: "
     ]
    }
   ],
   "source": [
    "run_optimize(num_iterations, logs_path, min_loss=0)"
   ]
  },
  {
   "cell_type": "code",
   "execution_count": null,
   "metadata": {},
   "outputs": [],
   "source": []
  }
 ],
 "metadata": {
  "kernelspec": {
   "display_name": "Python 2",
   "language": "python",
   "name": "python2"
  },
  "language_info": {
   "codemirror_mode": {
    "name": "ipython",
    "version": 2
   },
   "file_extension": ".py",
   "mimetype": "text/x-python",
   "name": "python",
   "nbconvert_exporter": "python",
   "pygments_lexer": "ipython2",
   "version": "2.7.14"
  }
 },
 "nbformat": 4,
 "nbformat_minor": 2
}
