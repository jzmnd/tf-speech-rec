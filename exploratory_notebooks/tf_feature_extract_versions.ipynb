{
 "cells": [
  {
   "cell_type": "code",
   "execution_count": 1,
   "metadata": {},
   "outputs": [],
   "source": [
    "%matplotlib inline"
   ]
  },
  {
   "cell_type": "code",
   "execution_count": 2,
   "metadata": {},
   "outputs": [],
   "source": [
    "import matplotlib\n",
    "import seaborn as sns\n",
    "import matplotlib.pyplot as plt"
   ]
  },
  {
   "cell_type": "code",
   "execution_count": 3,
   "metadata": {},
   "outputs": [
    {
     "name": "stderr",
     "output_type": "stream",
     "text": [
      "/usr/local/lib/python2.7/site-packages/h5py/__init__.py:36: FutureWarning: Conversion of the second argument of issubdtype from `float` to `np.floating` is deprecated. In future, it will be treated as `np.float64 == np.dtype(float).type`.\n",
      "  from ._conv import register_converters as _register_converters\n"
     ]
    }
   ],
   "source": [
    "import tensorflow as tf\n",
    "import numpy as np\n",
    "from tensorflow.contrib import signal"
   ]
  },
  {
   "cell_type": "code",
   "execution_count": 4,
   "metadata": {},
   "outputs": [],
   "source": [
    "import os\n",
    "import sys\n",
    "import re"
   ]
  },
  {
   "cell_type": "code",
   "execution_count": 5,
   "metadata": {},
   "outputs": [],
   "source": [
    "BITRATE = 16                      # Bit rate\n",
    "SAMRATE = 16000                   # Sample rate (Hz)\n",
    "SAMTIME = 1000.0 / SAMRATE        # Sample time (ms)\n",
    "MAXAMPS = float(2**BITRATE / 2)   # Max samples amplitute"
   ]
  },
  {
   "cell_type": "code",
   "execution_count": 6,
   "metadata": {},
   "outputs": [],
   "source": [
    "# Load noise matrix\n",
    "NOISE_CLIP_DIR = '../data/noise_clips'\n",
    "NOISE_MATRIX = np.loadtxt(os.path.join(NOISE_CLIP_DIR, 'noise_clips.csv'), delimiter=',')"
   ]
  },
  {
   "cell_type": "code",
   "execution_count": 7,
   "metadata": {},
   "outputs": [],
   "source": [
    "# Tensorflow setup\n",
    "sess = None\n",
    "tf.logging.set_verbosity(tf.logging.INFO)\n",
    "\n",
    "def reset_vars():\n",
    "    \"\"\"Initializes all tf variables\"\"\"\n",
    "    sess.run(tf.global_variables_initializer())\n",
    "\n",
    "def reset_tf():\n",
    "    \"\"\"Closes the current tf session and opens new session\"\"\"\n",
    "    global sess\n",
    "    if sess:\n",
    "        sess.close()\n",
    "    tf.reset_default_graph()\n",
    "    sess = tf.Session()"
   ]
  },
  {
   "cell_type": "markdown",
   "metadata": {},
   "source": [
    "## Create tensorflow preprocessing functions\n",
    "\n",
    "Need functions for...\n",
    "\n",
    "- Mel spectrogram (use `tf.contrib.signal library`)\n",
    "- MFCCs (use `tf.contrib.signal library`)\n",
    "- Zero crossing rate\n",
    "- RMSE\n",
    "- Window function"
   ]
  },
  {
   "cell_type": "code",
   "execution_count": 8,
   "metadata": {},
   "outputs": [],
   "source": [
    "reset_tf()"
   ]
  },
  {
   "cell_type": "code",
   "execution_count": 9,
   "metadata": {},
   "outputs": [],
   "source": [
    "# Test arrays\n",
    "a = tf.placeholder(tf.float32, [16000,], name='a')\n",
    "a2 = tf.placeholder(tf.float32, [5, 16000], name='a2')\n",
    "\n",
    "b = 1.0 * np.arange(16000)\n",
    "b2 = np.array([1.0 * np.arange(16000), 0.2 * np.arange(16000), 0.01 * np.arange(16000)])\n",
    "\n",
    "c = np.array([1,2,4,-5,-6,-1,1,2,1,1,-1,1,4])\n",
    "d = np.array([[1,2,3], [-4,5,6]])\n",
    "d2 = np.array([[[1,2,3], [-4,5,6]],\n",
    "               [[-1,2,3], [-4,5,6]],\n",
    "               [[1,-2,3], [-4,5,6]],\n",
    "               [[1,2,-3], [-4,5,6]]])\n",
    "f = 0.8 * (np.random.rand(16000) - 0.5) + 0.5 * np.sin(0.2 * np.arange(16000)) + 0.5 * np.sin(0.05 * np.arange(16000))"
   ]
  },
  {
   "cell_type": "code",
   "execution_count": 10,
   "metadata": {},
   "outputs": [],
   "source": [
    "def windower(arr, window=128, hop_length=32, rank=1):\n",
    "    \"\"\"Windower function that divides an array into fixed size windows\"\"\"\n",
    "    overlap = window - hop_length\n",
    "    length = arr.shape[rank - 1]\n",
    "    indexer = tf.range(window)[None, :] + hop_length * tf.range((length - overlap) / hop_length)[:, None]\n",
    "    return tf.gather(arr, indexer, axis=rank - 1)"
   ]
  },
  {
   "cell_type": "code",
   "execution_count": 11,
   "metadata": {},
   "outputs": [
    {
     "data": {
      "text/plain": [
       "<tf.Tensor 'Gather:0' shape=(497, 128) dtype=float32>"
      ]
     },
     "execution_count": 11,
     "metadata": {},
     "output_type": "execute_result"
    }
   ],
   "source": [
    "windower(a)"
   ]
  },
  {
   "cell_type": "code",
   "execution_count": 12,
   "metadata": {},
   "outputs": [
    {
     "data": {
      "text/plain": [
       "<tf.Tensor 'GatherV2:0' shape=(5, 497, 128) dtype=float32>"
      ]
     },
     "execution_count": 12,
     "metadata": {},
     "output_type": "execute_result"
    }
   ],
   "source": [
    "windower(a2, rank=2)"
   ]
  },
  {
   "cell_type": "code",
   "execution_count": 13,
   "metadata": {},
   "outputs": [
    {
     "data": {
      "text/plain": [
       "<tf.Tensor 'GatherV2_1:0' shape=(3, 497, 128) dtype=float64>"
      ]
     },
     "execution_count": 13,
     "metadata": {},
     "output_type": "execute_result"
    }
   ],
   "source": [
    "windower(b2, rank=2)"
   ]
  },
  {
   "cell_type": "code",
   "execution_count": 14,
   "metadata": {},
   "outputs": [
    {
     "data": {
      "text/plain": [
       "<tf.Tensor 'Gather_1:0' shape=(497, 128) dtype=float64>"
      ]
     },
     "execution_count": 14,
     "metadata": {},
     "output_type": "execute_result"
    }
   ],
   "source": [
    "windower(b, rank=1)"
   ]
  },
  {
   "cell_type": "code",
   "execution_count": 15,
   "metadata": {},
   "outputs": [
    {
     "data": {
      "text/plain": [
       "(3, 497, 128)"
      ]
     },
     "execution_count": 15,
     "metadata": {},
     "output_type": "execute_result"
    }
   ],
   "source": [
    "sess.run(windower(b2, rank=2)).shape"
   ]
  },
  {
   "cell_type": "code",
   "execution_count": 16,
   "metadata": {},
   "outputs": [],
   "source": [
    "def tf_diff_axis(arr):\n",
    "    \"\"\"Equivalent of np.diff on last axis\"\"\"\n",
    "    return arr[..., 1:] - arr[..., :-1]\n",
    "\n",
    "\n",
    "def zero_crossing(arr, rank=1):\n",
    "    \"\"\"Calculates the zero crossing rate\"\"\"\n",
    "    if rank == 1:\n",
    "        nzc = tf.cast(tf.count_nonzero(tf_diff_axis(tf.sign(arr))), tf.float32)\n",
    "    else:\n",
    "        nzc = tf.cast(tf.count_nonzero(tf_diff_axis(tf.sign(arr)), axis=rank - 1), tf.float32)\n",
    "\n",
    "    arrlen = tf.cast(arr.shape[rank - 1], tf.float32)\n",
    "    return tf.divide(nzc, arrlen, name='zcr')"
   ]
  },
  {
   "cell_type": "code",
   "execution_count": 17,
   "metadata": {},
   "outputs": [
    {
     "data": {
      "text/plain": [
       "array([[[ 1,  1],\n",
       "        [ 9,  1]],\n",
       "\n",
       "       [[ 3,  1],\n",
       "        [ 9,  1]],\n",
       "\n",
       "       [[-3,  5],\n",
       "        [ 9,  1]],\n",
       "\n",
       "       [[ 1, -5],\n",
       "        [ 9,  1]]])"
      ]
     },
     "execution_count": 17,
     "metadata": {},
     "output_type": "execute_result"
    }
   ],
   "source": [
    "tf_diff_axis(d2)"
   ]
  },
  {
   "cell_type": "code",
   "execution_count": 18,
   "metadata": {},
   "outputs": [
    {
     "data": {
      "text/plain": [
       "array([[ 1,  2,  3],\n",
       "       [-4,  5,  6]])"
      ]
     },
     "execution_count": 18,
     "metadata": {},
     "output_type": "execute_result"
    }
   ],
   "source": [
    "d"
   ]
  },
  {
   "cell_type": "code",
   "execution_count": 19,
   "metadata": {},
   "outputs": [
    {
     "data": {
      "text/plain": [
       "array([ 1,  2, -9, -1,  5,  2,  1, -1,  0, -2,  2,  3])"
      ]
     },
     "execution_count": 19,
     "metadata": {},
     "output_type": "execute_result"
    }
   ],
   "source": [
    "tf_diff_axis(c)"
   ]
  },
  {
   "cell_type": "code",
   "execution_count": 20,
   "metadata": {},
   "outputs": [
    {
     "data": {
      "text/plain": [
       "array([0.        , 0.33333334], dtype=float32)"
      ]
     },
     "execution_count": 20,
     "metadata": {},
     "output_type": "execute_result"
    }
   ],
   "source": [
    "sess.run(zero_crossing(d, rank=2))"
   ]
  },
  {
   "cell_type": "code",
   "execution_count": 21,
   "metadata": {},
   "outputs": [
    {
     "data": {
      "text/plain": [
       "0.30769232"
      ]
     },
     "execution_count": 21,
     "metadata": {},
     "output_type": "execute_result"
    }
   ],
   "source": [
    "sess.run(zero_crossing(c, rank=1))"
   ]
  },
  {
   "cell_type": "code",
   "execution_count": 22,
   "metadata": {},
   "outputs": [],
   "source": [
    "def rms_energy(arr, rank=1, maxamps=1.0):\n",
    "    \"\"\"Calculates the RMS energy of the wave\"\"\"\n",
    "    if rank == 1:\n",
    "        return tf.sqrt(tf.reduce_mean(tf.square(arr / maxamps)), name='rmse')\n",
    "    else:\n",
    "        return tf.sqrt(tf.reduce_mean(tf.square(arr / maxamps), axis=rank - 1), name='rmse')"
   ]
  },
  {
   "cell_type": "code",
   "execution_count": 23,
   "metadata": {},
   "outputs": [
    {
     "data": {
      "text/plain": [
       "array([[0.0000e+00, 1.0000e+00, 2.0000e+00, ..., 1.2500e+02, 1.2600e+02,\n",
       "        1.2700e+02],\n",
       "       [3.2000e+01, 3.3000e+01, 3.4000e+01, ..., 1.5700e+02, 1.5800e+02,\n",
       "        1.5900e+02],\n",
       "       [6.4000e+01, 6.5000e+01, 6.6000e+01, ..., 1.8900e+02, 1.9000e+02,\n",
       "        1.9100e+02],\n",
       "       ...,\n",
       "       [1.5808e+04, 1.5809e+04, 1.5810e+04, ..., 1.5933e+04, 1.5934e+04,\n",
       "        1.5935e+04],\n",
       "       [1.5840e+04, 1.5841e+04, 1.5842e+04, ..., 1.5965e+04, 1.5966e+04,\n",
       "        1.5967e+04],\n",
       "       [1.5872e+04, 1.5873e+04, 1.5874e+04, ..., 1.5997e+04, 1.5998e+04,\n",
       "        1.5999e+04]])"
      ]
     },
     "execution_count": 23,
     "metadata": {},
     "output_type": "execute_result"
    }
   ],
   "source": [
    "# My windower function is faster\n",
    "sess.run(signal.frame(b, 128, 32))"
   ]
  },
  {
   "cell_type": "code",
   "execution_count": 24,
   "metadata": {},
   "outputs": [],
   "source": [
    "stfts = signal.stft(tf.cast(f, tf.float32), frame_length=256, frame_step=16, fft_length=128)"
   ]
  },
  {
   "cell_type": "code",
   "execution_count": 25,
   "metadata": {},
   "outputs": [],
   "source": [
    "magnitude_spectrograms = tf.abs(stfts)"
   ]
  },
  {
   "cell_type": "code",
   "execution_count": 26,
   "metadata": {},
   "outputs": [],
   "source": [
    "# Warp the linear-scale, magnitude spectrograms into the mel-scale\n",
    "num_spectrogram_bins = magnitude_spectrograms.shape[-1].value\n",
    "lower_edge_hertz = 80.0\n",
    "upper_edge_hertz = 7600.0\n",
    "num_mel_bins = 64\n",
    "\n",
    "mel_weight_mat = signal.linear_to_mel_weight_matrix(num_mel_bins,\n",
    "                                                    num_spectrogram_bins,\n",
    "                                                    SAMRATE,\n",
    "                                                    lower_edge_hertz,\n",
    "                                                    upper_edge_hertz)\n",
    "\n",
    "mel_spectrograms = tf.tensordot(magnitude_spectrograms, mel_weight_mat, 1)\n",
    "\n",
    "# Note: Shape inference for tf.tensordot does not currently handle this case\n",
    "mel_spectrograms.set_shape(magnitude_spectrograms.shape[:-1].concatenate(mel_weight_mat.shape[-1:]))"
   ]
  },
  {
   "cell_type": "code",
   "execution_count": 27,
   "metadata": {},
   "outputs": [],
   "source": [
    "x1 = sess.run(mel_spectrograms)"
   ]
  },
  {
   "cell_type": "code",
   "execution_count": 28,
   "metadata": {},
   "outputs": [],
   "source": [
    "# Matmul only works for single file, hence use of tensordot\n",
    "x2 = sess.run(tf.matmul(magnitude_spectrograms, mel_weight_mat))"
   ]
  },
  {
   "cell_type": "code",
   "execution_count": 29,
   "metadata": {},
   "outputs": [
    {
     "data": {
      "image/png": "[encoded data removed]",
      "text/plain": [
       "<matplotlib.figure.Figure at 0x11595c050>"
      ]
     },
     "metadata": {},
     "output_type": "display_data"
    }
   ],
   "source": [
    "plt.figure(figsize=(10, 4))\n",
    "plt.pcolormesh(x1.T);"
   ]
  },
  {
   "cell_type": "code",
   "execution_count": 30,
   "metadata": {},
   "outputs": [
    {
     "data": {
      "image/png": "[encoded data removed]",
      "text/plain": [
       "<matplotlib.figure.Figure at 0x1073ef510>"
      ]
     },
     "metadata": {},
     "output_type": "display_data"
    }
   ],
   "source": [
    "plt.plot(f[:500]);"
   ]
  },
  {
   "cell_type": "markdown",
   "metadata": {},
   "source": [
    "## Function for full batch process"
   ]
  },
  {
   "cell_type": "code",
   "execution_count": 32,
   "metadata": {},
   "outputs": [
    {
     "data": {
      "text/plain": [
       "(120, 16000)"
      ]
     },
     "execution_count": 32,
     "metadata": {},
     "output_type": "execute_result"
    }
   ],
   "source": [
    "NOISE_MATRIX.shape"
   ]
  },
  {
   "cell_type": "code",
   "execution_count": 33,
   "metadata": {},
   "outputs": [],
   "source": [
    "def signalProcessBatch(signals, add_noise=True, noise_factor=0.1, noise_frac=0.75, window=512,\n",
    "                       maxamps=1.0, sr=16000, num_mel_bins=64, num_mfccs=19):\n",
    "    \"\"\"Function to perform all the DSP preprocessing and feature extraction.\n",
    "       Returns the Mel spectrum, MFCCs, ZCR and RMSE.\n",
    "       Works on a batch of num_files files.\n",
    "       Input signals : [num_files, samples]\n",
    "       Output        : [num_files, num_windows, num_mfccs]\"\"\"\n",
    "\n",
    "    if add_noise:\n",
    "        # Checks for both array input and tensor input\n",
    "        num_files = tf.shape(signals)[0]\n",
    "        #try:\n",
    "        #    num_files = signals.shape[0].value\n",
    "        #    if not num_files:\n",
    "        #        num_files = -1\n",
    "        #except AttributeError:\n",
    "        #    num_files = signals.shape[0]\n",
    "\n",
    "        idx = tf.random_uniform((num_files,), 0, NOISE_MATRIX.shape[0], dtype=tf.int32)\n",
    "        noise = tf.cast(tf.gather(NOISE_MATRIX, idx), tf.float32)\n",
    "        nf = tf.cast(tf.greater(tf.random_uniform([num_files, 1]), noise_frac), tf.float32)\n",
    "        \n",
    "        signals = signals + noise_factor * maxamps * noise * nf\n",
    "\n",
    "    hop_length = window / 4\n",
    "    signals32 = tf.cast(signals, tf.float32)\n",
    "    signals_w = windower(signals32, window=window, hop_length=hop_length, rank=2)\n",
    "\n",
    "    zcr = zero_crossing(signals_w, rank=3)\n",
    "    rmse = rms_energy(signals_w, rank=3, maxamps=maxamps)\n",
    "\n",
    "    stfts = signal.stft(signals32, frame_length=window, frame_step=hop_length, fft_length=window)\n",
    "    magnitude_spectrograms = tf.abs(stfts)\n",
    "\n",
    "    num_spectrogram_bins = magnitude_spectrograms.shape[-1].value\n",
    "    lower_edge_hertz = 80.0\n",
    "    upper_edge_hertz = 7600.0\n",
    "\n",
    "    mel_weight_mat = signal.linear_to_mel_weight_matrix(num_mel_bins,\n",
    "                                                        num_spectrogram_bins,\n",
    "                                                        sr,\n",
    "                                                        lower_edge_hertz,\n",
    "                                                        upper_edge_hertz)\n",
    "\n",
    "    mel_spectrograms = tf.tensordot(magnitude_spectrograms, mel_weight_mat, 1)\n",
    "    mel_spectrograms.set_shape(magnitude_spectrograms.shape[:-1].concatenate(mel_weight_mat.shape[-1:]))\n",
    "\n",
    "    log_offset = 1e-8\n",
    "    log_mel_spectrograms = tf.log(mel_spectrograms + log_offset, name='log_mel_spectrograms')\n",
    "\n",
    "    mfccs = signal.mfccs_from_log_mel_spectrograms(log_mel_spectrograms)[..., :num_mfccs]\n",
    "    mfccs = tf.identity(mfccs, name='mfccs')\n",
    "\n",
    "    return mfccs, log_mel_spectrograms, zcr, rmse"
   ]
  },
  {
   "cell_type": "code",
   "execution_count": 34,
   "metadata": {},
   "outputs": [
    {
     "data": {
      "text/plain": [
       "5"
      ]
     },
     "execution_count": 34,
     "metadata": {},
     "output_type": "execute_result"
    }
   ],
   "source": [
    "a2.shape[0].value"
   ]
  },
  {
   "cell_type": "code",
   "execution_count": 35,
   "metadata": {},
   "outputs": [
    {
     "data": {
      "text/plain": [
       "(<tf.Tensor 'mfccs:0' shape=(5, 122, 19) dtype=float32>,\n",
       " <tf.Tensor 'log_mel_spectrograms:0' shape=(5, 122, 64) dtype=float32>,\n",
       " <tf.Tensor 'zcr_2:0' shape=(5, 122) dtype=float32>,\n",
       " <tf.Tensor 'rmse:0' shape=(5, 122) dtype=float32>)"
      ]
     },
     "execution_count": 35,
     "metadata": {},
     "output_type": "execute_result"
    }
   ],
   "source": [
    "signalProcessBatch(a2)"
   ]
  },
  {
   "cell_type": "code",
   "execution_count": 36,
   "metadata": {
    "scrolled": false
   },
   "outputs": [],
   "source": [
    "mfccs_vals, log_mel_vals, zcr_vals, rmse_vals = sess.run(signalProcessBatch(b2))"
   ]
  },
  {
   "cell_type": "code",
   "execution_count": 38,
   "metadata": {},
   "outputs": [
    {
     "data": {
      "text/plain": [
       "(3, 122, 19)"
      ]
     },
     "execution_count": 38,
     "metadata": {},
     "output_type": "execute_result"
    }
   ],
   "source": [
    "mfccs_vals.shape"
   ]
  },
  {
   "cell_type": "markdown",
   "metadata": {
    "collapsed": true
   },
   "source": [
    "## Testing"
   ]
  },
  {
   "cell_type": "code",
   "execution_count": 39,
   "metadata": {},
   "outputs": [],
   "source": [
    "X_data = tf.placeholder(tf.float32, [None, SAMRATE], name='X_data')"
   ]
  },
  {
   "cell_type": "code",
   "execution_count": 40,
   "metadata": {},
   "outputs": [
    {
     "data": {
      "text/plain": [
       "<tf.Tensor 'X_data:0' shape=(?, 16000) dtype=float32>"
      ]
     },
     "execution_count": 40,
     "metadata": {},
     "output_type": "execute_result"
    }
   ],
   "source": [
    "X_data"
   ]
  },
  {
   "cell_type": "code",
   "execution_count": 42,
   "metadata": {},
   "outputs": [],
   "source": [
    "test = signalProcessBatch(X_data)"
   ]
  },
  {
   "cell_type": "code",
   "execution_count": 44,
   "metadata": {},
   "outputs": [
    {
     "data": {
      "text/plain": [
       "TensorShape([Dimension(None), Dimension(16000)])"
      ]
     },
     "execution_count": 44,
     "metadata": {},
     "output_type": "execute_result"
    }
   ],
   "source": [
    "X_data.shape"
   ]
  },
  {
   "cell_type": "code",
   "execution_count": 45,
   "metadata": {},
   "outputs": [
    {
     "data": {
      "text/plain": [
       "array([[False],\n",
       "       [False],\n",
       "       [ True],\n",
       "       [ True],\n",
       "       [ True]])"
      ]
     },
     "execution_count": 45,
     "metadata": {},
     "output_type": "execute_result"
    }
   ],
   "source": [
    "sess.run(tf.greater(tf.random_uniform((5,1)), 0.75))"
   ]
  },
  {
   "cell_type": "code",
   "execution_count": 46,
   "metadata": {},
   "outputs": [
    {
     "data": {
      "text/plain": [
       "array([[0.0000e+00, 1.0000e+00, 2.0000e+00, ..., 1.5997e+04, 1.5998e+04,\n",
       "        1.5999e+04],\n",
       "       [0.0000e+00, 2.0000e-01, 4.0000e-01, ..., 3.1994e+03, 3.1996e+03,\n",
       "        3.1998e+03],\n",
       "       [0.0000e+00, 1.0000e-02, 2.0000e-02, ..., 1.5997e+02, 1.5998e+02,\n",
       "        1.5999e+02]])"
      ]
     },
     "execution_count": 46,
     "metadata": {},
     "output_type": "execute_result"
    }
   ],
   "source": [
    "b2"
   ]
  },
  {
   "cell_type": "code",
   "execution_count": null,
   "metadata": {},
   "outputs": [],
   "source": [
    "X_mfccs, X_log_mel_spectrograms, X_zcr, X_rmse = sess.run(signalProcessBatch(f))"
   ]
  },
  {
   "cell_type": "code",
   "execution_count": null,
   "metadata": {},
   "outputs": [],
   "source": [
    "X_mfccs.shape"
   ]
  },
  {
   "cell_type": "code",
   "execution_count": null,
   "metadata": {},
   "outputs": [],
   "source": [
    "plt.pcolormesh(X_mfccs[0].T)\n",
    "plt.colorbar();"
   ]
  },
  {
   "cell_type": "code",
   "execution_count": null,
   "metadata": {},
   "outputs": [],
   "source": [
    "X_mfccs_norm = sess.run(tf.nn.l2_normalize(X_mfccs, 1, epsilon=1e-8))"
   ]
  },
  {
   "cell_type": "code",
   "execution_count": null,
   "metadata": {},
   "outputs": [],
   "source": [
    "plt.pcolormesh(X_mfccs_norm[0].T)\n",
    "plt.colorbar();"
   ]
  },
  {
   "cell_type": "code",
   "execution_count": null,
   "metadata": {},
   "outputs": [],
   "source": [
    "plt.plot(X_rmse[0]);"
   ]
  },
  {
   "cell_type": "code",
   "execution_count": null,
   "metadata": {},
   "outputs": [],
   "source": [
    "plt.plot(X_mfccs_norm[0].T[2]);"
   ]
  },
  {
   "cell_type": "code",
   "execution_count": null,
   "metadata": {
    "collapsed": true
   },
   "outputs": [],
   "source": [
    "zcr_delta = tf_diff_axis(X_zcr)\n",
    "rmse_delta = tf_diff_axis(X_rmse)"
   ]
  },
  {
   "cell_type": "code",
   "execution_count": null,
   "metadata": {},
   "outputs": [],
   "source": [
    "X_rmse"
   ]
  },
  {
   "cell_type": "code",
   "execution_count": null,
   "metadata": {
    "collapsed": true
   },
   "outputs": [],
   "source": []
  }
 ],
 "metadata": {
  "kernelspec": {
   "display_name": "Python 2",
   "language": "python",
   "name": "python2"
  },
  "language_info": {
   "codemirror_mode": {
    "name": "ipython",
    "version": 2
   },
   "file_extension": ".py",
   "mimetype": "text/x-python",
   "name": "python",
   "nbconvert_exporter": "python",
   "pygments_lexer": "ipython2",
   "version": "2.7.14"
  }
 },
 "nbformat": 4,
 "nbformat_minor": 2
}
