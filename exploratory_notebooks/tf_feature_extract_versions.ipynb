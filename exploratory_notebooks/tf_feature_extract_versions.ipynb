{
 "cells": [
  {
   "cell_type": "code",
   "execution_count": 1,
   "metadata": {
    "collapsed": true,
    "deletable": true,
    "editable": true
   },
   "outputs": [],
   "source": [
    "%matplotlib inline"
   ]
  },
  {
   "cell_type": "code",
   "execution_count": 2,
   "metadata": {
    "collapsed": true,
    "deletable": true,
    "editable": true
   },
   "outputs": [],
   "source": [
    "import matplotlib\n",
    "import seaborn as sns\n",
    "import matplotlib.pyplot as plt"
   ]
  },
  {
   "cell_type": "code",
   "execution_count": 3,
   "metadata": {
    "collapsed": false,
    "deletable": true,
    "editable": true
   },
   "outputs": [],
   "source": [
    "import tensorflow as tf\n",
    "import numpy as np\n",
    "from tensorflow.contrib import signal"
   ]
  },
  {
   "cell_type": "code",
   "execution_count": 4,
   "metadata": {
    "collapsed": true,
    "deletable": true,
    "editable": true
   },
   "outputs": [],
   "source": [
    "import os\n",
    "import sys\n",
    "import re"
   ]
  },
  {
   "cell_type": "code",
   "execution_count": 5,
   "metadata": {
    "collapsed": true,
    "deletable": true,
    "editable": true
   },
   "outputs": [],
   "source": [
    "BITRATE = 16                      # Bit rate\n",
    "SAMRATE = 16000                   # Sample rate (Hz)\n",
    "SAMTIME = 1000.0 / SAMRATE        # Sample time (ms)\n",
    "MAXAMPS = float(2**BITRATE / 2)   # Max samples amplitute"
   ]
  },
  {
   "cell_type": "code",
   "execution_count": 6,
   "metadata": {
    "collapsed": false,
    "deletable": true,
    "editable": true
   },
   "outputs": [],
   "source": [
    "# Load noise matrix\n",
    "NOISE_CLIP_DIR = './data/noise_clips'\n",
    "NOISE_MATRIX = np.loadtxt(os.path.join(NOISE_CLIP_DIR, 'noise_clips.csv'), delimiter=',')"
   ]
  },
  {
   "cell_type": "code",
   "execution_count": 7,
   "metadata": {
    "collapsed": true,
    "deletable": true,
    "editable": true
   },
   "outputs": [],
   "source": [
    "# Tensorflow setup\n",
    "sess = None\n",
    "tf.logging.set_verbosity(tf.logging.INFO)\n",
    "\n",
    "def reset_vars():\n",
    "    \"\"\"Initializes all tf variables\"\"\"\n",
    "    sess.run(tf.global_variables_initializer())\n",
    "\n",
    "def reset_tf():\n",
    "    \"\"\"Closes the current tf session and opens new session\"\"\"\n",
    "    global sess\n",
    "    if sess:\n",
    "        sess.close()\n",
    "    tf.reset_default_graph()\n",
    "    sess = tf.Session()"
   ]
  },
  {
   "cell_type": "markdown",
   "metadata": {
    "deletable": true,
    "editable": true
   },
   "source": [
    "## Create tensorflow preprocessing functions\n",
    "\n",
    "Need functions for...\n",
    "\n",
    "- Mel spectrogram (use `tf.contrib.signal library`)\n",
    "- MFCCs (use `tf.contrib.signal library`)\n",
    "- Zero crossing rate\n",
    "- RMSE\n",
    "- Window function"
   ]
  },
  {
   "cell_type": "code",
   "execution_count": 8,
   "metadata": {
    "collapsed": true,
    "deletable": true,
    "editable": true
   },
   "outputs": [],
   "source": [
    "reset_tf()"
   ]
  },
  {
   "cell_type": "code",
   "execution_count": 9,
   "metadata": {
    "collapsed": false,
    "deletable": true,
    "editable": true
   },
   "outputs": [],
   "source": [
    "# Test arrays\n",
    "a = tf.placeholder(tf.float32, [16000,], name='a')\n",
    "a2 = tf.placeholder(tf.float32, [5, 16000], name='a2')\n",
    "\n",
    "b = 1.0 * np.arange(16000)\n",
    "b2 = np.array([1.0 * np.arange(16000), 0.2 * np.arange(16000), 0.01 * np.arange(16000)])\n",
    "\n",
    "c = np.array([1,2,4,-5,-6,-1,1,2,1,1,-1,1,4])\n",
    "d = np.array([[1,2,3], [-4,5,6]])\n",
    "d2 = np.array([[[1,2,3], [-4,5,6]],\n",
    "               [[-1,2,3], [-4,5,6]],\n",
    "               [[1,-2,3], [-4,5,6]],\n",
    "               [[1,2,-3], [-4,5,6]]])\n",
    "f = 0.8 * (np.random.rand(16000) - 0.5) + 0.5 * np.sin(0.2 * np.arange(16000)) + 0.5 * np.sin(0.05 * np.arange(16000))"
   ]
  },
  {
   "cell_type": "code",
   "execution_count": 10,
   "metadata": {
    "collapsed": true,
    "deletable": true,
    "editable": true
   },
   "outputs": [],
   "source": [
    "def windower(arr, window=128, hop_length=32, rank=1):\n",
    "    \"\"\"Windower function that divides an array into fixed size windows\"\"\"\n",
    "    overlap = window - hop_length\n",
    "    length = arr.shape[rank - 1]\n",
    "    indexer = tf.range(window)[None, :] + hop_length * tf.range((length - overlap) / hop_length)[:, None]\n",
    "    return tf.gather(arr, indexer, axis=rank - 1)"
   ]
  },
  {
   "cell_type": "code",
   "execution_count": 11,
   "metadata": {
    "collapsed": false,
    "deletable": true,
    "editable": true
   },
   "outputs": [
    {
     "data": {
      "text/plain": [
       "<tf.Tensor 'Gather:0' shape=(497, 128) dtype=float32>"
      ]
     },
     "execution_count": 11,
     "metadata": {},
     "output_type": "execute_result"
    }
   ],
   "source": [
    "windower(a)"
   ]
  },
  {
   "cell_type": "code",
   "execution_count": 12,
   "metadata": {
    "collapsed": false,
    "deletable": true,
    "editable": true
   },
   "outputs": [
    {
     "data": {
      "text/plain": [
       "<tf.Tensor 'GatherV2:0' shape=(5, 497, 128) dtype=float32>"
      ]
     },
     "execution_count": 12,
     "metadata": {},
     "output_type": "execute_result"
    }
   ],
   "source": [
    "windower(a2, rank=2)"
   ]
  },
  {
   "cell_type": "code",
   "execution_count": 13,
   "metadata": {
    "collapsed": false,
    "deletable": true,
    "editable": true
   },
   "outputs": [
    {
     "data": {
      "text/plain": [
       "<tf.Tensor 'GatherV2_1:0' shape=(3, 497, 128) dtype=float64>"
      ]
     },
     "execution_count": 13,
     "metadata": {},
     "output_type": "execute_result"
    }
   ],
   "source": [
    "windower(b2, rank=2)"
   ]
  },
  {
   "cell_type": "code",
   "execution_count": 14,
   "metadata": {
    "collapsed": false,
    "deletable": true,
    "editable": true
   },
   "outputs": [
    {
     "data": {
      "text/plain": [
       "<tf.Tensor 'Gather_1:0' shape=(497, 128) dtype=float64>"
      ]
     },
     "execution_count": 14,
     "metadata": {},
     "output_type": "execute_result"
    }
   ],
   "source": [
    "windower(b, rank=1)"
   ]
  },
  {
   "cell_type": "code",
   "execution_count": 15,
   "metadata": {
    "collapsed": false,
    "deletable": true,
    "editable": true
   },
   "outputs": [
    {
     "data": {
      "text/plain": [
       "array([[[  0.00000000e+00,   1.00000000e+00,   2.00000000e+00, ...,\n",
       "           1.25000000e+02,   1.26000000e+02,   1.27000000e+02],\n",
       "        [  3.20000000e+01,   3.30000000e+01,   3.40000000e+01, ...,\n",
       "           1.57000000e+02,   1.58000000e+02,   1.59000000e+02],\n",
       "        [  6.40000000e+01,   6.50000000e+01,   6.60000000e+01, ...,\n",
       "           1.89000000e+02,   1.90000000e+02,   1.91000000e+02],\n",
       "        ..., \n",
       "        [  1.58080000e+04,   1.58090000e+04,   1.58100000e+04, ...,\n",
       "           1.59330000e+04,   1.59340000e+04,   1.59350000e+04],\n",
       "        [  1.58400000e+04,   1.58410000e+04,   1.58420000e+04, ...,\n",
       "           1.59650000e+04,   1.59660000e+04,   1.59670000e+04],\n",
       "        [  1.58720000e+04,   1.58730000e+04,   1.58740000e+04, ...,\n",
       "           1.59970000e+04,   1.59980000e+04,   1.59990000e+04]],\n",
       "\n",
       "       [[  0.00000000e+00,   2.00000000e-01,   4.00000000e-01, ...,\n",
       "           2.50000000e+01,   2.52000000e+01,   2.54000000e+01],\n",
       "        [  6.40000000e+00,   6.60000000e+00,   6.80000000e+00, ...,\n",
       "           3.14000000e+01,   3.16000000e+01,   3.18000000e+01],\n",
       "        [  1.28000000e+01,   1.30000000e+01,   1.32000000e+01, ...,\n",
       "           3.78000000e+01,   3.80000000e+01,   3.82000000e+01],\n",
       "        ..., \n",
       "        [  3.16160000e+03,   3.16180000e+03,   3.16200000e+03, ...,\n",
       "           3.18660000e+03,   3.18680000e+03,   3.18700000e+03],\n",
       "        [  3.16800000e+03,   3.16820000e+03,   3.16840000e+03, ...,\n",
       "           3.19300000e+03,   3.19320000e+03,   3.19340000e+03],\n",
       "        [  3.17440000e+03,   3.17460000e+03,   3.17480000e+03, ...,\n",
       "           3.19940000e+03,   3.19960000e+03,   3.19980000e+03]],\n",
       "\n",
       "       [[  0.00000000e+00,   1.00000000e-02,   2.00000000e-02, ...,\n",
       "           1.25000000e+00,   1.26000000e+00,   1.27000000e+00],\n",
       "        [  3.20000000e-01,   3.30000000e-01,   3.40000000e-01, ...,\n",
       "           1.57000000e+00,   1.58000000e+00,   1.59000000e+00],\n",
       "        [  6.40000000e-01,   6.50000000e-01,   6.60000000e-01, ...,\n",
       "           1.89000000e+00,   1.90000000e+00,   1.91000000e+00],\n",
       "        ..., \n",
       "        [  1.58080000e+02,   1.58090000e+02,   1.58100000e+02, ...,\n",
       "           1.59330000e+02,   1.59340000e+02,   1.59350000e+02],\n",
       "        [  1.58400000e+02,   1.58410000e+02,   1.58420000e+02, ...,\n",
       "           1.59650000e+02,   1.59660000e+02,   1.59670000e+02],\n",
       "        [  1.58720000e+02,   1.58730000e+02,   1.58740000e+02, ...,\n",
       "           1.59970000e+02,   1.59980000e+02,   1.59990000e+02]]])"
      ]
     },
     "execution_count": 15,
     "metadata": {},
     "output_type": "execute_result"
    }
   ],
   "source": [
    "sess.run(windower(b2, rank=2))"
   ]
  },
  {
   "cell_type": "code",
   "execution_count": 16,
   "metadata": {
    "collapsed": false,
    "deletable": true,
    "editable": true
   },
   "outputs": [],
   "source": [
    "def tf_diff_axis(arr):\n",
    "    \"\"\"Equivalent of np.diff on last axis\"\"\"\n",
    "    return arr[..., 1:] - arr[..., :-1]\n",
    "\n",
    "\n",
    "def zero_crossing(arr, rank=1):\n",
    "    \"\"\"Calculates the zero crossing rate\"\"\"\n",
    "    if rank == 1:\n",
    "        nzc = tf.cast(tf.count_nonzero(tf_diff_axis(tf.sign(arr))), tf.float32)\n",
    "    else:\n",
    "        nzc = tf.cast(tf.count_nonzero(tf_diff_axis(tf.sign(arr)), axis=rank - 1), tf.float32)\n",
    "\n",
    "    arrlen = tf.cast(arr.shape[rank - 1], tf.float32)\n",
    "    return tf.divide(nzc, arrlen, name='zcr')"
   ]
  },
  {
   "cell_type": "code",
   "execution_count": 17,
   "metadata": {
    "collapsed": false,
    "deletable": true,
    "editable": true
   },
   "outputs": [
    {
     "data": {
      "text/plain": [
       "array([[[ 1,  1],\n",
       "        [ 9,  1]],\n",
       "\n",
       "       [[ 3,  1],\n",
       "        [ 9,  1]],\n",
       "\n",
       "       [[-3,  5],\n",
       "        [ 9,  1]],\n",
       "\n",
       "       [[ 1, -5],\n",
       "        [ 9,  1]]])"
      ]
     },
     "execution_count": 17,
     "metadata": {},
     "output_type": "execute_result"
    }
   ],
   "source": [
    "tf_diff_axis(d2)"
   ]
  },
  {
   "cell_type": "code",
   "execution_count": 18,
   "metadata": {
    "collapsed": false,
    "deletable": true,
    "editable": true
   },
   "outputs": [
    {
     "data": {
      "text/plain": [
       "array([[ 1,  2,  3],\n",
       "       [-4,  5,  6]])"
      ]
     },
     "execution_count": 18,
     "metadata": {},
     "output_type": "execute_result"
    }
   ],
   "source": [
    "d"
   ]
  },
  {
   "cell_type": "code",
   "execution_count": 19,
   "metadata": {
    "collapsed": false,
    "deletable": true,
    "editable": true
   },
   "outputs": [
    {
     "data": {
      "text/plain": [
       "array([ 1,  2, -9, -1,  5,  2,  1, -1,  0, -2,  2,  3])"
      ]
     },
     "execution_count": 19,
     "metadata": {},
     "output_type": "execute_result"
    }
   ],
   "source": [
    "tf_diff_axis(c)"
   ]
  },
  {
   "cell_type": "code",
   "execution_count": 20,
   "metadata": {
    "collapsed": false,
    "deletable": true,
    "editable": true
   },
   "outputs": [
    {
     "data": {
      "text/plain": [
       "array([ 0.        ,  0.33333334], dtype=float32)"
      ]
     },
     "execution_count": 20,
     "metadata": {},
     "output_type": "execute_result"
    }
   ],
   "source": [
    "sess.run(zero_crossing(d, rank=2))"
   ]
  },
  {
   "cell_type": "code",
   "execution_count": 21,
   "metadata": {
    "collapsed": false,
    "deletable": true,
    "editable": true
   },
   "outputs": [
    {
     "data": {
      "text/plain": [
       "0.30769232"
      ]
     },
     "execution_count": 21,
     "metadata": {},
     "output_type": "execute_result"
    }
   ],
   "source": [
    "sess.run(zero_crossing(c, rank=1))"
   ]
  },
  {
   "cell_type": "code",
   "execution_count": 22,
   "metadata": {
    "collapsed": false,
    "deletable": true,
    "editable": true
   },
   "outputs": [],
   "source": [
    "def rms_energy(arr, rank=1, maxamps=1.0):\n",
    "    \"\"\"Calculates the RMS energy of the wave\"\"\"\n",
    "    if rank == 1:\n",
    "        return tf.sqrt(tf.reduce_mean(tf.square(arr / maxamps)), name='rmse')\n",
    "    else:\n",
    "        return tf.sqrt(tf.reduce_mean(tf.square(arr / maxamps), axis=rank - 1), name='rmse')"
   ]
  },
  {
   "cell_type": "code",
   "execution_count": 23,
   "metadata": {
    "collapsed": false,
    "deletable": true,
    "editable": true
   },
   "outputs": [
    {
     "data": {
      "text/plain": [
       "array([[  0.00000000e+00,   1.00000000e+00,   2.00000000e+00, ...,\n",
       "          1.25000000e+02,   1.26000000e+02,   1.27000000e+02],\n",
       "       [  3.20000000e+01,   3.30000000e+01,   3.40000000e+01, ...,\n",
       "          1.57000000e+02,   1.58000000e+02,   1.59000000e+02],\n",
       "       [  6.40000000e+01,   6.50000000e+01,   6.60000000e+01, ...,\n",
       "          1.89000000e+02,   1.90000000e+02,   1.91000000e+02],\n",
       "       ..., \n",
       "       [  1.58080000e+04,   1.58090000e+04,   1.58100000e+04, ...,\n",
       "          1.59330000e+04,   1.59340000e+04,   1.59350000e+04],\n",
       "       [  1.58400000e+04,   1.58410000e+04,   1.58420000e+04, ...,\n",
       "          1.59650000e+04,   1.59660000e+04,   1.59670000e+04],\n",
       "       [  1.58720000e+04,   1.58730000e+04,   1.58740000e+04, ...,\n",
       "          1.59970000e+04,   1.59980000e+04,   1.59990000e+04]])"
      ]
     },
     "execution_count": 23,
     "metadata": {},
     "output_type": "execute_result"
    }
   ],
   "source": [
    "# My windower function is faster\n",
    "sess.run(signal.frame(b, 128, 32))"
   ]
  },
  {
   "cell_type": "code",
   "execution_count": 24,
   "metadata": {
    "collapsed": false,
    "deletable": true,
    "editable": true
   },
   "outputs": [],
   "source": [
    "stfts = signal.stft(tf.cast(f, tf.float32), frame_length=256, frame_step=16, fft_length=128)"
   ]
  },
  {
   "cell_type": "code",
   "execution_count": 25,
   "metadata": {
    "collapsed": false,
    "deletable": true,
    "editable": true
   },
   "outputs": [],
   "source": [
    "magnitude_spectrograms = tf.abs(stfts)"
   ]
  },
  {
   "cell_type": "code",
   "execution_count": 26,
   "metadata": {
    "collapsed": false,
    "deletable": true,
    "editable": true
   },
   "outputs": [],
   "source": [
    "# Warp the linear-scale, magnitude spectrograms into the mel-scale\n",
    "num_spectrogram_bins = magnitude_spectrograms.shape[-1].value\n",
    "lower_edge_hertz = 80.0\n",
    "upper_edge_hertz = 7600.0\n",
    "num_mel_bins = 64\n",
    "\n",
    "mel_weight_mat = signal.linear_to_mel_weight_matrix(num_mel_bins,\n",
    "                                                    num_spectrogram_bins,\n",
    "                                                    SAMRATE,\n",
    "                                                    lower_edge_hertz,\n",
    "                                                    upper_edge_hertz)\n",
    "\n",
    "mel_spectrograms = tf.tensordot(magnitude_spectrograms, mel_weight_mat, 1)\n",
    "\n",
    "# Note: Shape inference for tf.tensordot does not currently handle this case\n",
    "mel_spectrograms.set_shape(magnitude_spectrograms.shape[:-1].concatenate(mel_weight_mat.shape[-1:]))"
   ]
  },
  {
   "cell_type": "code",
   "execution_count": 27,
   "metadata": {
    "collapsed": false,
    "deletable": true,
    "editable": true
   },
   "outputs": [],
   "source": [
    "x1 = sess.run(mel_spectrograms)"
   ]
  },
  {
   "cell_type": "code",
   "execution_count": 28,
   "metadata": {
    "collapsed": false,
    "deletable": true,
    "editable": true
   },
   "outputs": [],
   "source": [
    "# Matmul only works for single file, hence use of tensordot\n",
    "x2 = sess.run(tf.matmul(magnitude_spectrograms, mel_weight_mat))"
   ]
  },
  {
   "cell_type": "code",
   "execution_count": 29,
   "metadata": {
    "collapsed": false,
    "deletable": true,
    "editable": true
   },
   "outputs": [
    {
     "data": {
      "image/png": "[encoded data removed]",
      "text/plain": [
       "<matplotlib.figure.Figure at 0x111068d90>"
      ]
     },
     "metadata": {},
     "output_type": "display_data"
    }
   ],
   "source": [
    "plt.figure(figsize=(10, 4))\n",
    "plt.pcolormesh(x1.T);"
   ]
  },
  {
   "cell_type": "code",
   "execution_count": 30,
   "metadata": {
    "collapsed": false,
    "deletable": true,
    "editable": true
   },
   "outputs": [
    {
     "data": {
      "image/png": "[encoded data removed]",
      "text/plain": [
       "<matplotlib.figure.Figure at 0x120d30bd0>"
      ]
     },
     "metadata": {},
     "output_type": "display_data"
    }
   ],
   "source": [
    "plt.plot(f[:500]);"
   ]
  },
  {
   "cell_type": "markdown",
   "metadata": {
    "deletable": true,
    "editable": true
   },
   "source": [
    "## Function for full batch process"
   ]
  },
  {
   "cell_type": "code",
   "execution_count": 31,
   "metadata": {
    "collapsed": false,
    "deletable": true,
    "editable": true
   },
   "outputs": [
    {
     "data": {
      "text/plain": [
       "array([[-0.71797845, -0.86306345, -1.        , ...,  0.00793481,\n",
       "         0.01596118,  0.13812677],\n",
       "       [ 0.27036348,  0.14755699,  0.15768914, ..., -0.09686575,\n",
       "        -0.24463637, -0.36512345],\n",
       "       [-0.06485183, -0.15851314,  0.07629627, ...,  0.16415906,\n",
       "         0.09308145, -0.06280709],\n",
       "       ..., \n",
       "       [ 0.10189928, -0.0955158 ,  0.17062022, ..., -0.14555915,\n",
       "         0.42666877,  0.44093309],\n",
       "       [-0.15319491, -0.18576196,  0.02255593, ..., -0.15782969,\n",
       "         0.00407861, -0.10950439],\n",
       "       [-0.07755269,  0.07310942,  0.18612061, ...,  0.10655091,\n",
       "         0.27504458,  0.18682218]])"
      ]
     },
     "execution_count": 31,
     "metadata": {},
     "output_type": "execute_result"
    }
   ],
   "source": [
    "NOISE_MATRIX"
   ]
  },
  {
   "cell_type": "code",
   "execution_count": 32,
   "metadata": {
    "collapsed": false,
    "deletable": true,
    "editable": true
   },
   "outputs": [],
   "source": [
    "def signalProcessBatch(signals, add_noise=True, noise_factor=0.1, noise_frac=0.75, window=512,\n",
    "                       maxamps=1.0, sr=16000, num_mel_bins=64, num_mfccs=19):\n",
    "    \"\"\"Function to perform all the DSP preprocessing and feature extraction.\n",
    "       Returns the Mel spectrum, MFCCs, ZCR and RMSE.\n",
    "       Works on a batch of num_files files.\n",
    "       Input signals : [num_files, samples]\n",
    "       Output        : [num_files, num_windows, num_mfccs]\"\"\"\n",
    "\n",
    "    if add_noise:\n",
    "        # Checks for both array input and tensor input\n",
    "        num_files = tf.shape(signals)[0]\n",
    "        #try:\n",
    "        #    num_files = signals.shape[0].value\n",
    "        #    if not num_files:\n",
    "        #        num_files = -1\n",
    "        #except AttributeError:\n",
    "        #    num_files = signals.shape[0]\n",
    "\n",
    "        idx = tf.random_uniform((num_files,), 0, NOISE_MATRIX.shape[0], dtype=tf.int32)\n",
    "        noise = tf.cast(tf.gather(NOISE_MATRIX, idx), tf.float32)\n",
    "        nf = tf.cast(tf.greater(tf.random_uniform([num_files, 1]), noise_frac), tf.float32)\n",
    "        \n",
    "        signals = signals + noise_factor * maxamps * noise * nf\n",
    "\n",
    "    hop_length = window / 4\n",
    "    signals32 = tf.cast(signals, tf.float32)\n",
    "    signals_w = windower(signals32, window=window, hop_length=hop_length, rank=2)\n",
    "\n",
    "    zcr = zero_crossing(signals_w, rank=3)\n",
    "    rmse = rms_energy(signals_w, rank=3, maxamps=maxamps)\n",
    "\n",
    "    stfts = signal.stft(signals32, frame_length=window, frame_step=hop_length, fft_length=window)\n",
    "    magnitude_spectrograms = tf.abs(stfts)\n",
    "\n",
    "    num_spectrogram_bins = magnitude_spectrograms.shape[-1].value\n",
    "    lower_edge_hertz = 80.0\n",
    "    upper_edge_hertz = 7600.0\n",
    "\n",
    "    mel_weight_mat = signal.linear_to_mel_weight_matrix(num_mel_bins,\n",
    "                                                        num_spectrogram_bins,\n",
    "                                                        sr,\n",
    "                                                        lower_edge_hertz,\n",
    "                                                        upper_edge_hertz)\n",
    "\n",
    "    mel_spectrograms = tf.tensordot(magnitude_spectrograms, mel_weight_mat, 1)\n",
    "    mel_spectrograms.set_shape(magnitude_spectrograms.shape[:-1].concatenate(mel_weight_mat.shape[-1:]))\n",
    "\n",
    "    log_offset = 1e-8\n",
    "    log_mel_spectrograms = tf.log(mel_spectrograms + log_offset, name='log_mel_spectrograms')\n",
    "\n",
    "    mfccs = signal.mfccs_from_log_mel_spectrograms(log_mel_spectrograms)[..., :num_mfccs]\n",
    "    mfccs = tf.identity(mfccs, name='mfccs')\n",
    "\n",
    "    return mfccs, log_mel_spectrograms, zcr, rmse"
   ]
  },
  {
   "cell_type": "code",
   "execution_count": 33,
   "metadata": {
    "collapsed": false,
    "deletable": true,
    "editable": true
   },
   "outputs": [
    {
     "data": {
      "text/plain": [
       "5"
      ]
     },
     "execution_count": 33,
     "metadata": {},
     "output_type": "execute_result"
    }
   ],
   "source": [
    "a2.shape[0].value"
   ]
  },
  {
   "cell_type": "code",
   "execution_count": 34,
   "metadata": {
    "collapsed": false,
    "deletable": true,
    "editable": true
   },
   "outputs": [
    {
     "data": {
      "text/plain": [
       "(<tf.Tensor 'mfccs:0' shape=(5, 122, 19) dtype=float32>,\n",
       " <tf.Tensor 'log_mel_spectrograms:0' shape=(5, 122, 64) dtype=float32>,\n",
       " <tf.Tensor 'zcr_2:0' shape=(5, 122) dtype=float32>,\n",
       " <tf.Tensor 'rmse:0' shape=(5, 122) dtype=float32>)"
      ]
     },
     "execution_count": 34,
     "metadata": {},
     "output_type": "execute_result"
    }
   ],
   "source": [
    "signalProcessBatch(a2)"
   ]
  },
  {
   "cell_type": "code",
   "execution_count": 35,
   "metadata": {
    "collapsed": false,
    "deletable": true,
    "editable": true,
    "scrolled": false
   },
   "outputs": [
    {
     "data": {
      "text/plain": [
       "(array([[[ -7.97385645e+00,   2.06115074e+01,   3.75420046e+00, ...,\n",
       "            1.95346504e-01,   2.53284812e-01,   1.61369160e-01],\n",
       "         [ -7.88838053e+00,   2.05287533e+01,   3.82384348e+00, ...,\n",
       "            1.86312929e-01,   2.67505735e-01,   1.43671021e-01],\n",
       "         [ -7.77668667e+00,   2.04242916e+01,   3.90994239e+00, ...,\n",
       "            2.47785106e-01,   1.74063936e-01,   2.41912201e-01],\n",
       "         ..., \n",
       "         [ -2.18255639e+00,   1.56514578e+01,   6.85610914e+00, ...,\n",
       "            6.13804042e-01,  -3.70046616e-01,   5.26528835e-01],\n",
       "         [ -2.21438909e+00,   1.56615744e+01,   6.85999775e+00, ...,\n",
       "            6.05949640e-01,  -2.02357829e-01,   3.65850329e-01],\n",
       "         [ -2.44109440e+00,   1.59110823e+01,   6.62845421e+00, ...,\n",
       "            6.52929842e-01,  -3.77565622e-01,   5.64304948e-01]],\n",
       " \n",
       "        [[ -4.73126698e+00,   5.92883062e+00,   7.79992819e+00, ...,\n",
       "            2.14040577e-01,   2.85258800e-01,   1.39573246e-01],\n",
       "         [ -5.49634552e+00,   6.21719122e+00,   7.92403173e+00, ...,\n",
       "            4.73720610e-01,   4.69432890e-01,  -5.41060090e-01],\n",
       "         [ -4.84794140e+00,   6.08977699e+00,   7.47287083e+00, ...,\n",
       "            3.85187536e-01,   7.32588232e-01,  -4.08602387e-01],\n",
       "         ..., \n",
       "         [ -4.64004087e+00,   5.16105127e+00,   8.57120800e+00, ...,\n",
       "            2.84681886e-01,  -1.92677900e-01,   6.79704368e-01],\n",
       "         [ -4.10278940e+00,   4.86490250e+00,   8.41408634e+00, ...,\n",
       "            3.85463804e-01,  -8.82535577e-02,   2.98346281e-01],\n",
       "         [ -4.17684841e+00,   4.98683500e+00,   8.36549377e+00, ...,\n",
       "            2.28981927e-01,  -2.88909692e-02,   4.45191383e-01]],\n",
       " \n",
       "        [[ -7.67989731e+00,   4.29818392e+00,   6.94941521e-01, ...,\n",
       "           -7.08689570e-01,  -4.83837456e-01,  -8.38117540e-01],\n",
       "         [ -8.27768707e+00,   4.96090698e+00,   1.52663660e+00, ...,\n",
       "           -4.91030782e-01,  -5.71045339e-01,  -7.20627248e-01],\n",
       "         [ -9.14454746e+00,   5.50302267e+00,   2.03384256e+00, ...,\n",
       "           -5.03296316e-01,  -7.14053750e-01,   2.59210169e-02],\n",
       "         ..., \n",
       "         [ -9.58830166e+00,   4.59630203e+00,   1.17215121e+00, ...,\n",
       "            1.37070240e-02,   1.06236565e+00,   7.21201360e-01],\n",
       "         [ -9.83252621e+00,   5.31479979e+00,   9.15694475e-01, ...,\n",
       "           -1.54774085e-01,   7.92577267e-01,   8.93872797e-01],\n",
       "         [ -9.98113537e+00,   4.78996420e+00,   8.52127492e-01, ...,\n",
       "           -7.96631217e-01,  -4.38381672e-01,   5.44022322e-01]]], dtype=float32),\n",
       " array([[[ 6.35754156,  5.57671261,  4.96139765, ..., -4.47827196,\n",
       "          -4.69204855, -5.01357889],\n",
       "         [ 6.35754108,  5.57671261,  4.96139669, ..., -4.40189123,\n",
       "          -4.53997803, -5.03211212],\n",
       "         [ 6.35754156,  5.57671356,  4.96139669, ..., -4.42154312,\n",
       "          -4.50182962, -4.71960831],\n",
       "         ..., \n",
       "         [ 6.35752344,  5.57669258,  4.96135807, ..., -2.06854963,\n",
       "          -1.80394149, -2.19253302],\n",
       "         [ 6.3575263 ,  5.57670784,  4.96137428, ..., -2.10125828,\n",
       "          -2.05504227, -2.19774604],\n",
       "         [ 6.35753727,  5.57674122,  4.96139193, ..., -2.19254565,\n",
       "          -1.85012507, -2.26977944]],\n",
       " \n",
       "        [[ 4.74761772,  3.96703076,  3.3486464 , ..., -0.1929207 ,\n",
       "          -0.50675547, -0.74243355],\n",
       "         [ 4.75018692,  3.9672215 ,  3.34637856, ..., -0.42564407,\n",
       "          -0.55768096, -0.86753929],\n",
       "         [ 4.74704361,  3.96967268,  3.34867859, ..., -0.43257996,\n",
       "          -0.62210053, -0.8820523 ],\n",
       "         ..., \n",
       "         [ 4.74808168,  3.96904421,  3.34513903, ..., -0.62520897,\n",
       "          -0.25294983, -0.602642  ],\n",
       "         [ 4.75141382,  3.96270227,  3.34771037, ..., -0.48073587,\n",
       "          -0.65946603, -0.45891273],\n",
       "         [ 4.74824715,  3.97021389,  3.35353279, ..., -0.42791146,\n",
       "          -0.63487238, -0.63579488]],\n",
       " \n",
       "        [[ 1.7303834 ,  1.00148523,  0.50234568, ..., -0.88674229,\n",
       "          -1.05996799, -1.11262393],\n",
       "         [ 1.8004086 ,  0.97207767,  0.46078032, ..., -1.09615946,\n",
       "          -1.23826897, -1.30357075],\n",
       "         [ 1.69183636,  0.81615531,  0.37512136, ..., -1.2805444 ,\n",
       "          -1.39912283, -1.49037421],\n",
       "         ..., \n",
       "         [ 1.89293373,  0.97776842,  0.25525597, ..., -1.33260322,\n",
       "          -1.45665741, -1.2929281 ],\n",
       "         [ 1.79835224,  1.0385735 ,  0.4269152 , ..., -1.69533372,\n",
       "          -1.55818605, -1.1156733 ],\n",
       "         [ 1.81885147,  1.14349782,  0.51806796, ..., -1.99890614,\n",
       "          -1.51083326, -1.20275497]]], dtype=float32),\n",
       " array([[ 0.00195312,  0.        ,  0.        ,  0.        ,  0.        ,\n",
       "          0.        ,  0.        ,  0.        ,  0.        ,  0.        ,\n",
       "          0.        ,  0.        ,  0.        ,  0.        ,  0.        ,\n",
       "          0.        ,  0.        ,  0.        ,  0.        ,  0.        ,\n",
       "          0.        ,  0.        ,  0.        ,  0.        ,  0.        ,\n",
       "          0.        ,  0.        ,  0.        ,  0.        ,  0.        ,\n",
       "          0.        ,  0.        ,  0.        ,  0.        ,  0.        ,\n",
       "          0.        ,  0.        ,  0.        ,  0.        ,  0.        ,\n",
       "          0.        ,  0.        ,  0.        ,  0.        ,  0.        ,\n",
       "          0.        ,  0.        ,  0.        ,  0.        ,  0.        ,\n",
       "          0.        ,  0.        ,  0.        ,  0.        ,  0.        ,\n",
       "          0.        ,  0.        ,  0.        ,  0.        ,  0.        ,\n",
       "          0.        ,  0.        ,  0.        ,  0.        ,  0.        ,\n",
       "          0.        ,  0.        ,  0.        ,  0.        ,  0.        ,\n",
       "          0.        ,  0.        ,  0.        ,  0.        ,  0.        ,\n",
       "          0.        ,  0.        ,  0.        ,  0.        ,  0.        ,\n",
       "          0.        ,  0.        ,  0.        ,  0.        ,  0.        ,\n",
       "          0.        ,  0.        ,  0.        ,  0.        ,  0.        ,\n",
       "          0.        ,  0.        ,  0.        ,  0.        ,  0.        ,\n",
       "          0.        ,  0.        ,  0.        ,  0.        ,  0.        ,\n",
       "          0.        ,  0.        ,  0.        ,  0.        ,  0.        ,\n",
       "          0.        ,  0.        ,  0.        ,  0.        ,  0.        ,\n",
       "          0.        ,  0.        ,  0.        ,  0.        ,  0.        ,\n",
       "          0.        ,  0.        ,  0.        ,  0.        ,  0.        ,\n",
       "          0.        ,  0.        ],\n",
       "        [ 0.        ,  0.        ,  0.        ,  0.        ,  0.        ,\n",
       "          0.        ,  0.        ,  0.        ,  0.        ,  0.        ,\n",
       "          0.        ,  0.        ,  0.        ,  0.        ,  0.        ,\n",
       "          0.        ,  0.        ,  0.        ,  0.        ,  0.        ,\n",
       "          0.        ,  0.        ,  0.        ,  0.        ,  0.        ,\n",
       "          0.        ,  0.        ,  0.        ,  0.        ,  0.        ,\n",
       "          0.        ,  0.        ,  0.        ,  0.        ,  0.        ,\n",
       "          0.        ,  0.        ,  0.        ,  0.        ,  0.        ,\n",
       "          0.        ,  0.        ,  0.        ,  0.        ,  0.        ,\n",
       "          0.        ,  0.        ,  0.        ,  0.        ,  0.        ,\n",
       "          0.        ,  0.        ,  0.        ,  0.        ,  0.        ,\n",
       "          0.        ,  0.        ,  0.        ,  0.        ,  0.        ,\n",
       "          0.        ,  0.        ,  0.        ,  0.        ,  0.        ,\n",
       "          0.        ,  0.        ,  0.        ,  0.        ,  0.        ,\n",
       "          0.        ,  0.        ,  0.        ,  0.        ,  0.        ,\n",
       "          0.        ,  0.        ,  0.        ,  0.        ,  0.        ,\n",
       "          0.        ,  0.        ,  0.        ,  0.        ,  0.        ,\n",
       "          0.        ,  0.        ,  0.        ,  0.        ,  0.        ,\n",
       "          0.        ,  0.        ,  0.        ,  0.        ,  0.        ,\n",
       "          0.        ,  0.        ,  0.        ,  0.        ,  0.        ,\n",
       "          0.        ,  0.        ,  0.        ,  0.        ,  0.        ,\n",
       "          0.        ,  0.        ,  0.        ,  0.        ,  0.        ,\n",
       "          0.        ,  0.        ,  0.        ,  0.        ,  0.        ,\n",
       "          0.        ,  0.        ,  0.        ,  0.        ,  0.        ,\n",
       "          0.        ,  0.        ],\n",
       "        [ 0.00195312,  0.        ,  0.        ,  0.        ,  0.        ,\n",
       "          0.        ,  0.        ,  0.        ,  0.        ,  0.        ,\n",
       "          0.        ,  0.        ,  0.        ,  0.        ,  0.        ,\n",
       "          0.        ,  0.        ,  0.        ,  0.        ,  0.        ,\n",
       "          0.        ,  0.        ,  0.        ,  0.        ,  0.        ,\n",
       "          0.        ,  0.        ,  0.        ,  0.        ,  0.        ,\n",
       "          0.        ,  0.        ,  0.        ,  0.        ,  0.        ,\n",
       "          0.        ,  0.        ,  0.        ,  0.        ,  0.        ,\n",
       "          0.        ,  0.        ,  0.        ,  0.        ,  0.        ,\n",
       "          0.        ,  0.        ,  0.        ,  0.        ,  0.        ,\n",
       "          0.        ,  0.        ,  0.        ,  0.        ,  0.        ,\n",
       "          0.        ,  0.        ,  0.        ,  0.        ,  0.        ,\n",
       "          0.        ,  0.        ,  0.        ,  0.        ,  0.        ,\n",
       "          0.        ,  0.        ,  0.        ,  0.        ,  0.        ,\n",
       "          0.        ,  0.        ,  0.        ,  0.        ,  0.        ,\n",
       "          0.        ,  0.        ,  0.        ,  0.        ,  0.        ,\n",
       "          0.        ,  0.        ,  0.        ,  0.        ,  0.        ,\n",
       "          0.        ,  0.        ,  0.        ,  0.        ,  0.        ,\n",
       "          0.        ,  0.        ,  0.        ,  0.        ,  0.        ,\n",
       "          0.        ,  0.        ,  0.        ,  0.        ,  0.        ,\n",
       "          0.        ,  0.        ,  0.        ,  0.        ,  0.        ,\n",
       "          0.        ,  0.        ,  0.        ,  0.        ,  0.        ,\n",
       "          0.        ,  0.        ,  0.        ,  0.        ,  0.        ,\n",
       "          0.        ,  0.        ,  0.        ,  0.        ,  0.        ,\n",
       "          0.        ,  0.        ]], dtype=float32),\n",
       " array([[  2.95170288e+02,   4.10995697e+02,   5.32425903e+02,\n",
       "           6.56357544e+02,   7.81601624e+02,   9.07614929e+02,\n",
       "           1.03411646e+03,   1.16094653e+03,   1.28800818e+03,\n",
       "           1.41523889e+03,   1.54259692e+03,   1.67005298e+03,\n",
       "           1.79758655e+03,   1.92518164e+03,   2.05282739e+03,\n",
       "           2.18051489e+03,   2.30823682e+03,   2.43598804e+03,\n",
       "           2.56376392e+03,   2.69156128e+03,   2.81937671e+03,\n",
       "           2.94720825e+03,   3.07505444e+03,   3.20291187e+03,\n",
       "           3.33078076e+03,   3.45865918e+03,   3.58654639e+03,\n",
       "           3.71444141e+03,   3.84234399e+03,   3.97025195e+03,\n",
       "           4.09816553e+03,   4.22608496e+03,   4.35400879e+03,\n",
       "           4.48193701e+03,   4.60987012e+03,   4.73780566e+03,\n",
       "           4.86574561e+03,   4.99368799e+03,   5.12163330e+03,\n",
       "           5.24958105e+03,   5.37753174e+03,   5.50548438e+03,\n",
       "           5.63343945e+03,   5.76139648e+03,   5.88935498e+03,\n",
       "           6.01731494e+03,   6.14527734e+03,   6.27324121e+03,\n",
       "           6.40120654e+03,   6.52917285e+03,   6.65714062e+03,\n",
       "           6.78510986e+03,   6.91308008e+03,   7.04105127e+03,\n",
       "           7.16902393e+03,   7.29699756e+03,   7.42497217e+03,\n",
       "           7.55294629e+03,   7.68092188e+03,   7.80889941e+03,\n",
       "           7.93687598e+03,   8.06485400e+03,   8.19283203e+03,\n",
       "           8.32081250e+03,   8.44879199e+03,   8.57677344e+03,\n",
       "           8.70475488e+03,   8.83273633e+03,   8.96071875e+03,\n",
       "           9.08870117e+03,   9.21668457e+03,   9.34466895e+03,\n",
       "           9.47265332e+03,   9.60063770e+03,   9.72862305e+03,\n",
       "           9.85660938e+03,   9.98459375e+03,   1.01125791e+04,\n",
       "           1.02405664e+04,   1.03685537e+04,   1.04965400e+04,\n",
       "           1.06245273e+04,   1.07525166e+04,   1.08805039e+04,\n",
       "           1.10084922e+04,   1.11364795e+04,   1.12644688e+04,\n",
       "           1.13924600e+04,   1.15204482e+04,   1.16484365e+04,\n",
       "           1.17764268e+04,   1.19044180e+04,   1.20324082e+04,\n",
       "           1.21603984e+04,   1.22883877e+04,   1.24163799e+04,\n",
       "           1.25443721e+04,   1.26723623e+04,   1.28003535e+04,\n",
       "           1.29283447e+04,   1.30563369e+04,   1.31843291e+04,\n",
       "           1.33123203e+04,   1.34403135e+04,   1.35683057e+04,\n",
       "           1.36962979e+04,   1.38242900e+04,   1.39522822e+04,\n",
       "           1.40802754e+04,   1.42082695e+04,   1.43362607e+04,\n",
       "           1.44642549e+04,   1.45922480e+04,   1.47202432e+04,\n",
       "           1.48482354e+04,   1.49762314e+04,   1.51042217e+04,\n",
       "           1.52322158e+04,   1.53602090e+04,   1.54882051e+04,\n",
       "           1.56162002e+04,   1.57441943e+04],\n",
       "        [  5.90592384e+01,   8.22275925e+01,   1.06513924e+02,\n",
       "           1.31300171e+02,   1.56349762e+02,   1.81551483e+02,\n",
       "           2.06853104e+02,   2.32218857e+02,   2.57631836e+02,\n",
       "           2.83078033e+02,   3.08548950e+02,   3.34039764e+02,\n",
       "           3.59546478e+02,   3.85066071e+02,   4.10594849e+02,\n",
       "           4.36134186e+02,   4.61676270e+02,   4.87226746e+02,\n",
       "           5.12782898e+02,   5.38341064e+02,   5.63906921e+02,\n",
       "           5.89471252e+02,   6.15039917e+02,   6.40612488e+02,\n",
       "           6.66184998e+02,   6.91762390e+02,   7.17339722e+02,\n",
       "           7.42917725e+02,   7.68498352e+02,   7.94079895e+02,\n",
       "           8.19662781e+02,   8.45247559e+02,   8.70831726e+02,\n",
       "           8.96417664e+02,   9.22004028e+02,   9.47590149e+02,\n",
       "           9.73179382e+02,   9.98766907e+02,   1.02435645e+03,\n",
       "           1.04994653e+03,   1.07553589e+03,   1.10112671e+03,\n",
       "           1.12671704e+03,   1.15230920e+03,   1.17790088e+03,\n",
       "           1.20349316e+03,   1.22908569e+03,   1.25467798e+03,\n",
       "           1.28027161e+03,   1.30586414e+03,   1.33145850e+03,\n",
       "           1.35705115e+03,   1.38264612e+03,   1.40824023e+03,\n",
       "           1.43383447e+03,   1.45942932e+03,   1.48502319e+03,\n",
       "           1.51061865e+03,   1.53621411e+03,   1.56180957e+03,\n",
       "           1.58740479e+03,   1.61300220e+03,   1.63859583e+03,\n",
       "           1.66419421e+03,   1.68978918e+03,   1.71538452e+03,\n",
       "           1.74098181e+03,   1.76657666e+03,   1.79217468e+03,\n",
       "           1.81777026e+03,   1.84336768e+03,   1.86896289e+03,\n",
       "           1.89455945e+03,   1.92015723e+03,   1.94575330e+03,\n",
       "           1.97135254e+03,   1.99694897e+03,   2.02254626e+03,\n",
       "           2.04814355e+03,   2.07373999e+03,   2.09933765e+03,\n",
       "           2.12493506e+03,   2.15053271e+03,   2.17613037e+03,\n",
       "           2.20172876e+03,   2.22732593e+03,   2.25292383e+03,\n",
       "           2.27852148e+03,   2.30411963e+03,   2.32971729e+03,\n",
       "           2.35531543e+03,   2.38091382e+03,   2.40651099e+03,\n",
       "           2.43210962e+03,   2.45770874e+03,   2.48330566e+03,\n",
       "           2.50890430e+03,   2.53450366e+03,   2.56009985e+03,\n",
       "           2.58570020e+03,   2.61129712e+03,   2.63689526e+03,\n",
       "           2.66249463e+03,   2.68809131e+03,   2.71369092e+03,\n",
       "           2.73928931e+03,   2.76488696e+03,   2.79048682e+03,\n",
       "           2.81608569e+03,   2.84168359e+03,   2.86728271e+03,\n",
       "           2.89288062e+03,   2.91847852e+03,   2.94407837e+03,\n",
       "           2.96967651e+03,   2.99527441e+03,   3.02087427e+03,\n",
       "           3.04647217e+03,   3.07207129e+03,   3.09767139e+03,\n",
       "           3.12326880e+03,   3.14886890e+03],\n",
       "        [  2.94989991e+00,   4.11120319e+00,   5.32368231e+00,\n",
       "           6.56198359e+00,   7.81550884e+00,   9.07438183e+00,\n",
       "           1.03397923e+01,   1.16110535e+01,   1.28789310e+01,\n",
       "           1.41540775e+01,   1.54241047e+01,   1.67006207e+01,\n",
       "           1.79737930e+01,   1.92497959e+01,   2.05283775e+01,\n",
       "           2.18032665e+01,   2.30829773e+01,   2.43591156e+01,\n",
       "           2.56381836e+01,   2.69144497e+01,   2.81928005e+01,\n",
       "           2.94710846e+01,   3.07496338e+01,   3.20286713e+01,\n",
       "           3.33067398e+01,   3.45874023e+01,   3.58649788e+01,\n",
       "           3.71423454e+01,   3.84239197e+01,   3.97020645e+01,\n",
       "           4.09810066e+01,   4.22620239e+01,   4.35388641e+01,\n",
       "           4.48172569e+01,   4.60981903e+01,   4.73769951e+01,\n",
       "           4.86574898e+01,   4.99366531e+01,   5.12158623e+01,\n",
       "           5.24961472e+01,   5.37746964e+01,   5.50534363e+01,\n",
       "           5.63326302e+01,   5.76115685e+01,   5.88938713e+01,\n",
       "           6.01738892e+01,   6.14527245e+01,   6.27331619e+01,\n",
       "           6.40105591e+01,   6.52912140e+01,   6.65706177e+01,\n",
       "           6.78512192e+01,   6.91301498e+01,   7.04091415e+01,\n",
       "           7.16916580e+01,   7.29683762e+01,   7.42501984e+01,\n",
       "           7.55280304e+01,   7.68062286e+01,   7.80882263e+01,\n",
       "           7.93673477e+01,   8.06492844e+01,   8.19277496e+01,\n",
       "           8.32074203e+01,   8.44876099e+01,   8.57664490e+01,\n",
       "           8.70491409e+01,   8.83270798e+01,   8.96077499e+01,\n",
       "           9.08854065e+01,   9.21639938e+01,   9.34457550e+01,\n",
       "           9.47238846e+01,   9.60075073e+01,   9.72862473e+01,\n",
       "           9.85647659e+01,   9.98454514e+01,   1.01125526e+02,\n",
       "           1.02405075e+02,   1.03686745e+02,   1.04965363e+02,\n",
       "           1.06243958e+02,   1.07524704e+02,   1.08804146e+02,\n",
       "           1.10084724e+02,   1.11363495e+02,   1.12644424e+02,\n",
       "           1.13922501e+02,   1.15203201e+02,   1.16483681e+02,\n",
       "           1.17763550e+02,   1.19045395e+02,   1.20323677e+02,\n",
       "           1.21604431e+02,   1.22883492e+02,   1.24162796e+02,\n",
       "           1.25442505e+02,   1.26722519e+02,   1.28003693e+02,\n",
       "           1.29282684e+02,   1.30562653e+02,   1.31843170e+02,\n",
       "           1.33121689e+02,   1.34403214e+02,   1.35682770e+02,\n",
       "           1.36962677e+02,   1.38242599e+02,   1.39522659e+02,\n",
       "           1.40802841e+02,   1.42081558e+02,   1.43360703e+02,\n",
       "           1.44642105e+02,   1.45920364e+02,   1.47203430e+02,\n",
       "           1.48481354e+02,   1.49759949e+02,   1.51041824e+02,\n",
       "           1.52319855e+02,   1.53602692e+02,   1.54882324e+02,\n",
       "           1.56160538e+02,   1.57442673e+02]], dtype=float32))"
      ]
     },
     "execution_count": 35,
     "metadata": {},
     "output_type": "execute_result"
    }
   ],
   "source": [
    "sess.run(signalProcessBatch(b2))"
   ]
  },
  {
   "cell_type": "code",
   "execution_count": null,
   "metadata": {
    "collapsed": false,
    "deletable": true,
    "editable": true
   },
   "outputs": [],
   "source": []
  },
  {
   "cell_type": "markdown",
   "metadata": {
    "collapsed": true,
    "deletable": true,
    "editable": true
   },
   "source": [
    "## Testing"
   ]
  },
  {
   "cell_type": "code",
   "execution_count": 36,
   "metadata": {
    "collapsed": false,
    "deletable": true,
    "editable": true
   },
   "outputs": [],
   "source": [
    "X_data = tf.placeholder(tf.float32, [None, SAMRATE], name='X_data')"
   ]
  },
  {
   "cell_type": "code",
   "execution_count": 37,
   "metadata": {
    "collapsed": false,
    "deletable": true,
    "editable": true
   },
   "outputs": [
    {
     "data": {
      "text/plain": [
       "<tf.Tensor 'X_data:0' shape=(?, 16000) dtype=float32>"
      ]
     },
     "execution_count": 37,
     "metadata": {},
     "output_type": "execute_result"
    }
   ],
   "source": [
    "X_data"
   ]
  },
  {
   "cell_type": "code",
   "execution_count": 38,
   "metadata": {
    "collapsed": false,
    "deletable": true,
    "editable": true
   },
   "outputs": [
    {
     "data": {
      "text/plain": [
       "(<tf.Tensor 'mfccs_2:0' shape=(5, 122, 19) dtype=float32>,\n",
       " <tf.Tensor 'log_mel_spectrograms_2:0' shape=(5, 122, 64) dtype=float32>,\n",
       " <tf.Tensor 'zcr_4:0' shape=(5, 122) dtype=float32>,\n",
       " <tf.Tensor 'rmse_2:0' shape=(5, 122) dtype=float32>)"
      ]
     },
     "execution_count": 38,
     "metadata": {},
     "output_type": "execute_result"
    }
   ],
   "source": [
    "signalProcessBatch(a2)"
   ]
  },
  {
   "cell_type": "code",
   "execution_count": 39,
   "metadata": {
    "collapsed": false,
    "deletable": true,
    "editable": true
   },
   "outputs": [],
   "source": [
    "test = signalProcessBatch(X_data)"
   ]
  },
  {
   "cell_type": "code",
   "execution_count": 40,
   "metadata": {
    "collapsed": false,
    "deletable": true,
    "editable": true
   },
   "outputs": [
    {
     "data": {
      "text/plain": [
       "Dimension(None)"
      ]
     },
     "execution_count": 40,
     "metadata": {},
     "output_type": "execute_result"
    }
   ],
   "source": [
    "X_data.shape[0]"
   ]
  },
  {
   "cell_type": "code",
   "execution_count": 41,
   "metadata": {
    "collapsed": false,
    "deletable": true,
    "editable": true
   },
   "outputs": [
    {
     "data": {
      "text/plain": [
       "array([[ True],\n",
       "       [ True],\n",
       "       [False],\n",
       "       [False],\n",
       "       [False]], dtype=bool)"
      ]
     },
     "execution_count": 41,
     "metadata": {},
     "output_type": "execute_result"
    }
   ],
   "source": [
    "sess.run(tf.greater(tf.random_uniform((5,1)), 0.75))"
   ]
  },
  {
   "cell_type": "code",
   "execution_count": 42,
   "metadata": {
    "collapsed": false,
    "deletable": true,
    "editable": true
   },
   "outputs": [
    {
     "data": {
      "text/plain": [
       "(array([[[ -2.08406204e+02,   1.34869913e-06,   0.00000000e+00, ...,\n",
       "            0.00000000e+00,   1.34869913e-06,   0.00000000e+00],\n",
       "         [ -2.08406204e+02,   1.34869913e-06,   0.00000000e+00, ...,\n",
       "            0.00000000e+00,   1.34869913e-06,   0.00000000e+00],\n",
       "         [ -2.08406204e+02,   1.34869913e-06,   0.00000000e+00, ...,\n",
       "            0.00000000e+00,   1.34869913e-06,   0.00000000e+00],\n",
       "         ..., \n",
       "         [ -2.08406204e+02,   1.34869913e-06,   0.00000000e+00, ...,\n",
       "            0.00000000e+00,   1.34869913e-06,   0.00000000e+00],\n",
       "         [ -2.08406204e+02,   1.34869913e-06,   0.00000000e+00, ...,\n",
       "            0.00000000e+00,   1.34869913e-06,   0.00000000e+00],\n",
       "         [ -2.08406204e+02,   1.34869913e-06,   0.00000000e+00, ...,\n",
       "            0.00000000e+00,   1.34869913e-06,   0.00000000e+00]],\n",
       " \n",
       "        [[ -2.08406204e+02,   1.34869913e-06,   0.00000000e+00, ...,\n",
       "            0.00000000e+00,   1.34869913e-06,   0.00000000e+00],\n",
       "         [ -2.08406204e+02,   1.34869913e-06,   0.00000000e+00, ...,\n",
       "            0.00000000e+00,   1.34869913e-06,   0.00000000e+00],\n",
       "         [ -2.08406204e+02,   1.34869913e-06,   0.00000000e+00, ...,\n",
       "            0.00000000e+00,   1.34869913e-06,   0.00000000e+00],\n",
       "         ..., \n",
       "         [ -2.08406204e+02,   1.34869913e-06,   0.00000000e+00, ...,\n",
       "            0.00000000e+00,   1.34869913e-06,   0.00000000e+00],\n",
       "         [ -2.08406204e+02,   1.34869913e-06,   0.00000000e+00, ...,\n",
       "            0.00000000e+00,   1.34869913e-06,   0.00000000e+00],\n",
       "         [ -2.08406204e+02,   1.34869913e-06,   0.00000000e+00, ...,\n",
       "            0.00000000e+00,   1.34869913e-06,   0.00000000e+00]],\n",
       " \n",
       "        [[ -2.08406204e+02,   1.34869913e-06,   0.00000000e+00, ...,\n",
       "            0.00000000e+00,   1.34869913e-06,   0.00000000e+00],\n",
       "         [ -2.08406204e+02,   1.34869913e-06,   0.00000000e+00, ...,\n",
       "            0.00000000e+00,   1.34869913e-06,   0.00000000e+00],\n",
       "         [ -2.08406204e+02,   1.34869913e-06,   0.00000000e+00, ...,\n",
       "            0.00000000e+00,   1.34869913e-06,   0.00000000e+00],\n",
       "         ..., \n",
       "         [ -2.08406204e+02,   1.34869913e-06,   0.00000000e+00, ...,\n",
       "            0.00000000e+00,   1.34869913e-06,   0.00000000e+00],\n",
       "         [ -2.08406204e+02,   1.34869913e-06,   0.00000000e+00, ...,\n",
       "            0.00000000e+00,   1.34869913e-06,   0.00000000e+00],\n",
       "         [ -2.08406204e+02,   1.34869913e-06,   0.00000000e+00, ...,\n",
       "            0.00000000e+00,   1.34869913e-06,   0.00000000e+00]],\n",
       " \n",
       "        [[ -2.08406204e+02,   1.34869913e-06,   0.00000000e+00, ...,\n",
       "            0.00000000e+00,   1.34869913e-06,   0.00000000e+00],\n",
       "         [ -2.08406204e+02,   1.34869913e-06,   0.00000000e+00, ...,\n",
       "            0.00000000e+00,   1.34869913e-06,   0.00000000e+00],\n",
       "         [ -2.08406204e+02,   1.34869913e-06,   0.00000000e+00, ...,\n",
       "            0.00000000e+00,   1.34869913e-06,   0.00000000e+00],\n",
       "         ..., \n",
       "         [ -2.08406204e+02,   1.34869913e-06,   0.00000000e+00, ...,\n",
       "            0.00000000e+00,   1.34869913e-06,   0.00000000e+00],\n",
       "         [ -2.08406204e+02,   1.34869913e-06,   0.00000000e+00, ...,\n",
       "            0.00000000e+00,   1.34869913e-06,   0.00000000e+00],\n",
       "         [ -2.08406204e+02,   1.34869913e-06,   0.00000000e+00, ...,\n",
       "            0.00000000e+00,   1.34869913e-06,   0.00000000e+00]],\n",
       " \n",
       "        [[ -2.08406204e+02,   1.34869913e-06,   0.00000000e+00, ...,\n",
       "            0.00000000e+00,   1.34869913e-06,   0.00000000e+00],\n",
       "         [ -2.08406204e+02,   1.34869913e-06,   0.00000000e+00, ...,\n",
       "            0.00000000e+00,   1.34869913e-06,   0.00000000e+00],\n",
       "         [ -2.08406204e+02,   1.34869913e-06,   0.00000000e+00, ...,\n",
       "            0.00000000e+00,   1.34869913e-06,   0.00000000e+00],\n",
       "         ..., \n",
       "         [ -2.08406204e+02,   1.34869913e-06,   0.00000000e+00, ...,\n",
       "            0.00000000e+00,   1.34869913e-06,   0.00000000e+00],\n",
       "         [ -2.08406204e+02,   1.34869913e-06,   0.00000000e+00, ...,\n",
       "            0.00000000e+00,   1.34869913e-06,   0.00000000e+00],\n",
       "         [ -2.08406204e+02,   1.34869913e-06,   0.00000000e+00, ...,\n",
       "            0.00000000e+00,   1.34869913e-06,   0.00000000e+00]]], dtype=float32),\n",
       " array([[[-18.420681, -18.420681, -18.420681, ..., -18.420681, -18.420681,\n",
       "          -18.420681],\n",
       "         [-18.420681, -18.420681, -18.420681, ..., -18.420681, -18.420681,\n",
       "          -18.420681],\n",
       "         [-18.420681, -18.420681, -18.420681, ..., -18.420681, -18.420681,\n",
       "          -18.420681],\n",
       "         ..., \n",
       "         [-18.420681, -18.420681, -18.420681, ..., -18.420681, -18.420681,\n",
       "          -18.420681],\n",
       "         [-18.420681, -18.420681, -18.420681, ..., -18.420681, -18.420681,\n",
       "          -18.420681],\n",
       "         [-18.420681, -18.420681, -18.420681, ..., -18.420681, -18.420681,\n",
       "          -18.420681]],\n",
       " \n",
       "        [[-18.420681, -18.420681, -18.420681, ..., -18.420681, -18.420681,\n",
       "          -18.420681],\n",
       "         [-18.420681, -18.420681, -18.420681, ..., -18.420681, -18.420681,\n",
       "          -18.420681],\n",
       "         [-18.420681, -18.420681, -18.420681, ..., -18.420681, -18.420681,\n",
       "          -18.420681],\n",
       "         ..., \n",
       "         [-18.420681, -18.420681, -18.420681, ..., -18.420681, -18.420681,\n",
       "          -18.420681],\n",
       "         [-18.420681, -18.420681, -18.420681, ..., -18.420681, -18.420681,\n",
       "          -18.420681],\n",
       "         [-18.420681, -18.420681, -18.420681, ..., -18.420681, -18.420681,\n",
       "          -18.420681]],\n",
       " \n",
       "        [[-18.420681, -18.420681, -18.420681, ..., -18.420681, -18.420681,\n",
       "          -18.420681],\n",
       "         [-18.420681, -18.420681, -18.420681, ..., -18.420681, -18.420681,\n",
       "          -18.420681],\n",
       "         [-18.420681, -18.420681, -18.420681, ..., -18.420681, -18.420681,\n",
       "          -18.420681],\n",
       "         ..., \n",
       "         [-18.420681, -18.420681, -18.420681, ..., -18.420681, -18.420681,\n",
       "          -18.420681],\n",
       "         [-18.420681, -18.420681, -18.420681, ..., -18.420681, -18.420681,\n",
       "          -18.420681],\n",
       "         [-18.420681, -18.420681, -18.420681, ..., -18.420681, -18.420681,\n",
       "          -18.420681]],\n",
       " \n",
       "        [[-18.420681, -18.420681, -18.420681, ..., -18.420681, -18.420681,\n",
       "          -18.420681],\n",
       "         [-18.420681, -18.420681, -18.420681, ..., -18.420681, -18.420681,\n",
       "          -18.420681],\n",
       "         [-18.420681, -18.420681, -18.420681, ..., -18.420681, -18.420681,\n",
       "          -18.420681],\n",
       "         ..., \n",
       "         [-18.420681, -18.420681, -18.420681, ..., -18.420681, -18.420681,\n",
       "          -18.420681],\n",
       "         [-18.420681, -18.420681, -18.420681, ..., -18.420681, -18.420681,\n",
       "          -18.420681],\n",
       "         [-18.420681, -18.420681, -18.420681, ..., -18.420681, -18.420681,\n",
       "          -18.420681]],\n",
       " \n",
       "        [[-18.420681, -18.420681, -18.420681, ..., -18.420681, -18.420681,\n",
       "          -18.420681],\n",
       "         [-18.420681, -18.420681, -18.420681, ..., -18.420681, -18.420681,\n",
       "          -18.420681],\n",
       "         [-18.420681, -18.420681, -18.420681, ..., -18.420681, -18.420681,\n",
       "          -18.420681],\n",
       "         ..., \n",
       "         [-18.420681, -18.420681, -18.420681, ..., -18.420681, -18.420681,\n",
       "          -18.420681],\n",
       "         [-18.420681, -18.420681, -18.420681, ..., -18.420681, -18.420681,\n",
       "          -18.420681],\n",
       "         [-18.420681, -18.420681, -18.420681, ..., -18.420681, -18.420681,\n",
       "          -18.420681]]], dtype=float32),\n",
       " array([[ 0.,  0.,  0.,  0.,  0.,  0.,  0.,  0.,  0.,  0.,  0.,  0.,  0.,\n",
       "          0.,  0.,  0.,  0.,  0.,  0.,  0.,  0.,  0.,  0.,  0.,  0.,  0.,\n",
       "          0.,  0.,  0.,  0.,  0.,  0.,  0.,  0.,  0.,  0.,  0.,  0.,  0.,\n",
       "          0.,  0.,  0.,  0.,  0.,  0.,  0.,  0.,  0.,  0.,  0.,  0.,  0.,\n",
       "          0.,  0.,  0.,  0.,  0.,  0.,  0.,  0.,  0.,  0.,  0.,  0.,  0.,\n",
       "          0.,  0.,  0.,  0.,  0.,  0.,  0.,  0.,  0.,  0.,  0.,  0.,  0.,\n",
       "          0.,  0.,  0.,  0.,  0.,  0.,  0.,  0.,  0.,  0.,  0.,  0.,  0.,\n",
       "          0.,  0.,  0.,  0.,  0.,  0.,  0.,  0.,  0.,  0.,  0.,  0.,  0.,\n",
       "          0.,  0.,  0.,  0.,  0.,  0.,  0.,  0.,  0.,  0.,  0.,  0.,  0.,\n",
       "          0.,  0.,  0.,  0.,  0.],\n",
       "        [ 0.,  0.,  0.,  0.,  0.,  0.,  0.,  0.,  0.,  0.,  0.,  0.,  0.,\n",
       "          0.,  0.,  0.,  0.,  0.,  0.,  0.,  0.,  0.,  0.,  0.,  0.,  0.,\n",
       "          0.,  0.,  0.,  0.,  0.,  0.,  0.,  0.,  0.,  0.,  0.,  0.,  0.,\n",
       "          0.,  0.,  0.,  0.,  0.,  0.,  0.,  0.,  0.,  0.,  0.,  0.,  0.,\n",
       "          0.,  0.,  0.,  0.,  0.,  0.,  0.,  0.,  0.,  0.,  0.,  0.,  0.,\n",
       "          0.,  0.,  0.,  0.,  0.,  0.,  0.,  0.,  0.,  0.,  0.,  0.,  0.,\n",
       "          0.,  0.,  0.,  0.,  0.,  0.,  0.,  0.,  0.,  0.,  0.,  0.,  0.,\n",
       "          0.,  0.,  0.,  0.,  0.,  0.,  0.,  0.,  0.,  0.,  0.,  0.,  0.,\n",
       "          0.,  0.,  0.,  0.,  0.,  0.,  0.,  0.,  0.,  0.,  0.,  0.,  0.,\n",
       "          0.,  0.,  0.,  0.,  0.],\n",
       "        [ 0.,  0.,  0.,  0.,  0.,  0.,  0.,  0.,  0.,  0.,  0.,  0.,  0.,\n",
       "          0.,  0.,  0.,  0.,  0.,  0.,  0.,  0.,  0.,  0.,  0.,  0.,  0.,\n",
       "          0.,  0.,  0.,  0.,  0.,  0.,  0.,  0.,  0.,  0.,  0.,  0.,  0.,\n",
       "          0.,  0.,  0.,  0.,  0.,  0.,  0.,  0.,  0.,  0.,  0.,  0.,  0.,\n",
       "          0.,  0.,  0.,  0.,  0.,  0.,  0.,  0.,  0.,  0.,  0.,  0.,  0.,\n",
       "          0.,  0.,  0.,  0.,  0.,  0.,  0.,  0.,  0.,  0.,  0.,  0.,  0.,\n",
       "          0.,  0.,  0.,  0.,  0.,  0.,  0.,  0.,  0.,  0.,  0.,  0.,  0.,\n",
       "          0.,  0.,  0.,  0.,  0.,  0.,  0.,  0.,  0.,  0.,  0.,  0.,  0.,\n",
       "          0.,  0.,  0.,  0.,  0.,  0.,  0.,  0.,  0.,  0.,  0.,  0.,  0.,\n",
       "          0.,  0.,  0.,  0.,  0.],\n",
       "        [ 0.,  0.,  0.,  0.,  0.,  0.,  0.,  0.,  0.,  0.,  0.,  0.,  0.,\n",
       "          0.,  0.,  0.,  0.,  0.,  0.,  0.,  0.,  0.,  0.,  0.,  0.,  0.,\n",
       "          0.,  0.,  0.,  0.,  0.,  0.,  0.,  0.,  0.,  0.,  0.,  0.,  0.,\n",
       "          0.,  0.,  0.,  0.,  0.,  0.,  0.,  0.,  0.,  0.,  0.,  0.,  0.,\n",
       "          0.,  0.,  0.,  0.,  0.,  0.,  0.,  0.,  0.,  0.,  0.,  0.,  0.,\n",
       "          0.,  0.,  0.,  0.,  0.,  0.,  0.,  0.,  0.,  0.,  0.,  0.,  0.,\n",
       "          0.,  0.,  0.,  0.,  0.,  0.,  0.,  0.,  0.,  0.,  0.,  0.,  0.,\n",
       "          0.,  0.,  0.,  0.,  0.,  0.,  0.,  0.,  0.,  0.,  0.,  0.,  0.,\n",
       "          0.,  0.,  0.,  0.,  0.,  0.,  0.,  0.,  0.,  0.,  0.,  0.,  0.,\n",
       "          0.,  0.,  0.,  0.,  0.],\n",
       "        [ 0.,  0.,  0.,  0.,  0.,  0.,  0.,  0.,  0.,  0.,  0.,  0.,  0.,\n",
       "          0.,  0.,  0.,  0.,  0.,  0.,  0.,  0.,  0.,  0.,  0.,  0.,  0.,\n",
       "          0.,  0.,  0.,  0.,  0.,  0.,  0.,  0.,  0.,  0.,  0.,  0.,  0.,\n",
       "          0.,  0.,  0.,  0.,  0.,  0.,  0.,  0.,  0.,  0.,  0.,  0.,  0.,\n",
       "          0.,  0.,  0.,  0.,  0.,  0.,  0.,  0.,  0.,  0.,  0.,  0.,  0.,\n",
       "          0.,  0.,  0.,  0.,  0.,  0.,  0.,  0.,  0.,  0.,  0.,  0.,  0.,\n",
       "          0.,  0.,  0.,  0.,  0.,  0.,  0.,  0.,  0.,  0.,  0.,  0.,  0.,\n",
       "          0.,  0.,  0.,  0.,  0.,  0.,  0.,  0.,  0.,  0.,  0.,  0.,  0.,\n",
       "          0.,  0.,  0.,  0.,  0.,  0.,  0.,  0.,  0.,  0.,  0.,  0.,  0.,\n",
       "          0.,  0.,  0.,  0.,  0.]], dtype=float32),\n",
       " array([[ 0.,  0.,  0.,  0.,  0.,  0.,  0.,  0.,  0.,  0.,  0.,  0.,  0.,\n",
       "          0.,  0.,  0.,  0.,  0.,  0.,  0.,  0.,  0.,  0.,  0.,  0.,  0.,\n",
       "          0.,  0.,  0.,  0.,  0.,  0.,  0.,  0.,  0.,  0.,  0.,  0.,  0.,\n",
       "          0.,  0.,  0.,  0.,  0.,  0.,  0.,  0.,  0.,  0.,  0.,  0.,  0.,\n",
       "          0.,  0.,  0.,  0.,  0.,  0.,  0.,  0.,  0.,  0.,  0.,  0.,  0.,\n",
       "          0.,  0.,  0.,  0.,  0.,  0.,  0.,  0.,  0.,  0.,  0.,  0.,  0.,\n",
       "          0.,  0.,  0.,  0.,  0.,  0.,  0.,  0.,  0.,  0.,  0.,  0.,  0.,\n",
       "          0.,  0.,  0.,  0.,  0.,  0.,  0.,  0.,  0.,  0.,  0.,  0.,  0.,\n",
       "          0.,  0.,  0.,  0.,  0.,  0.,  0.,  0.,  0.,  0.,  0.,  0.,  0.,\n",
       "          0.,  0.,  0.,  0.,  0.],\n",
       "        [ 0.,  0.,  0.,  0.,  0.,  0.,  0.,  0.,  0.,  0.,  0.,  0.,  0.,\n",
       "          0.,  0.,  0.,  0.,  0.,  0.,  0.,  0.,  0.,  0.,  0.,  0.,  0.,\n",
       "          0.,  0.,  0.,  0.,  0.,  0.,  0.,  0.,  0.,  0.,  0.,  0.,  0.,\n",
       "          0.,  0.,  0.,  0.,  0.,  0.,  0.,  0.,  0.,  0.,  0.,  0.,  0.,\n",
       "          0.,  0.,  0.,  0.,  0.,  0.,  0.,  0.,  0.,  0.,  0.,  0.,  0.,\n",
       "          0.,  0.,  0.,  0.,  0.,  0.,  0.,  0.,  0.,  0.,  0.,  0.,  0.,\n",
       "          0.,  0.,  0.,  0.,  0.,  0.,  0.,  0.,  0.,  0.,  0.,  0.,  0.,\n",
       "          0.,  0.,  0.,  0.,  0.,  0.,  0.,  0.,  0.,  0.,  0.,  0.,  0.,\n",
       "          0.,  0.,  0.,  0.,  0.,  0.,  0.,  0.,  0.,  0.,  0.,  0.,  0.,\n",
       "          0.,  0.,  0.,  0.,  0.],\n",
       "        [ 0.,  0.,  0.,  0.,  0.,  0.,  0.,  0.,  0.,  0.,  0.,  0.,  0.,\n",
       "          0.,  0.,  0.,  0.,  0.,  0.,  0.,  0.,  0.,  0.,  0.,  0.,  0.,\n",
       "          0.,  0.,  0.,  0.,  0.,  0.,  0.,  0.,  0.,  0.,  0.,  0.,  0.,\n",
       "          0.,  0.,  0.,  0.,  0.,  0.,  0.,  0.,  0.,  0.,  0.,  0.,  0.,\n",
       "          0.,  0.,  0.,  0.,  0.,  0.,  0.,  0.,  0.,  0.,  0.,  0.,  0.,\n",
       "          0.,  0.,  0.,  0.,  0.,  0.,  0.,  0.,  0.,  0.,  0.,  0.,  0.,\n",
       "          0.,  0.,  0.,  0.,  0.,  0.,  0.,  0.,  0.,  0.,  0.,  0.,  0.,\n",
       "          0.,  0.,  0.,  0.,  0.,  0.,  0.,  0.,  0.,  0.,  0.,  0.,  0.,\n",
       "          0.,  0.,  0.,  0.,  0.,  0.,  0.,  0.,  0.,  0.,  0.,  0.,  0.,\n",
       "          0.,  0.,  0.,  0.,  0.],\n",
       "        [ 0.,  0.,  0.,  0.,  0.,  0.,  0.,  0.,  0.,  0.,  0.,  0.,  0.,\n",
       "          0.,  0.,  0.,  0.,  0.,  0.,  0.,  0.,  0.,  0.,  0.,  0.,  0.,\n",
       "          0.,  0.,  0.,  0.,  0.,  0.,  0.,  0.,  0.,  0.,  0.,  0.,  0.,\n",
       "          0.,  0.,  0.,  0.,  0.,  0.,  0.,  0.,  0.,  0.,  0.,  0.,  0.,\n",
       "          0.,  0.,  0.,  0.,  0.,  0.,  0.,  0.,  0.,  0.,  0.,  0.,  0.,\n",
       "          0.,  0.,  0.,  0.,  0.,  0.,  0.,  0.,  0.,  0.,  0.,  0.,  0.,\n",
       "          0.,  0.,  0.,  0.,  0.,  0.,  0.,  0.,  0.,  0.,  0.,  0.,  0.,\n",
       "          0.,  0.,  0.,  0.,  0.,  0.,  0.,  0.,  0.,  0.,  0.,  0.,  0.,\n",
       "          0.,  0.,  0.,  0.,  0.,  0.,  0.,  0.,  0.,  0.,  0.,  0.,  0.,\n",
       "          0.,  0.,  0.,  0.,  0.],\n",
       "        [ 0.,  0.,  0.,  0.,  0.,  0.,  0.,  0.,  0.,  0.,  0.,  0.,  0.,\n",
       "          0.,  0.,  0.,  0.,  0.,  0.,  0.,  0.,  0.,  0.,  0.,  0.,  0.,\n",
       "          0.,  0.,  0.,  0.,  0.,  0.,  0.,  0.,  0.,  0.,  0.,  0.,  0.,\n",
       "          0.,  0.,  0.,  0.,  0.,  0.,  0.,  0.,  0.,  0.,  0.,  0.,  0.,\n",
       "          0.,  0.,  0.,  0.,  0.,  0.,  0.,  0.,  0.,  0.,  0.,  0.,  0.,\n",
       "          0.,  0.,  0.,  0.,  0.,  0.,  0.,  0.,  0.,  0.,  0.,  0.,  0.,\n",
       "          0.,  0.,  0.,  0.,  0.,  0.,  0.,  0.,  0.,  0.,  0.,  0.,  0.,\n",
       "          0.,  0.,  0.,  0.,  0.,  0.,  0.,  0.,  0.,  0.,  0.,  0.,  0.,\n",
       "          0.,  0.,  0.,  0.,  0.,  0.,  0.,  0.,  0.,  0.,  0.,  0.,  0.,\n",
       "          0.,  0.,  0.,  0.,  0.]], dtype=float32))"
      ]
     },
     "execution_count": 42,
     "metadata": {},
     "output_type": "execute_result"
    }
   ],
   "source": [
    "sess.run(test, feed_dict={X_data:np.zeros((5,16000))})"
   ]
  },
  {
   "cell_type": "code",
   "execution_count": null,
   "metadata": {
    "collapsed": true,
    "deletable": true,
    "editable": true
   },
   "outputs": [],
   "source": []
  },
  {
   "cell_type": "code",
   "execution_count": null,
   "metadata": {
    "collapsed": false,
    "deletable": true,
    "editable": true
   },
   "outputs": [
    {
     "data": {
      "text/plain": [
       "array([[  0.00000000e+00,   1.00000000e+00,   2.00000000e+00, ...,\n",
       "          1.59970000e+04,   1.59980000e+04,   1.59990000e+04],\n",
       "       [  0.00000000e+00,   2.00000000e-01,   4.00000000e-01, ...,\n",
       "          3.19940000e+03,   3.19960000e+03,   3.19980000e+03],\n",
       "       [  0.00000000e+00,   1.00000000e-02,   2.00000000e-02, ...,\n",
       "          1.59970000e+02,   1.59980000e+02,   1.59990000e+02]])"
      ]
     },
     "execution_count": 43,
     "metadata": {},
     "output_type": "execute_result"
    }
   ],
   "source": [
    "b2"
   ]
  },
  {
   "cell_type": "code",
   "execution_count": null,
   "metadata": {
    "collapsed": true,
    "deletable": true,
    "editable": true
   },
   "outputs": [],
   "source": [
    "X_mfccs, X_log_mel_spectrograms, X_zcr, X_rmse = sess.run(signalProcessBatch(f))"
   ]
  },
  {
   "cell_type": "code",
   "execution_count": null,
   "metadata": {
    "collapsed": false,
    "deletable": true,
    "editable": true
   },
   "outputs": [],
   "source": [
    "X_mfccs.shape"
   ]
  },
  {
   "cell_type": "code",
   "execution_count": null,
   "metadata": {
    "collapsed": false,
    "deletable": true,
    "editable": true
   },
   "outputs": [],
   "source": [
    "plt.pcolormesh(X_mfccs[0].T)\n",
    "plt.colorbar();"
   ]
  },
  {
   "cell_type": "code",
   "execution_count": null,
   "metadata": {
    "collapsed": false,
    "deletable": true,
    "editable": true
   },
   "outputs": [],
   "source": [
    "X_mfccs_norm = sess.run(tf.nn.l2_normalize(X_mfccs, 1, epsilon=1e-8))"
   ]
  },
  {
   "cell_type": "code",
   "execution_count": null,
   "metadata": {
    "collapsed": false,
    "deletable": true,
    "editable": true
   },
   "outputs": [],
   "source": [
    "plt.pcolormesh(X_mfccs_norm[0].T)\n",
    "plt.colorbar();"
   ]
  },
  {
   "cell_type": "code",
   "execution_count": null,
   "metadata": {
    "collapsed": false,
    "deletable": true,
    "editable": true
   },
   "outputs": [],
   "source": [
    "plt.plot(X_rmse[0]);"
   ]
  },
  {
   "cell_type": "code",
   "execution_count": null,
   "metadata": {
    "collapsed": false,
    "deletable": true,
    "editable": true
   },
   "outputs": [],
   "source": [
    "plt.plot(X_mfccs_norm[0].T[2]);"
   ]
  },
  {
   "cell_type": "code",
   "execution_count": null,
   "metadata": {
    "collapsed": true,
    "deletable": true,
    "editable": true
   },
   "outputs": [],
   "source": [
    "zcr_delta = tf_diff_axis(X_zcr)\n",
    "rmse_delta = tf_diff_axis(X_rmse)"
   ]
  },
  {
   "cell_type": "code",
   "execution_count": null,
   "metadata": {
    "collapsed": false,
    "deletable": true,
    "editable": true
   },
   "outputs": [],
   "source": [
    "X_rmse"
   ]
  },
  {
   "cell_type": "code",
   "execution_count": null,
   "metadata": {
    "collapsed": true,
    "deletable": true,
    "editable": true
   },
   "outputs": [],
   "source": []
  },
  {
   "cell_type": "code",
   "execution_count": null,
   "metadata": {
    "collapsed": true
   },
   "outputs": [],
   "source": []
  }
 ],
 "metadata": {
  "kernelspec": {
   "display_name": "Python 2",
   "language": "python",
   "name": "python2"
  },
  "language_info": {
   "codemirror_mode": {
    "name": "ipython",
    "version": 2
   },
   "file_extension": ".py",
   "mimetype": "text/x-python",
   "name": "python",
   "nbconvert_exporter": "python",
   "pygments_lexer": "ipython2",
   "version": "2.7.14"
  }
 },
 "nbformat": 4,
 "nbformat_minor": 2
}
